{
 "cells": [
  {
   "cell_type": "code",
   "execution_count": 1,
   "metadata": {},
   "outputs": [],
   "source": [
    "import pandas as pd"
   ]
  },
  {
   "cell_type": "code",
   "execution_count": 6,
   "metadata": {},
   "outputs": [],
   "source": [
    "income_statement = pd.read_csv(\"../desktop/TSLA_annual_financials.csv\")"
   ]
  },
  {
   "cell_type": "code",
   "execution_count": 121,
   "metadata": {},
   "outputs": [
    {
     "data": {
      "text/html": [
       "<div>\n",
       "<style scoped>\n",
       "    .dataframe tbody tr th:only-of-type {\n",
       "        vertical-align: middle;\n",
       "    }\n",
       "\n",
       "    .dataframe tbody tr th {\n",
       "        vertical-align: top;\n",
       "    }\n",
       "\n",
       "    .dataframe thead th {\n",
       "        text-align: right;\n",
       "    }\n",
       "</style>\n",
       "<table border=\"1\" class=\"dataframe\">\n",
       "  <thead>\n",
       "    <tr style=\"text-align: right;\">\n",
       "      <th></th>\n",
       "      <th>ttm</th>\n",
       "      <th>12/31/2019</th>\n",
       "      <th>12/31/2018</th>\n",
       "      <th>12/31/2017</th>\n",
       "      <th>12/31/2016</th>\n",
       "      <th>12/31/2015</th>\n",
       "      <th>12/31/2014</th>\n",
       "      <th>12/31/2013</th>\n",
       "      <th>12/31/2012</th>\n",
       "      <th>12/31/2011</th>\n",
       "      <th>12/31/2010</th>\n",
       "      <th>12/31/2009</th>\n",
       "      <th>12/31/2008</th>\n",
       "      <th>12/31/2007</th>\n",
       "    </tr>\n",
       "    <tr>\n",
       "      <th>name</th>\n",
       "      <th></th>\n",
       "      <th></th>\n",
       "      <th></th>\n",
       "      <th></th>\n",
       "      <th></th>\n",
       "      <th></th>\n",
       "      <th></th>\n",
       "      <th></th>\n",
       "      <th></th>\n",
       "      <th></th>\n",
       "      <th></th>\n",
       "      <th></th>\n",
       "      <th></th>\n",
       "      <th></th>\n",
       "    </tr>\n",
       "  </thead>\n",
       "  <tbody>\n",
       "    <tr>\n",
       "      <td>TotalRevenue</td>\n",
       "      <td>24,578,000,000</td>\n",
       "      <td>24,578,000,000</td>\n",
       "      <td>21,461,268,000</td>\n",
       "      <td>11,758,751,000</td>\n",
       "      <td>7,000,132,000</td>\n",
       "      <td>4,046,025,000</td>\n",
       "      <td>3,198,356,000</td>\n",
       "      <td>2,013,496,000</td>\n",
       "      <td>413,256,000</td>\n",
       "      <td>204,242,000</td>\n",
       "      <td>116,744,000</td>\n",
       "      <td>111,943,000</td>\n",
       "      <td>14,742,000</td>\n",
       "      <td>73,000</td>\n",
       "    </tr>\n",
       "    <tr>\n",
       "      <td>CostOfRevenue</td>\n",
       "      <td>20,509,000,000</td>\n",
       "      <td>20,509,000,000</td>\n",
       "      <td>17,419,247,000</td>\n",
       "      <td>9,536,264,000</td>\n",
       "      <td>5,400,875,000</td>\n",
       "      <td>3,122,522,000</td>\n",
       "      <td>2,316,685,000</td>\n",
       "      <td>1,557,234,000</td>\n",
       "      <td>383,189,000</td>\n",
       "      <td>142,647,000</td>\n",
       "      <td>86,013,000</td>\n",
       "      <td>102,408,000</td>\n",
       "      <td>15,883,000</td>\n",
       "      <td>9,000</td>\n",
       "    </tr>\n",
       "    <tr>\n",
       "      <td>GrossProfit</td>\n",
       "      <td>4,069,000,000</td>\n",
       "      <td>4,069,000,000</td>\n",
       "      <td>4,042,021,000</td>\n",
       "      <td>2,222,487,000</td>\n",
       "      <td>1,599,257,000</td>\n",
       "      <td>923,503,000</td>\n",
       "      <td>881,671,000</td>\n",
       "      <td>456,262,000</td>\n",
       "      <td>30,067,000</td>\n",
       "      <td>61,595,000</td>\n",
       "      <td>30,731,000</td>\n",
       "      <td>9,535,000</td>\n",
       "      <td>-1,141,000</td>\n",
       "      <td>64,000</td>\n",
       "    </tr>\n",
       "    <tr>\n",
       "      <td>OperatingExpense</td>\n",
       "      <td>3,989,000,000</td>\n",
       "      <td>3,989,000,000</td>\n",
       "      <td>4,294,861,000</td>\n",
       "      <td>3,854,573,000</td>\n",
       "      <td>2,266,597,000</td>\n",
       "      <td>1,640,132,000</td>\n",
       "      <td>1,068,360,000</td>\n",
       "      <td>517,545,000</td>\n",
       "      <td>424,350,000</td>\n",
       "      <td>313,083,000</td>\n",
       "      <td>177,569,000</td>\n",
       "      <td>61,432,000</td>\n",
       "      <td>77,363,000</td>\n",
       "      <td>79,997,000</td>\n",
       "    </tr>\n",
       "    <tr>\n",
       "      <td>\\tResearchAndDevelopment</td>\n",
       "      <td>1,343,000,000</td>\n",
       "      <td>1,343,000,000</td>\n",
       "      <td>1,460,370,000</td>\n",
       "      <td>1,378,073,000</td>\n",
       "      <td>834,408,000</td>\n",
       "      <td>717,900,000</td>\n",
       "      <td>464,700,000</td>\n",
       "      <td>231,976,000</td>\n",
       "      <td>273,978,000</td>\n",
       "      <td>208,981,000</td>\n",
       "      <td>92,996,000</td>\n",
       "      <td>19,282,000</td>\n",
       "      <td>53,714,000</td>\n",
       "      <td>62,753,000</td>\n",
       "    </tr>\n",
       "    <tr>\n",
       "      <td>\\tSellingGeneralAndAdministration</td>\n",
       "      <td>2,646,000,000</td>\n",
       "      <td>2,646,000,000</td>\n",
       "      <td>2,834,491,000</td>\n",
       "      <td>2,476,500,000</td>\n",
       "      <td>1,432,189,000</td>\n",
       "      <td>922,232,000</td>\n",
       "      <td>603,660,000</td>\n",
       "      <td>285,569,000</td>\n",
       "      <td>150,372,000</td>\n",
       "      <td>104,102,000</td>\n",
       "      <td>84,573,000</td>\n",
       "      <td>42,150,000</td>\n",
       "      <td>23,649,000</td>\n",
       "      <td>17,244,000</td>\n",
       "    </tr>\n",
       "    <tr>\n",
       "      <td>\\tOperatingExpense</td>\n",
       "      <td>3,989,000,000</td>\n",
       "      <td>3,989,000,000</td>\n",
       "      <td>4,294,861,000</td>\n",
       "      <td>3,854,573,000</td>\n",
       "      <td>2,266,597,000</td>\n",
       "      <td>1,640,132,000</td>\n",
       "      <td>1,068,360,000</td>\n",
       "      <td>517,545,000</td>\n",
       "      <td>424,350,000</td>\n",
       "      <td>313,083,000</td>\n",
       "      <td>177,569,000</td>\n",
       "      <td>61,432,000</td>\n",
       "      <td>77,363,000</td>\n",
       "      <td>79,997,000</td>\n",
       "    </tr>\n",
       "    <tr>\n",
       "      <td>OperatingIncome</td>\n",
       "      <td>80,000,000</td>\n",
       "      <td>80,000,000</td>\n",
       "      <td>-252,840,000</td>\n",
       "      <td>-1,632,086,000</td>\n",
       "      <td>-667,340,000</td>\n",
       "      <td>-716,629,000</td>\n",
       "      <td>-186,689,000</td>\n",
       "      <td>-61,283,000</td>\n",
       "      <td>-394,283,000</td>\n",
       "      <td>-251,488,000</td>\n",
       "      <td>-146,838,000</td>\n",
       "      <td>-51,897,000</td>\n",
       "      <td>-78,504,000</td>\n",
       "      <td>-79,933,000</td>\n",
       "    </tr>\n",
       "    <tr>\n",
       "      <td>InterestExpense</td>\n",
       "      <td>685,000,000</td>\n",
       "      <td>685,000,000</td>\n",
       "      <td>663,071,000</td>\n",
       "      <td>471,259,000</td>\n",
       "      <td>198,810,000</td>\n",
       "      <td>118,851,000</td>\n",
       "      <td>100,886,000</td>\n",
       "      <td>32,934,000</td>\n",
       "      <td>254,000</td>\n",
       "      <td>43,000</td>\n",
       "      <td>992,000</td>\n",
       "      <td>2,531,000</td>\n",
       "      <td>3,747,000</td>\n",
       "      <td>0</td>\n",
       "    </tr>\n",
       "    <tr>\n",
       "      <td>OtherIncomeExpense</td>\n",
       "      <td>-104,000,000</td>\n",
       "      <td>-104,000,000</td>\n",
       "      <td>-113,367,000</td>\n",
       "      <td>-125,373,000</td>\n",
       "      <td>111,272,000</td>\n",
       "      <td>-41,652,000</td>\n",
       "      <td>1,813,000</td>\n",
       "      <td>22,602,000</td>\n",
       "      <td>-1,828,000</td>\n",
       "      <td>-2,646,000</td>\n",
       "      <td>-6,583,000</td>\n",
       "      <td>-1,445,000</td>\n",
       "      <td>-963,000</td>\n",
       "      <td>137,000</td>\n",
       "    </tr>\n",
       "    <tr>\n",
       "      <td>PretaxIncome</td>\n",
       "      <td>-665,000,000</td>\n",
       "      <td>-665,000,000</td>\n",
       "      <td>-1,004,745,000</td>\n",
       "      <td>-2,209,032,000</td>\n",
       "      <td>-746,348,000</td>\n",
       "      <td>-875,624,000</td>\n",
       "      <td>-284,636,000</td>\n",
       "      <td>-71,426,000</td>\n",
       "      <td>-396,077,000</td>\n",
       "      <td>-253,922,000</td>\n",
       "      <td>-154,155,000</td>\n",
       "      <td>-55,714,000</td>\n",
       "      <td>-82,685,000</td>\n",
       "      <td>-78,047,000</td>\n",
       "    </tr>\n",
       "    <tr>\n",
       "      <td>TaxProvision</td>\n",
       "      <td>110,000,000</td>\n",
       "      <td>110,000,000</td>\n",
       "      <td>57,837,000</td>\n",
       "      <td>31,546,000</td>\n",
       "      <td>26,698,000</td>\n",
       "      <td>13,039,000</td>\n",
       "      <td>9,404,000</td>\n",
       "      <td>2,588,000</td>\n",
       "      <td>136,000</td>\n",
       "      <td>489,000</td>\n",
       "      <td>173,000</td>\n",
       "      <td>26,000</td>\n",
       "      <td>97,000</td>\n",
       "      <td>110,000</td>\n",
       "    </tr>\n",
       "    <tr>\n",
       "      <td>NetIncomeContinuousOperations</td>\n",
       "      <td>-775,000,000</td>\n",
       "      <td>-775,000,000</td>\n",
       "      <td>-1,062,582,000</td>\n",
       "      <td>-2,240,578,000</td>\n",
       "      <td>-773,046,000</td>\n",
       "      <td>-888,663,000</td>\n",
       "      <td>-294,040,000</td>\n",
       "      <td>-74,014,000</td>\n",
       "      <td>-396,213,000</td>\n",
       "      <td>-254,411,000</td>\n",
       "      <td>-154,328,000</td>\n",
       "      <td>-55,740,000</td>\n",
       "      <td>-82,782,000</td>\n",
       "      <td>-78,157,000</td>\n",
       "    </tr>\n",
       "    <tr>\n",
       "      <td>NetIncome</td>\n",
       "      <td>-862,000,000</td>\n",
       "      <td>-862,000,000</td>\n",
       "      <td>-976,091,000</td>\n",
       "      <td>-1,961,400,000</td>\n",
       "      <td>-674,914,000</td>\n",
       "      <td>-888,663,000</td>\n",
       "      <td>-294,040,000</td>\n",
       "      <td>-74,014,000</td>\n",
       "      <td>-396,213,000</td>\n",
       "      <td>-254,411,000</td>\n",
       "      <td>-154,328,000</td>\n",
       "      <td>-55,740,000</td>\n",
       "      <td>-82,782,000</td>\n",
       "      <td>-78,157,000</td>\n",
       "    </tr>\n",
       "    <tr>\n",
       "      <td>NetIncomeCommonStockholders</td>\n",
       "      <td>-862,000,000</td>\n",
       "      <td>-862,000,000</td>\n",
       "      <td>-976,091,000</td>\n",
       "      <td>-1,961,400,000</td>\n",
       "      <td>-674,914,000</td>\n",
       "      <td>-888,663,000</td>\n",
       "      <td>-294,040,000</td>\n",
       "      <td>-74,014,000</td>\n",
       "      <td>-396,213,000</td>\n",
       "      <td>-254,411,000</td>\n",
       "      <td>-154,328,000</td>\n",
       "      <td>-55,740,000</td>\n",
       "      <td>-82,782,000</td>\n",
       "      <td>-78,157,000</td>\n",
       "    </tr>\n",
       "    <tr>\n",
       "      <td>BasicEPS</td>\n",
       "      <td>NaN</td>\n",
       "      <td>NaN</td>\n",
       "      <td>-5.72</td>\n",
       "      <td>-11.83</td>\n",
       "      <td>-4.68</td>\n",
       "      <td>-6.93</td>\n",
       "      <td>-2.36</td>\n",
       "      <td>-0.62</td>\n",
       "      <td>-3.69</td>\n",
       "      <td>-2.53</td>\n",
       "      <td>-3.04</td>\n",
       "      <td>-0.7</td>\n",
       "      <td>-1.062</td>\n",
       "      <td>-1.002</td>\n",
       "    </tr>\n",
       "    <tr>\n",
       "      <td>DilutedEPS</td>\n",
       "      <td>NaN</td>\n",
       "      <td>NaN</td>\n",
       "      <td>-5.72</td>\n",
       "      <td>-11.83</td>\n",
       "      <td>-4.68</td>\n",
       "      <td>-6.93</td>\n",
       "      <td>-2.36</td>\n",
       "      <td>-0.62</td>\n",
       "      <td>-3.69</td>\n",
       "      <td>-2.53</td>\n",
       "      <td>-3.04</td>\n",
       "      <td>-0.7</td>\n",
       "      <td>-1.062</td>\n",
       "      <td>-1.002</td>\n",
       "    </tr>\n",
       "    <tr>\n",
       "      <td>BasicAverageShares</td>\n",
       "      <td>NaN</td>\n",
       "      <td>NaN</td>\n",
       "      <td>170,525,000</td>\n",
       "      <td>165,758,000</td>\n",
       "      <td>144,212,000</td>\n",
       "      <td>128,202,000</td>\n",
       "      <td>124,573,000</td>\n",
       "      <td>119,421,000</td>\n",
       "      <td>107,349,000</td>\n",
       "      <td>100,388,815</td>\n",
       "      <td>50,718,302</td>\n",
       "      <td>77,693,854</td>\n",
       "      <td>77,973,831</td>\n",
       "      <td>77,973,831</td>\n",
       "    </tr>\n",
       "    <tr>\n",
       "      <td>DilutedAverageShares</td>\n",
       "      <td>NaN</td>\n",
       "      <td>NaN</td>\n",
       "      <td>170,525,000</td>\n",
       "      <td>165,758,000</td>\n",
       "      <td>144,212,000</td>\n",
       "      <td>128,202,000</td>\n",
       "      <td>124,573,000</td>\n",
       "      <td>119,421,000</td>\n",
       "      <td>107,349,000</td>\n",
       "      <td>100,388,815</td>\n",
       "      <td>50,718,302</td>\n",
       "      <td>77,693,854</td>\n",
       "      <td>77,973,831</td>\n",
       "      <td>77,973,831</td>\n",
       "    </tr>\n",
       "    <tr>\n",
       "      <td>Ebitda</td>\n",
       "      <td>NaN</td>\n",
       "      <td>2,174,000,000</td>\n",
       "      <td>1,559,376,000</td>\n",
       "      <td>-101,770,000</td>\n",
       "      <td>399,561,000</td>\n",
       "      <td>-334,183,000</td>\n",
       "      <td>48,181,000</td>\n",
       "      <td>67,591,000</td>\n",
       "      <td>-366,998,000</td>\n",
       "      <td>-236,960,000</td>\n",
       "      <td>-142,540,000</td>\n",
       "      <td>-46,243,000</td>\n",
       "      <td>-74,781,000</td>\n",
       "      <td>-75,152,000</td>\n",
       "    </tr>\n",
       "  </tbody>\n",
       "</table>\n",
       "</div>"
      ],
      "text/plain": [
       "                                              ttm      12/31/2019  \\\n",
       "name                                                                \n",
       "TotalRevenue                       24,578,000,000  24,578,000,000   \n",
       "CostOfRevenue                      20,509,000,000  20,509,000,000   \n",
       "GrossProfit                         4,069,000,000   4,069,000,000   \n",
       "OperatingExpense                    3,989,000,000   3,989,000,000   \n",
       "\\tResearchAndDevelopment            1,343,000,000   1,343,000,000   \n",
       "\\tSellingGeneralAndAdministration   2,646,000,000   2,646,000,000   \n",
       "\\tOperatingExpense                  3,989,000,000   3,989,000,000   \n",
       "OperatingIncome                        80,000,000      80,000,000   \n",
       "InterestExpense                       685,000,000     685,000,000   \n",
       "OtherIncomeExpense                   -104,000,000    -104,000,000   \n",
       "PretaxIncome                         -665,000,000    -665,000,000   \n",
       "TaxProvision                          110,000,000     110,000,000   \n",
       "NetIncomeContinuousOperations        -775,000,000    -775,000,000   \n",
       "NetIncome                            -862,000,000    -862,000,000   \n",
       "NetIncomeCommonStockholders          -862,000,000    -862,000,000   \n",
       "BasicEPS                                      NaN             NaN   \n",
       "DilutedEPS                                    NaN             NaN   \n",
       "BasicAverageShares                            NaN             NaN   \n",
       "DilutedAverageShares                          NaN             NaN   \n",
       "Ebitda                                        NaN   2,174,000,000   \n",
       "\n",
       "                                       12/31/2018      12/31/2017  \\\n",
       "name                                                                \n",
       "TotalRevenue                       21,461,268,000  11,758,751,000   \n",
       "CostOfRevenue                      17,419,247,000   9,536,264,000   \n",
       "GrossProfit                         4,042,021,000   2,222,487,000   \n",
       "OperatingExpense                    4,294,861,000   3,854,573,000   \n",
       "\\tResearchAndDevelopment            1,460,370,000   1,378,073,000   \n",
       "\\tSellingGeneralAndAdministration   2,834,491,000   2,476,500,000   \n",
       "\\tOperatingExpense                  4,294,861,000   3,854,573,000   \n",
       "OperatingIncome                      -252,840,000  -1,632,086,000   \n",
       "InterestExpense                       663,071,000     471,259,000   \n",
       "OtherIncomeExpense                   -113,367,000    -125,373,000   \n",
       "PretaxIncome                       -1,004,745,000  -2,209,032,000   \n",
       "TaxProvision                           57,837,000      31,546,000   \n",
       "NetIncomeContinuousOperations      -1,062,582,000  -2,240,578,000   \n",
       "NetIncome                            -976,091,000  -1,961,400,000   \n",
       "NetIncomeCommonStockholders          -976,091,000  -1,961,400,000   \n",
       "BasicEPS                                    -5.72          -11.83   \n",
       "DilutedEPS                                  -5.72          -11.83   \n",
       "BasicAverageShares                    170,525,000     165,758,000   \n",
       "DilutedAverageShares                  170,525,000     165,758,000   \n",
       "Ebitda                              1,559,376,000    -101,770,000   \n",
       "\n",
       "                                      12/31/2016     12/31/2015  \\\n",
       "name                                                              \n",
       "TotalRevenue                       7,000,132,000  4,046,025,000   \n",
       "CostOfRevenue                      5,400,875,000  3,122,522,000   \n",
       "GrossProfit                        1,599,257,000    923,503,000   \n",
       "OperatingExpense                   2,266,597,000  1,640,132,000   \n",
       "\\tResearchAndDevelopment             834,408,000    717,900,000   \n",
       "\\tSellingGeneralAndAdministration  1,432,189,000    922,232,000   \n",
       "\\tOperatingExpense                 2,266,597,000  1,640,132,000   \n",
       "OperatingIncome                     -667,340,000   -716,629,000   \n",
       "InterestExpense                      198,810,000    118,851,000   \n",
       "OtherIncomeExpense                   111,272,000    -41,652,000   \n",
       "PretaxIncome                        -746,348,000   -875,624,000   \n",
       "TaxProvision                          26,698,000     13,039,000   \n",
       "NetIncomeContinuousOperations       -773,046,000   -888,663,000   \n",
       "NetIncome                           -674,914,000   -888,663,000   \n",
       "NetIncomeCommonStockholders         -674,914,000   -888,663,000   \n",
       "BasicEPS                                   -4.68          -6.93   \n",
       "DilutedEPS                                 -4.68          -6.93   \n",
       "BasicAverageShares                   144,212,000    128,202,000   \n",
       "DilutedAverageShares                 144,212,000    128,202,000   \n",
       "Ebitda                               399,561,000   -334,183,000   \n",
       "\n",
       "                                      12/31/2014     12/31/2013    12/31/2012  \\\n",
       "name                                                                            \n",
       "TotalRevenue                       3,198,356,000  2,013,496,000   413,256,000   \n",
       "CostOfRevenue                      2,316,685,000  1,557,234,000   383,189,000   \n",
       "GrossProfit                          881,671,000    456,262,000    30,067,000   \n",
       "OperatingExpense                   1,068,360,000    517,545,000   424,350,000   \n",
       "\\tResearchAndDevelopment             464,700,000    231,976,000   273,978,000   \n",
       "\\tSellingGeneralAndAdministration    603,660,000    285,569,000   150,372,000   \n",
       "\\tOperatingExpense                 1,068,360,000    517,545,000   424,350,000   \n",
       "OperatingIncome                     -186,689,000    -61,283,000  -394,283,000   \n",
       "InterestExpense                      100,886,000     32,934,000       254,000   \n",
       "OtherIncomeExpense                     1,813,000     22,602,000    -1,828,000   \n",
       "PretaxIncome                        -284,636,000    -71,426,000  -396,077,000   \n",
       "TaxProvision                           9,404,000      2,588,000       136,000   \n",
       "NetIncomeContinuousOperations       -294,040,000    -74,014,000  -396,213,000   \n",
       "NetIncome                           -294,040,000    -74,014,000  -396,213,000   \n",
       "NetIncomeCommonStockholders         -294,040,000    -74,014,000  -396,213,000   \n",
       "BasicEPS                                   -2.36          -0.62         -3.69   \n",
       "DilutedEPS                                 -2.36          -0.62         -3.69   \n",
       "BasicAverageShares                   124,573,000    119,421,000   107,349,000   \n",
       "DilutedAverageShares                 124,573,000    119,421,000   107,349,000   \n",
       "Ebitda                                48,181,000     67,591,000  -366,998,000   \n",
       "\n",
       "                                     12/31/2011    12/31/2010   12/31/2009  \\\n",
       "name                                                                         \n",
       "TotalRevenue                        204,242,000   116,744,000  111,943,000   \n",
       "CostOfRevenue                       142,647,000    86,013,000  102,408,000   \n",
       "GrossProfit                          61,595,000    30,731,000    9,535,000   \n",
       "OperatingExpense                    313,083,000   177,569,000   61,432,000   \n",
       "\\tResearchAndDevelopment            208,981,000    92,996,000   19,282,000   \n",
       "\\tSellingGeneralAndAdministration   104,102,000    84,573,000   42,150,000   \n",
       "\\tOperatingExpense                  313,083,000   177,569,000   61,432,000   \n",
       "OperatingIncome                    -251,488,000  -146,838,000  -51,897,000   \n",
       "InterestExpense                          43,000       992,000    2,531,000   \n",
       "OtherIncomeExpense                   -2,646,000    -6,583,000   -1,445,000   \n",
       "PretaxIncome                       -253,922,000  -154,155,000  -55,714,000   \n",
       "TaxProvision                            489,000       173,000       26,000   \n",
       "NetIncomeContinuousOperations      -254,411,000  -154,328,000  -55,740,000   \n",
       "NetIncome                          -254,411,000  -154,328,000  -55,740,000   \n",
       "NetIncomeCommonStockholders        -254,411,000  -154,328,000  -55,740,000   \n",
       "BasicEPS                                  -2.53         -3.04         -0.7   \n",
       "DilutedEPS                                -2.53         -3.04         -0.7   \n",
       "BasicAverageShares                  100,388,815    50,718,302   77,693,854   \n",
       "DilutedAverageShares                100,388,815    50,718,302   77,693,854   \n",
       "Ebitda                             -236,960,000  -142,540,000  -46,243,000   \n",
       "\n",
       "                                    12/31/2008   12/31/2007  \n",
       "name                                                         \n",
       "TotalRevenue                        14,742,000       73,000  \n",
       "CostOfRevenue                       15,883,000        9,000  \n",
       "GrossProfit                         -1,141,000       64,000  \n",
       "OperatingExpense                    77,363,000   79,997,000  \n",
       "\\tResearchAndDevelopment            53,714,000   62,753,000  \n",
       "\\tSellingGeneralAndAdministration   23,649,000   17,244,000  \n",
       "\\tOperatingExpense                  77,363,000   79,997,000  \n",
       "OperatingIncome                    -78,504,000  -79,933,000  \n",
       "InterestExpense                      3,747,000            0  \n",
       "OtherIncomeExpense                    -963,000      137,000  \n",
       "PretaxIncome                       -82,685,000  -78,047,000  \n",
       "TaxProvision                            97,000      110,000  \n",
       "NetIncomeContinuousOperations      -82,782,000  -78,157,000  \n",
       "NetIncome                          -82,782,000  -78,157,000  \n",
       "NetIncomeCommonStockholders        -82,782,000  -78,157,000  \n",
       "BasicEPS                                -1.062       -1.002  \n",
       "DilutedEPS                              -1.062       -1.002  \n",
       "BasicAverageShares                  77,973,831   77,973,831  \n",
       "DilutedAverageShares                77,973,831   77,973,831  \n",
       "Ebitda                             -74,781,000  -75,152,000  "
      ]
     },
     "execution_count": 121,
     "metadata": {},
     "output_type": "execute_result"
    }
   ],
   "source": [
    "income_statement = income_statement.set_index(\"name\")\n",
    "income_statement"
   ]
  },
  {
   "cell_type": "code",
   "execution_count": 107,
   "metadata": {},
   "outputs": [],
   "source": [
    "balance_sheet = pd.read_csv(\"../desktop/TSLA_annual_balance-sheet.csv\")"
   ]
  },
  {
   "cell_type": "code",
   "execution_count": 108,
   "metadata": {},
   "outputs": [
    {
     "data": {
      "text/html": [
       "<div>\n",
       "<style scoped>\n",
       "    .dataframe tbody tr th:only-of-type {\n",
       "        vertical-align: middle;\n",
       "    }\n",
       "\n",
       "    .dataframe tbody tr th {\n",
       "        vertical-align: top;\n",
       "    }\n",
       "\n",
       "    .dataframe thead th {\n",
       "        text-align: right;\n",
       "    }\n",
       "</style>\n",
       "<table border=\"1\" class=\"dataframe\">\n",
       "  <thead>\n",
       "    <tr style=\"text-align: right;\">\n",
       "      <th></th>\n",
       "      <th>12/31/2019</th>\n",
       "      <th>12/31/2018</th>\n",
       "      <th>12/31/2017</th>\n",
       "      <th>12/31/2016</th>\n",
       "      <th>12/31/2015</th>\n",
       "      <th>12/31/2014</th>\n",
       "      <th>12/31/2013</th>\n",
       "      <th>12/31/2012</th>\n",
       "      <th>12/31/2011</th>\n",
       "      <th>12/31/2010</th>\n",
       "      <th>12/31/2009</th>\n",
       "      <th>12/31/2008</th>\n",
       "      <th>12/31/2007</th>\n",
       "    </tr>\n",
       "    <tr>\n",
       "      <th>name</th>\n",
       "      <th></th>\n",
       "      <th></th>\n",
       "      <th></th>\n",
       "      <th></th>\n",
       "      <th></th>\n",
       "      <th></th>\n",
       "      <th></th>\n",
       "      <th></th>\n",
       "      <th></th>\n",
       "      <th></th>\n",
       "      <th></th>\n",
       "      <th></th>\n",
       "      <th></th>\n",
       "    </tr>\n",
       "  </thead>\n",
       "  <tbody>\n",
       "    <tr>\n",
       "      <td>TotalAssets</td>\n",
       "      <td>34,309,000,000</td>\n",
       "      <td>29,739,614,000</td>\n",
       "      <td>28,655,372,000</td>\n",
       "      <td>22,664,076,000</td>\n",
       "      <td>8,092,460,000</td>\n",
       "      <td>5,849,251,000</td>\n",
       "      <td>2,416,930,000</td>\n",
       "      <td>1,114,190,000</td>\n",
       "      <td>713,448,000</td>\n",
       "      <td>386,082,000</td>\n",
       "      <td>130,424,000</td>\n",
       "      <td>51,699,000</td>\n",
       "      <td>34,837,000</td>\n",
       "    </tr>\n",
       "    <tr>\n",
       "      <td>\\tCurrentAssets</td>\n",
       "      <td>12,103,000,000</td>\n",
       "      <td>8,306,308,000</td>\n",
       "      <td>6,570,520,000</td>\n",
       "      <td>6,259,796,000</td>\n",
       "      <td>2,791,568,000</td>\n",
       "      <td>3,198,657,000</td>\n",
       "      <td>1,265,939,000</td>\n",
       "      <td>524,768,000</td>\n",
       "      <td>372,838,000</td>\n",
       "      <td>235,886,000</td>\n",
       "      <td>100,559,000</td>\n",
       "      <td>31,427,000</td>\n",
       "      <td>22,308,000</td>\n",
       "    </tr>\n",
       "    <tr>\n",
       "      <td>\\t\\tCashCashEquivalentsAndShortTermInvestments</td>\n",
       "      <td>6,268,000,000</td>\n",
       "      <td>3,685,618,000</td>\n",
       "      <td>3,367,914,000</td>\n",
       "      <td>3,393,216,000</td>\n",
       "      <td>1,196,908,000</td>\n",
       "      <td>1,905,713,000</td>\n",
       "      <td>845,889,000</td>\n",
       "      <td>201,890,000</td>\n",
       "      <td>280,327,000</td>\n",
       "      <td>99,558,000</td>\n",
       "      <td>69,627,000</td>\n",
       "      <td>9,277,000</td>\n",
       "      <td>17,211,000</td>\n",
       "    </tr>\n",
       "    <tr>\n",
       "      <td>\\t\\t\\tCashAndCashEquivalents</td>\n",
       "      <td>6,268,000,000</td>\n",
       "      <td>3,685,618,000</td>\n",
       "      <td>3,367,914,000</td>\n",
       "      <td>3,393,216,000</td>\n",
       "      <td>1,196,908,000</td>\n",
       "      <td>1,905,713,000</td>\n",
       "      <td>845,889,000</td>\n",
       "      <td>201,890,000</td>\n",
       "      <td>255,266,000</td>\n",
       "      <td>99,558,000</td>\n",
       "      <td>69,627,000</td>\n",
       "      <td>9,277,000</td>\n",
       "      <td>17,211,000</td>\n",
       "    </tr>\n",
       "    <tr>\n",
       "      <td>\\t\\t\\tOtherShortTermInvestments</td>\n",
       "      <td>NaN</td>\n",
       "      <td>NaN</td>\n",
       "      <td>NaN</td>\n",
       "      <td>NaN</td>\n",
       "      <td>NaN</td>\n",
       "      <td>NaN</td>\n",
       "      <td>NaN</td>\n",
       "      <td>0</td>\n",
       "      <td>25,061,000</td>\n",
       "      <td>NaN</td>\n",
       "      <td>NaN</td>\n",
       "      <td>NaN</td>\n",
       "      <td>NaN</td>\n",
       "    </tr>\n",
       "    <tr>\n",
       "      <td>\\t\\tAccountsReceivable</td>\n",
       "      <td>1,324,000,000</td>\n",
       "      <td>949,022,000</td>\n",
       "      <td>515,381,000</td>\n",
       "      <td>499,142,000</td>\n",
       "      <td>168,965,000</td>\n",
       "      <td>226,604,000</td>\n",
       "      <td>49,109,000</td>\n",
       "      <td>26,842,000</td>\n",
       "      <td>9,539,000</td>\n",
       "      <td>6,710,000</td>\n",
       "      <td>3,488,000</td>\n",
       "      <td>3,320,000</td>\n",
       "      <td>59,000</td>\n",
       "    </tr>\n",
       "    <tr>\n",
       "      <td>\\t\\tInventory</td>\n",
       "      <td>3,552,000,000</td>\n",
       "      <td>3,113,446,000</td>\n",
       "      <td>2,263,537,000</td>\n",
       "      <td>2,067,454,000</td>\n",
       "      <td>1,277,838,000</td>\n",
       "      <td>953,675,000</td>\n",
       "      <td>340,355,000</td>\n",
       "      <td>268,504,000</td>\n",
       "      <td>50,082,000</td>\n",
       "      <td>45,182,000</td>\n",
       "      <td>23,222,000</td>\n",
       "      <td>16,650,000</td>\n",
       "      <td>2,108,000</td>\n",
       "    </tr>\n",
       "    <tr>\n",
       "      <td>\\tTotalNonCurrentAssets</td>\n",
       "      <td>22,206,000,000</td>\n",
       "      <td>21,433,306,000</td>\n",
       "      <td>22,084,852,000</td>\n",
       "      <td>16,404,280,000</td>\n",
       "      <td>5,300,892,000</td>\n",
       "      <td>2,650,594,000</td>\n",
       "      <td>1,150,991,000</td>\n",
       "      <td>589,421,000</td>\n",
       "      <td>340,610,000</td>\n",
       "      <td>150,196,000</td>\n",
       "      <td>29,865,000</td>\n",
       "      <td>20,272,000</td>\n",
       "      <td>12,529,000</td>\n",
       "    </tr>\n",
       "    <tr>\n",
       "      <td>\\t\\tNetPPE</td>\n",
       "      <td>20,199,000,000</td>\n",
       "      <td>19,691,231,000</td>\n",
       "      <td>20,491,616,000</td>\n",
       "      <td>15,036,917,000</td>\n",
       "      <td>5,194,737,000</td>\n",
       "      <td>2,596,011,000</td>\n",
       "      <td>1,120,919,000</td>\n",
       "      <td>562,300,000</td>\n",
       "      <td>310,171,000</td>\n",
       "      <td>122,599,000</td>\n",
       "      <td>23,535,000</td>\n",
       "      <td>18,793,000</td>\n",
       "      <td>11,998,000</td>\n",
       "    </tr>\n",
       "    <tr>\n",
       "      <td>\\t\\t\\tGrossPPE</td>\n",
       "      <td>31,925,000,000</td>\n",
       "      <td>22,885,847,000</td>\n",
       "      <td>22,435,520,000</td>\n",
       "      <td>16,054,559,000</td>\n",
       "      <td>5,765,863,000</td>\n",
       "      <td>2,888,601,000</td>\n",
       "      <td>1,261,061,000</td>\n",
       "      <td>619,843,000</td>\n",
       "      <td>342,393,000</td>\n",
       "      <td>144,592,000</td>\n",
       "      <td>36,265,000</td>\n",
       "      <td>25,619,000</td>\n",
       "      <td>15,196,000</td>\n",
       "    </tr>\n",
       "    <tr>\n",
       "      <td>\\t\\t\\tAccumulatedDepreciation</td>\n",
       "      <td>-11,726,000,000</td>\n",
       "      <td>-3,194,616,000</td>\n",
       "      <td>-1,943,904,000</td>\n",
       "      <td>-1,017,642,000</td>\n",
       "      <td>-571,126,000</td>\n",
       "      <td>-292,590,000</td>\n",
       "      <td>-140,142,000</td>\n",
       "      <td>-57,543,000</td>\n",
       "      <td>-32,222,000</td>\n",
       "      <td>-21,993,000</td>\n",
       "      <td>-12,730,000</td>\n",
       "      <td>-6,826,000</td>\n",
       "      <td>-3,198,000</td>\n",
       "    </tr>\n",
       "    <tr>\n",
       "      <td>\\t\\tGoodwill</td>\n",
       "      <td>198,000,000</td>\n",
       "      <td>68,159,000</td>\n",
       "      <td>60,237,000</td>\n",
       "      <td>NaN</td>\n",
       "      <td>NaN</td>\n",
       "      <td>NaN</td>\n",
       "      <td>NaN</td>\n",
       "      <td>NaN</td>\n",
       "      <td>NaN</td>\n",
       "      <td>NaN</td>\n",
       "      <td>NaN</td>\n",
       "      <td>NaN</td>\n",
       "      <td>NaN</td>\n",
       "    </tr>\n",
       "    <tr>\n",
       "      <td>\\t\\tOtherIntangibleAssets</td>\n",
       "      <td>339,000,000</td>\n",
       "      <td>282,492,000</td>\n",
       "      <td>361,502,000</td>\n",
       "      <td>376,145,000</td>\n",
       "      <td>NaN</td>\n",
       "      <td>NaN</td>\n",
       "      <td>13,930,000</td>\n",
       "      <td>14,267,000</td>\n",
       "      <td>NaN</td>\n",
       "      <td>NaN</td>\n",
       "      <td>NaN</td>\n",
       "      <td>NaN</td>\n",
       "      <td>NaN</td>\n",
       "    </tr>\n",
       "    <tr>\n",
       "      <td>\\t\\tOtherNonCurrentAssets</td>\n",
       "      <td>1,077,000,000</td>\n",
       "      <td>969,876,000</td>\n",
       "      <td>714,845,000</td>\n",
       "      <td>484,916,000</td>\n",
       "      <td>106,155,000</td>\n",
       "      <td>54,583,000</td>\n",
       "      <td>8,827,000</td>\n",
       "      <td>7,095,000</td>\n",
       "      <td>30,439,000</td>\n",
       "      <td>27,597,000</td>\n",
       "      <td>6,330,000</td>\n",
       "      <td>1,479,000</td>\n",
       "      <td>531,000</td>\n",
       "    </tr>\n",
       "    <tr>\n",
       "      <td>\\tTotalLiabilitiesNetMinorityInterest</td>\n",
       "      <td>26,842,000,000</td>\n",
       "      <td>23,981,974,000</td>\n",
       "      <td>23,420,784,000</td>\n",
       "      <td>17,125,990,000</td>\n",
       "      <td>7,003,516,000</td>\n",
       "      <td>4,937,541,000</td>\n",
       "      <td>1,749,810,000</td>\n",
       "      <td>989,490,000</td>\n",
       "      <td>489,403,000</td>\n",
       "      <td>179,034,000</td>\n",
       "      <td>383,947,000</td>\n",
       "      <td>251,413,000</td>\n",
       "      <td>152,683,000</td>\n",
       "    </tr>\n",
       "    <tr>\n",
       "      <td>\\t\\tCurrentLiabilities</td>\n",
       "      <td>10,667,000,000</td>\n",
       "      <td>9,992,136,000</td>\n",
       "      <td>7,674,670,000</td>\n",
       "      <td>5,827,005,000</td>\n",
       "      <td>2,816,274,000</td>\n",
       "      <td>2,107,166,000</td>\n",
       "      <td>675,160,000</td>\n",
       "      <td>539,108,000</td>\n",
       "      <td>191,339,000</td>\n",
       "      <td>85,565,000</td>\n",
       "      <td>57,489,000</td>\n",
       "      <td>87,935,000</td>\n",
       "      <td>51,296,000</td>\n",
       "    </tr>\n",
       "    <tr>\n",
       "      <td>\\t\\t\\tCurrentDebt</td>\n",
       "      <td>1,785,000,000</td>\n",
       "      <td>2,567,699,000</td>\n",
       "      <td>896,549,000</td>\n",
       "      <td>1,150,147,000</td>\n",
       "      <td>633,166,000</td>\n",
       "      <td>601,566,000</td>\n",
       "      <td>182,000</td>\n",
       "      <td>50,841,000</td>\n",
       "      <td>7,916,000</td>\n",
       "      <td>NaN</td>\n",
       "      <td>NaN</td>\n",
       "      <td>NaN</td>\n",
       "      <td>NaN</td>\n",
       "    </tr>\n",
       "    <tr>\n",
       "      <td>\\t\\t\\tAccountsPayable</td>\n",
       "      <td>3,771,000,000</td>\n",
       "      <td>3,404,451,000</td>\n",
       "      <td>2,390,250,000</td>\n",
       "      <td>1,860,341,000</td>\n",
       "      <td>916,148,000</td>\n",
       "      <td>777,946,000</td>\n",
       "      <td>303,969,000</td>\n",
       "      <td>303,382,000</td>\n",
       "      <td>56,141,000</td>\n",
       "      <td>28,951,000</td>\n",
       "      <td>15,086,000</td>\n",
       "      <td>14,184,000</td>\n",
       "      <td>5,369,000</td>\n",
       "    </tr>\n",
       "    <tr>\n",
       "      <td>\\t\\t\\tCurrentAccruedExpenses</td>\n",
       "      <td>1,762,000,000</td>\n",
       "      <td>1,121,670,000</td>\n",
       "      <td>1,257,194,000</td>\n",
       "      <td>1,005,100,000</td>\n",
       "      <td>321,592,000</td>\n",
       "      <td>173,052,000</td>\n",
       "      <td>68,053,000</td>\n",
       "      <td>30,088,000</td>\n",
       "      <td>22,237,000</td>\n",
       "      <td>11,755,000</td>\n",
       "      <td>14,532,000</td>\n",
       "      <td>11,145,000</td>\n",
       "      <td>8,512,000</td>\n",
       "    </tr>\n",
       "    <tr>\n",
       "      <td>\\t\\t\\tCurrentDeferredRevenue</td>\n",
       "      <td>1,889,000,000</td>\n",
       "      <td>1,422,893,000</td>\n",
       "      <td>1,869,172,000</td>\n",
       "      <td>1,426,985,000</td>\n",
       "      <td>707,331,000</td>\n",
       "      <td>449,238,000</td>\n",
       "      <td>255,035,000</td>\n",
       "      <td>140,722,000</td>\n",
       "      <td>2,345,000</td>\n",
       "      <td>4,635,000</td>\n",
       "      <td>1,377,000</td>\n",
       "      <td>4,073,000</td>\n",
       "      <td>0</td>\n",
       "    </tr>\n",
       "    <tr>\n",
       "      <td>\\t\\t\\tOtherCurrentLiabilities</td>\n",
       "      <td>577,000,000</td>\n",
       "      <td>937,221,000</td>\n",
       "      <td>1,075,698,000</td>\n",
       "      <td>231,535,000</td>\n",
       "      <td>136,831,000</td>\n",
       "      <td>21,030,000</td>\n",
       "      <td>NaN</td>\n",
       "      <td>NaN</td>\n",
       "      <td>91,761,000</td>\n",
       "      <td>NaN</td>\n",
       "      <td>26,048,000</td>\n",
       "      <td>48,019,000</td>\n",
       "      <td>37,335,000</td>\n",
       "    </tr>\n",
       "    <tr>\n",
       "      <td>\\t\\tTotalNonCurrentLiabilitiesNetMinorityInterest</td>\n",
       "      <td>16,175,000,000</td>\n",
       "      <td>13,989,838,000</td>\n",
       "      <td>15,746,114,000</td>\n",
       "      <td>11,298,985,000</td>\n",
       "      <td>4,187,242,000</td>\n",
       "      <td>2,830,375,000</td>\n",
       "      <td>1,074,650,000</td>\n",
       "      <td>450,382,000</td>\n",
       "      <td>298,064,000</td>\n",
       "      <td>93,469,000</td>\n",
       "      <td>326,458,000</td>\n",
       "      <td>163,478,000</td>\n",
       "      <td>101,387,000</td>\n",
       "    </tr>\n",
       "    <tr>\n",
       "      <td>\\t\\t\\tLongTermDebt</td>\n",
       "      <td>11,634,000,000</td>\n",
       "      <td>9,403,672,000</td>\n",
       "      <td>9,418,389,000</td>\n",
       "      <td>5,978,284,000</td>\n",
       "      <td>2,082,420,000</td>\n",
       "      <td>1,864,714,000</td>\n",
       "      <td>586,119,000</td>\n",
       "      <td>401,495,000</td>\n",
       "      <td>268,335,000</td>\n",
       "      <td>71,828,000</td>\n",
       "      <td>NaN</td>\n",
       "      <td>54,528,000</td>\n",
       "      <td>NaN</td>\n",
       "    </tr>\n",
       "    <tr>\n",
       "      <td>\\t\\t\\tNonCurrentDeferredTaxesLiabilities</td>\n",
       "      <td>NaN</td>\n",
       "      <td>NaN</td>\n",
       "      <td>NaN</td>\n",
       "      <td>NaN</td>\n",
       "      <td>NaN</td>\n",
       "      <td>NaN</td>\n",
       "      <td>6,821,000</td>\n",
       "      <td>NaN</td>\n",
       "      <td>NaN</td>\n",
       "      <td>NaN</td>\n",
       "      <td>NaN</td>\n",
       "      <td>NaN</td>\n",
       "      <td>NaN</td>\n",
       "    </tr>\n",
       "    <tr>\n",
       "      <td>\\t\\t\\tNonCurrentDeferredRevenue</td>\n",
       "      <td>1,207,000,000</td>\n",
       "      <td>990,873,000</td>\n",
       "      <td>1,177,799,000</td>\n",
       "      <td>851,790,000</td>\n",
       "      <td>446,105,000</td>\n",
       "      <td>292,271,000</td>\n",
       "      <td>181,180,000</td>\n",
       "      <td>3,060,000</td>\n",
       "      <td>3,146,000</td>\n",
       "      <td>2,783,000</td>\n",
       "      <td>1,240,000</td>\n",
       "      <td>0</td>\n",
       "      <td>0</td>\n",
       "    </tr>\n",
       "    <tr>\n",
       "      <td>\\t\\t\\tOtherNonCurrentLiabilities</td>\n",
       "      <td>445,000,000</td>\n",
       "      <td>686,792,000</td>\n",
       "      <td>2,763,315,000</td>\n",
       "      <td>2,591,755,000</td>\n",
       "      <td>1,658,717,000</td>\n",
       "      <td>661,123,000</td>\n",
       "      <td>241,160,000</td>\n",
       "      <td>3,838,000</td>\n",
       "      <td>6,805,000</td>\n",
       "      <td>5,663,000</td>\n",
       "      <td>5,193,000</td>\n",
       "      <td>6,884,000</td>\n",
       "      <td>191,000</td>\n",
       "    </tr>\n",
       "    <tr>\n",
       "      <td>\\tStockholdersEquity</td>\n",
       "      <td>6,618,000,000</td>\n",
       "      <td>4,923,243,000</td>\n",
       "      <td>4,237,242,000</td>\n",
       "      <td>4,752,911,000</td>\n",
       "      <td>1,088,944,000</td>\n",
       "      <td>911,710,000</td>\n",
       "      <td>667,120,000</td>\n",
       "      <td>124,700,000</td>\n",
       "      <td>224,045,000</td>\n",
       "      <td>207,048,000</td>\n",
       "      <td>-253,523,000</td>\n",
       "      <td>-199,714,000</td>\n",
       "      <td>-117,846,000</td>\n",
       "    </tr>\n",
       "    <tr>\n",
       "      <td>\\t\\tCapitalStock</td>\n",
       "      <td>0</td>\n",
       "      <td>173,000</td>\n",
       "      <td>169,000</td>\n",
       "      <td>161,000</td>\n",
       "      <td>131,000</td>\n",
       "      <td>126,000</td>\n",
       "      <td>123,000</td>\n",
       "      <td>115,000</td>\n",
       "      <td>104,000</td>\n",
       "      <td>95,000</td>\n",
       "      <td>7,000</td>\n",
       "      <td>21,000</td>\n",
       "      <td>18,000</td>\n",
       "    </tr>\n",
       "    <tr>\n",
       "      <td>\\t\\tRetainedEarnings</td>\n",
       "      <td>-6,083,000,000</td>\n",
       "      <td>-5,317,832,000</td>\n",
       "      <td>-4,974,299,000</td>\n",
       "      <td>-2,997,237,000</td>\n",
       "      <td>-2,322,323,000</td>\n",
       "      <td>-1,433,682,000</td>\n",
       "      <td>-1,139,620,000</td>\n",
       "      <td>-1,065,606,000</td>\n",
       "      <td>-669,392,000</td>\n",
       "      <td>-414,982,000</td>\n",
       "      <td>-260,654,000</td>\n",
       "      <td>-204,914,000</td>\n",
       "      <td>-122,132,000</td>\n",
       "    </tr>\n",
       "    <tr>\n",
       "      <td>\\t\\tGainsLossesNotAffectingRetainedEarnings</td>\n",
       "      <td>-36,000,000</td>\n",
       "      <td>-8,218,000</td>\n",
       "      <td>33,348,000</td>\n",
       "      <td>-23,740,000</td>\n",
       "      <td>-3,556,000</td>\n",
       "      <td>NaN</td>\n",
       "      <td>NaN</td>\n",
       "      <td>0</td>\n",
       "      <td>-3,000</td>\n",
       "      <td>NaN</td>\n",
       "      <td>NaN</td>\n",
       "      <td>NaN</td>\n",
       "      <td>NaN</td>\n",
       "    </tr>\n",
       "  </tbody>\n",
       "</table>\n",
       "</div>"
      ],
      "text/plain": [
       "                                                        12/31/2019  \\\n",
       "name                                                                 \n",
       "TotalAssets                                         34,309,000,000   \n",
       "\\tCurrentAssets                                     12,103,000,000   \n",
       "\\t\\tCashCashEquivalentsAndShortTermInvestments       6,268,000,000   \n",
       "\\t\\t\\tCashAndCashEquivalents                         6,268,000,000   \n",
       "\\t\\t\\tOtherShortTermInvestments                                NaN   \n",
       "\\t\\tAccountsReceivable                               1,324,000,000   \n",
       "\\t\\tInventory                                        3,552,000,000   \n",
       "\\tTotalNonCurrentAssets                             22,206,000,000   \n",
       "\\t\\tNetPPE                                          20,199,000,000   \n",
       "\\t\\t\\tGrossPPE                                      31,925,000,000   \n",
       "\\t\\t\\tAccumulatedDepreciation                      -11,726,000,000   \n",
       "\\t\\tGoodwill                                           198,000,000   \n",
       "\\t\\tOtherIntangibleAssets                              339,000,000   \n",
       "\\t\\tOtherNonCurrentAssets                            1,077,000,000   \n",
       "\\tTotalLiabilitiesNetMinorityInterest               26,842,000,000   \n",
       "\\t\\tCurrentLiabilities                              10,667,000,000   \n",
       "\\t\\t\\tCurrentDebt                                    1,785,000,000   \n",
       "\\t\\t\\tAccountsPayable                                3,771,000,000   \n",
       "\\t\\t\\tCurrentAccruedExpenses                         1,762,000,000   \n",
       "\\t\\t\\tCurrentDeferredRevenue                         1,889,000,000   \n",
       "\\t\\t\\tOtherCurrentLiabilities                          577,000,000   \n",
       "\\t\\tTotalNonCurrentLiabilitiesNetMinorityInterest   16,175,000,000   \n",
       "\\t\\t\\tLongTermDebt                                  11,634,000,000   \n",
       "\\t\\t\\tNonCurrentDeferredTaxesLiabilities                       NaN   \n",
       "\\t\\t\\tNonCurrentDeferredRevenue                      1,207,000,000   \n",
       "\\t\\t\\tOtherNonCurrentLiabilities                       445,000,000   \n",
       "\\tStockholdersEquity                                 6,618,000,000   \n",
       "\\t\\tCapitalStock                                                 0   \n",
       "\\t\\tRetainedEarnings                                -6,083,000,000   \n",
       "\\t\\tGainsLossesNotAffectingRetainedEarnings            -36,000,000   \n",
       "\n",
       "                                                       12/31/2018  \\\n",
       "name                                                                \n",
       "TotalAssets                                        29,739,614,000   \n",
       "\\tCurrentAssets                                     8,306,308,000   \n",
       "\\t\\tCashCashEquivalentsAndShortTermInvestments      3,685,618,000   \n",
       "\\t\\t\\tCashAndCashEquivalents                        3,685,618,000   \n",
       "\\t\\t\\tOtherShortTermInvestments                               NaN   \n",
       "\\t\\tAccountsReceivable                                949,022,000   \n",
       "\\t\\tInventory                                       3,113,446,000   \n",
       "\\tTotalNonCurrentAssets                            21,433,306,000   \n",
       "\\t\\tNetPPE                                         19,691,231,000   \n",
       "\\t\\t\\tGrossPPE                                     22,885,847,000   \n",
       "\\t\\t\\tAccumulatedDepreciation                      -3,194,616,000   \n",
       "\\t\\tGoodwill                                           68,159,000   \n",
       "\\t\\tOtherIntangibleAssets                             282,492,000   \n",
       "\\t\\tOtherNonCurrentAssets                             969,876,000   \n",
       "\\tTotalLiabilitiesNetMinorityInterest              23,981,974,000   \n",
       "\\t\\tCurrentLiabilities                              9,992,136,000   \n",
       "\\t\\t\\tCurrentDebt                                   2,567,699,000   \n",
       "\\t\\t\\tAccountsPayable                               3,404,451,000   \n",
       "\\t\\t\\tCurrentAccruedExpenses                        1,121,670,000   \n",
       "\\t\\t\\tCurrentDeferredRevenue                        1,422,893,000   \n",
       "\\t\\t\\tOtherCurrentLiabilities                         937,221,000   \n",
       "\\t\\tTotalNonCurrentLiabilitiesNetMinorityInterest  13,989,838,000   \n",
       "\\t\\t\\tLongTermDebt                                  9,403,672,000   \n",
       "\\t\\t\\tNonCurrentDeferredTaxesLiabilities                      NaN   \n",
       "\\t\\t\\tNonCurrentDeferredRevenue                       990,873,000   \n",
       "\\t\\t\\tOtherNonCurrentLiabilities                      686,792,000   \n",
       "\\tStockholdersEquity                                4,923,243,000   \n",
       "\\t\\tCapitalStock                                          173,000   \n",
       "\\t\\tRetainedEarnings                               -5,317,832,000   \n",
       "\\t\\tGainsLossesNotAffectingRetainedEarnings            -8,218,000   \n",
       "\n",
       "                                                       12/31/2017  \\\n",
       "name                                                                \n",
       "TotalAssets                                        28,655,372,000   \n",
       "\\tCurrentAssets                                     6,570,520,000   \n",
       "\\t\\tCashCashEquivalentsAndShortTermInvestments      3,367,914,000   \n",
       "\\t\\t\\tCashAndCashEquivalents                        3,367,914,000   \n",
       "\\t\\t\\tOtherShortTermInvestments                               NaN   \n",
       "\\t\\tAccountsReceivable                                515,381,000   \n",
       "\\t\\tInventory                                       2,263,537,000   \n",
       "\\tTotalNonCurrentAssets                            22,084,852,000   \n",
       "\\t\\tNetPPE                                         20,491,616,000   \n",
       "\\t\\t\\tGrossPPE                                     22,435,520,000   \n",
       "\\t\\t\\tAccumulatedDepreciation                      -1,943,904,000   \n",
       "\\t\\tGoodwill                                           60,237,000   \n",
       "\\t\\tOtherIntangibleAssets                             361,502,000   \n",
       "\\t\\tOtherNonCurrentAssets                             714,845,000   \n",
       "\\tTotalLiabilitiesNetMinorityInterest              23,420,784,000   \n",
       "\\t\\tCurrentLiabilities                              7,674,670,000   \n",
       "\\t\\t\\tCurrentDebt                                     896,549,000   \n",
       "\\t\\t\\tAccountsPayable                               2,390,250,000   \n",
       "\\t\\t\\tCurrentAccruedExpenses                        1,257,194,000   \n",
       "\\t\\t\\tCurrentDeferredRevenue                        1,869,172,000   \n",
       "\\t\\t\\tOtherCurrentLiabilities                       1,075,698,000   \n",
       "\\t\\tTotalNonCurrentLiabilitiesNetMinorityInterest  15,746,114,000   \n",
       "\\t\\t\\tLongTermDebt                                  9,418,389,000   \n",
       "\\t\\t\\tNonCurrentDeferredTaxesLiabilities                      NaN   \n",
       "\\t\\t\\tNonCurrentDeferredRevenue                     1,177,799,000   \n",
       "\\t\\t\\tOtherNonCurrentLiabilities                    2,763,315,000   \n",
       "\\tStockholdersEquity                                4,237,242,000   \n",
       "\\t\\tCapitalStock                                          169,000   \n",
       "\\t\\tRetainedEarnings                               -4,974,299,000   \n",
       "\\t\\tGainsLossesNotAffectingRetainedEarnings            33,348,000   \n",
       "\n",
       "                                                       12/31/2016  \\\n",
       "name                                                                \n",
       "TotalAssets                                        22,664,076,000   \n",
       "\\tCurrentAssets                                     6,259,796,000   \n",
       "\\t\\tCashCashEquivalentsAndShortTermInvestments      3,393,216,000   \n",
       "\\t\\t\\tCashAndCashEquivalents                        3,393,216,000   \n",
       "\\t\\t\\tOtherShortTermInvestments                               NaN   \n",
       "\\t\\tAccountsReceivable                                499,142,000   \n",
       "\\t\\tInventory                                       2,067,454,000   \n",
       "\\tTotalNonCurrentAssets                            16,404,280,000   \n",
       "\\t\\tNetPPE                                         15,036,917,000   \n",
       "\\t\\t\\tGrossPPE                                     16,054,559,000   \n",
       "\\t\\t\\tAccumulatedDepreciation                      -1,017,642,000   \n",
       "\\t\\tGoodwill                                                  NaN   \n",
       "\\t\\tOtherIntangibleAssets                             376,145,000   \n",
       "\\t\\tOtherNonCurrentAssets                             484,916,000   \n",
       "\\tTotalLiabilitiesNetMinorityInterest              17,125,990,000   \n",
       "\\t\\tCurrentLiabilities                              5,827,005,000   \n",
       "\\t\\t\\tCurrentDebt                                   1,150,147,000   \n",
       "\\t\\t\\tAccountsPayable                               1,860,341,000   \n",
       "\\t\\t\\tCurrentAccruedExpenses                        1,005,100,000   \n",
       "\\t\\t\\tCurrentDeferredRevenue                        1,426,985,000   \n",
       "\\t\\t\\tOtherCurrentLiabilities                         231,535,000   \n",
       "\\t\\tTotalNonCurrentLiabilitiesNetMinorityInterest  11,298,985,000   \n",
       "\\t\\t\\tLongTermDebt                                  5,978,284,000   \n",
       "\\t\\t\\tNonCurrentDeferredTaxesLiabilities                      NaN   \n",
       "\\t\\t\\tNonCurrentDeferredRevenue                       851,790,000   \n",
       "\\t\\t\\tOtherNonCurrentLiabilities                    2,591,755,000   \n",
       "\\tStockholdersEquity                                4,752,911,000   \n",
       "\\t\\tCapitalStock                                          161,000   \n",
       "\\t\\tRetainedEarnings                               -2,997,237,000   \n",
       "\\t\\tGainsLossesNotAffectingRetainedEarnings           -23,740,000   \n",
       "\n",
       "                                                       12/31/2015  \\\n",
       "name                                                                \n",
       "TotalAssets                                         8,092,460,000   \n",
       "\\tCurrentAssets                                     2,791,568,000   \n",
       "\\t\\tCashCashEquivalentsAndShortTermInvestments      1,196,908,000   \n",
       "\\t\\t\\tCashAndCashEquivalents                        1,196,908,000   \n",
       "\\t\\t\\tOtherShortTermInvestments                               NaN   \n",
       "\\t\\tAccountsReceivable                                168,965,000   \n",
       "\\t\\tInventory                                       1,277,838,000   \n",
       "\\tTotalNonCurrentAssets                             5,300,892,000   \n",
       "\\t\\tNetPPE                                          5,194,737,000   \n",
       "\\t\\t\\tGrossPPE                                      5,765,863,000   \n",
       "\\t\\t\\tAccumulatedDepreciation                        -571,126,000   \n",
       "\\t\\tGoodwill                                                  NaN   \n",
       "\\t\\tOtherIntangibleAssets                                     NaN   \n",
       "\\t\\tOtherNonCurrentAssets                             106,155,000   \n",
       "\\tTotalLiabilitiesNetMinorityInterest               7,003,516,000   \n",
       "\\t\\tCurrentLiabilities                              2,816,274,000   \n",
       "\\t\\t\\tCurrentDebt                                     633,166,000   \n",
       "\\t\\t\\tAccountsPayable                                 916,148,000   \n",
       "\\t\\t\\tCurrentAccruedExpenses                          321,592,000   \n",
       "\\t\\t\\tCurrentDeferredRevenue                          707,331,000   \n",
       "\\t\\t\\tOtherCurrentLiabilities                         136,831,000   \n",
       "\\t\\tTotalNonCurrentLiabilitiesNetMinorityInterest   4,187,242,000   \n",
       "\\t\\t\\tLongTermDebt                                  2,082,420,000   \n",
       "\\t\\t\\tNonCurrentDeferredTaxesLiabilities                      NaN   \n",
       "\\t\\t\\tNonCurrentDeferredRevenue                       446,105,000   \n",
       "\\t\\t\\tOtherNonCurrentLiabilities                    1,658,717,000   \n",
       "\\tStockholdersEquity                                1,088,944,000   \n",
       "\\t\\tCapitalStock                                          131,000   \n",
       "\\t\\tRetainedEarnings                               -2,322,323,000   \n",
       "\\t\\tGainsLossesNotAffectingRetainedEarnings            -3,556,000   \n",
       "\n",
       "                                                       12/31/2014  \\\n",
       "name                                                                \n",
       "TotalAssets                                         5,849,251,000   \n",
       "\\tCurrentAssets                                     3,198,657,000   \n",
       "\\t\\tCashCashEquivalentsAndShortTermInvestments      1,905,713,000   \n",
       "\\t\\t\\tCashAndCashEquivalents                        1,905,713,000   \n",
       "\\t\\t\\tOtherShortTermInvestments                               NaN   \n",
       "\\t\\tAccountsReceivable                                226,604,000   \n",
       "\\t\\tInventory                                         953,675,000   \n",
       "\\tTotalNonCurrentAssets                             2,650,594,000   \n",
       "\\t\\tNetPPE                                          2,596,011,000   \n",
       "\\t\\t\\tGrossPPE                                      2,888,601,000   \n",
       "\\t\\t\\tAccumulatedDepreciation                        -292,590,000   \n",
       "\\t\\tGoodwill                                                  NaN   \n",
       "\\t\\tOtherIntangibleAssets                                     NaN   \n",
       "\\t\\tOtherNonCurrentAssets                              54,583,000   \n",
       "\\tTotalLiabilitiesNetMinorityInterest               4,937,541,000   \n",
       "\\t\\tCurrentLiabilities                              2,107,166,000   \n",
       "\\t\\t\\tCurrentDebt                                     601,566,000   \n",
       "\\t\\t\\tAccountsPayable                                 777,946,000   \n",
       "\\t\\t\\tCurrentAccruedExpenses                          173,052,000   \n",
       "\\t\\t\\tCurrentDeferredRevenue                          449,238,000   \n",
       "\\t\\t\\tOtherCurrentLiabilities                          21,030,000   \n",
       "\\t\\tTotalNonCurrentLiabilitiesNetMinorityInterest   2,830,375,000   \n",
       "\\t\\t\\tLongTermDebt                                  1,864,714,000   \n",
       "\\t\\t\\tNonCurrentDeferredTaxesLiabilities                      NaN   \n",
       "\\t\\t\\tNonCurrentDeferredRevenue                       292,271,000   \n",
       "\\t\\t\\tOtherNonCurrentLiabilities                      661,123,000   \n",
       "\\tStockholdersEquity                                  911,710,000   \n",
       "\\t\\tCapitalStock                                          126,000   \n",
       "\\t\\tRetainedEarnings                               -1,433,682,000   \n",
       "\\t\\tGainsLossesNotAffectingRetainedEarnings                   NaN   \n",
       "\n",
       "                                                       12/31/2013  \\\n",
       "name                                                                \n",
       "TotalAssets                                         2,416,930,000   \n",
       "\\tCurrentAssets                                     1,265,939,000   \n",
       "\\t\\tCashCashEquivalentsAndShortTermInvestments        845,889,000   \n",
       "\\t\\t\\tCashAndCashEquivalents                          845,889,000   \n",
       "\\t\\t\\tOtherShortTermInvestments                               NaN   \n",
       "\\t\\tAccountsReceivable                                 49,109,000   \n",
       "\\t\\tInventory                                         340,355,000   \n",
       "\\tTotalNonCurrentAssets                             1,150,991,000   \n",
       "\\t\\tNetPPE                                          1,120,919,000   \n",
       "\\t\\t\\tGrossPPE                                      1,261,061,000   \n",
       "\\t\\t\\tAccumulatedDepreciation                        -140,142,000   \n",
       "\\t\\tGoodwill                                                  NaN   \n",
       "\\t\\tOtherIntangibleAssets                              13,930,000   \n",
       "\\t\\tOtherNonCurrentAssets                               8,827,000   \n",
       "\\tTotalLiabilitiesNetMinorityInterest               1,749,810,000   \n",
       "\\t\\tCurrentLiabilities                                675,160,000   \n",
       "\\t\\t\\tCurrentDebt                                         182,000   \n",
       "\\t\\t\\tAccountsPayable                                 303,969,000   \n",
       "\\t\\t\\tCurrentAccruedExpenses                           68,053,000   \n",
       "\\t\\t\\tCurrentDeferredRevenue                          255,035,000   \n",
       "\\t\\t\\tOtherCurrentLiabilities                                 NaN   \n",
       "\\t\\tTotalNonCurrentLiabilitiesNetMinorityInterest   1,074,650,000   \n",
       "\\t\\t\\tLongTermDebt                                    586,119,000   \n",
       "\\t\\t\\tNonCurrentDeferredTaxesLiabilities                6,821,000   \n",
       "\\t\\t\\tNonCurrentDeferredRevenue                       181,180,000   \n",
       "\\t\\t\\tOtherNonCurrentLiabilities                      241,160,000   \n",
       "\\tStockholdersEquity                                  667,120,000   \n",
       "\\t\\tCapitalStock                                          123,000   \n",
       "\\t\\tRetainedEarnings                               -1,139,620,000   \n",
       "\\t\\tGainsLossesNotAffectingRetainedEarnings                   NaN   \n",
       "\n",
       "                                                       12/31/2012  \\\n",
       "name                                                                \n",
       "TotalAssets                                         1,114,190,000   \n",
       "\\tCurrentAssets                                       524,768,000   \n",
       "\\t\\tCashCashEquivalentsAndShortTermInvestments        201,890,000   \n",
       "\\t\\t\\tCashAndCashEquivalents                          201,890,000   \n",
       "\\t\\t\\tOtherShortTermInvestments                                 0   \n",
       "\\t\\tAccountsReceivable                                 26,842,000   \n",
       "\\t\\tInventory                                         268,504,000   \n",
       "\\tTotalNonCurrentAssets                               589,421,000   \n",
       "\\t\\tNetPPE                                            562,300,000   \n",
       "\\t\\t\\tGrossPPE                                        619,843,000   \n",
       "\\t\\t\\tAccumulatedDepreciation                         -57,543,000   \n",
       "\\t\\tGoodwill                                                  NaN   \n",
       "\\t\\tOtherIntangibleAssets                              14,267,000   \n",
       "\\t\\tOtherNonCurrentAssets                               7,095,000   \n",
       "\\tTotalLiabilitiesNetMinorityInterest                 989,490,000   \n",
       "\\t\\tCurrentLiabilities                                539,108,000   \n",
       "\\t\\t\\tCurrentDebt                                      50,841,000   \n",
       "\\t\\t\\tAccountsPayable                                 303,382,000   \n",
       "\\t\\t\\tCurrentAccruedExpenses                           30,088,000   \n",
       "\\t\\t\\tCurrentDeferredRevenue                          140,722,000   \n",
       "\\t\\t\\tOtherCurrentLiabilities                                 NaN   \n",
       "\\t\\tTotalNonCurrentLiabilitiesNetMinorityInterest     450,382,000   \n",
       "\\t\\t\\tLongTermDebt                                    401,495,000   \n",
       "\\t\\t\\tNonCurrentDeferredTaxesLiabilities                      NaN   \n",
       "\\t\\t\\tNonCurrentDeferredRevenue                         3,060,000   \n",
       "\\t\\t\\tOtherNonCurrentLiabilities                        3,838,000   \n",
       "\\tStockholdersEquity                                  124,700,000   \n",
       "\\t\\tCapitalStock                                          115,000   \n",
       "\\t\\tRetainedEarnings                               -1,065,606,000   \n",
       "\\t\\tGainsLossesNotAffectingRetainedEarnings                     0   \n",
       "\n",
       "                                                     12/31/2011    12/31/2010  \\\n",
       "name                                                                            \n",
       "TotalAssets                                         713,448,000   386,082,000   \n",
       "\\tCurrentAssets                                     372,838,000   235,886,000   \n",
       "\\t\\tCashCashEquivalentsAndShortTermInvestments      280,327,000    99,558,000   \n",
       "\\t\\t\\tCashAndCashEquivalents                        255,266,000    99,558,000   \n",
       "\\t\\t\\tOtherShortTermInvestments                      25,061,000           NaN   \n",
       "\\t\\tAccountsReceivable                                9,539,000     6,710,000   \n",
       "\\t\\tInventory                                        50,082,000    45,182,000   \n",
       "\\tTotalNonCurrentAssets                             340,610,000   150,196,000   \n",
       "\\t\\tNetPPE                                          310,171,000   122,599,000   \n",
       "\\t\\t\\tGrossPPE                                      342,393,000   144,592,000   \n",
       "\\t\\t\\tAccumulatedDepreciation                       -32,222,000   -21,993,000   \n",
       "\\t\\tGoodwill                                                NaN           NaN   \n",
       "\\t\\tOtherIntangibleAssets                                   NaN           NaN   \n",
       "\\t\\tOtherNonCurrentAssets                            30,439,000    27,597,000   \n",
       "\\tTotalLiabilitiesNetMinorityInterest               489,403,000   179,034,000   \n",
       "\\t\\tCurrentLiabilities                              191,339,000    85,565,000   \n",
       "\\t\\t\\tCurrentDebt                                     7,916,000           NaN   \n",
       "\\t\\t\\tAccountsPayable                                56,141,000    28,951,000   \n",
       "\\t\\t\\tCurrentAccruedExpenses                         22,237,000    11,755,000   \n",
       "\\t\\t\\tCurrentDeferredRevenue                          2,345,000     4,635,000   \n",
       "\\t\\t\\tOtherCurrentLiabilities                        91,761,000           NaN   \n",
       "\\t\\tTotalNonCurrentLiabilitiesNetMinorityInterest   298,064,000    93,469,000   \n",
       "\\t\\t\\tLongTermDebt                                  268,335,000    71,828,000   \n",
       "\\t\\t\\tNonCurrentDeferredTaxesLiabilities                    NaN           NaN   \n",
       "\\t\\t\\tNonCurrentDeferredRevenue                       3,146,000     2,783,000   \n",
       "\\t\\t\\tOtherNonCurrentLiabilities                      6,805,000     5,663,000   \n",
       "\\tStockholdersEquity                                224,045,000   207,048,000   \n",
       "\\t\\tCapitalStock                                        104,000        95,000   \n",
       "\\t\\tRetainedEarnings                               -669,392,000  -414,982,000   \n",
       "\\t\\tGainsLossesNotAffectingRetainedEarnings              -3,000           NaN   \n",
       "\n",
       "                                                     12/31/2009    12/31/2008  \\\n",
       "name                                                                            \n",
       "TotalAssets                                         130,424,000    51,699,000   \n",
       "\\tCurrentAssets                                     100,559,000    31,427,000   \n",
       "\\t\\tCashCashEquivalentsAndShortTermInvestments       69,627,000     9,277,000   \n",
       "\\t\\t\\tCashAndCashEquivalents                         69,627,000     9,277,000   \n",
       "\\t\\t\\tOtherShortTermInvestments                             NaN           NaN   \n",
       "\\t\\tAccountsReceivable                                3,488,000     3,320,000   \n",
       "\\t\\tInventory                                        23,222,000    16,650,000   \n",
       "\\tTotalNonCurrentAssets                              29,865,000    20,272,000   \n",
       "\\t\\tNetPPE                                           23,535,000    18,793,000   \n",
       "\\t\\t\\tGrossPPE                                       36,265,000    25,619,000   \n",
       "\\t\\t\\tAccumulatedDepreciation                       -12,730,000    -6,826,000   \n",
       "\\t\\tGoodwill                                                NaN           NaN   \n",
       "\\t\\tOtherIntangibleAssets                                   NaN           NaN   \n",
       "\\t\\tOtherNonCurrentAssets                             6,330,000     1,479,000   \n",
       "\\tTotalLiabilitiesNetMinorityInterest               383,947,000   251,413,000   \n",
       "\\t\\tCurrentLiabilities                               57,489,000    87,935,000   \n",
       "\\t\\t\\tCurrentDebt                                           NaN           NaN   \n",
       "\\t\\t\\tAccountsPayable                                15,086,000    14,184,000   \n",
       "\\t\\t\\tCurrentAccruedExpenses                         14,532,000    11,145,000   \n",
       "\\t\\t\\tCurrentDeferredRevenue                          1,377,000     4,073,000   \n",
       "\\t\\t\\tOtherCurrentLiabilities                        26,048,000    48,019,000   \n",
       "\\t\\tTotalNonCurrentLiabilitiesNetMinorityInterest   326,458,000   163,478,000   \n",
       "\\t\\t\\tLongTermDebt                                          NaN    54,528,000   \n",
       "\\t\\t\\tNonCurrentDeferredTaxesLiabilities                    NaN           NaN   \n",
       "\\t\\t\\tNonCurrentDeferredRevenue                       1,240,000             0   \n",
       "\\t\\t\\tOtherNonCurrentLiabilities                      5,193,000     6,884,000   \n",
       "\\tStockholdersEquity                               -253,523,000  -199,714,000   \n",
       "\\t\\tCapitalStock                                          7,000        21,000   \n",
       "\\t\\tRetainedEarnings                               -260,654,000  -204,914,000   \n",
       "\\t\\tGainsLossesNotAffectingRetainedEarnings                 NaN           NaN   \n",
       "\n",
       "                                                     12/31/2007  \n",
       "name                                                             \n",
       "TotalAssets                                          34,837,000  \n",
       "\\tCurrentAssets                                      22,308,000  \n",
       "\\t\\tCashCashEquivalentsAndShortTermInvestments       17,211,000  \n",
       "\\t\\t\\tCashAndCashEquivalents                         17,211,000  \n",
       "\\t\\t\\tOtherShortTermInvestments                             NaN  \n",
       "\\t\\tAccountsReceivable                                   59,000  \n",
       "\\t\\tInventory                                         2,108,000  \n",
       "\\tTotalNonCurrentAssets                              12,529,000  \n",
       "\\t\\tNetPPE                                           11,998,000  \n",
       "\\t\\t\\tGrossPPE                                       15,196,000  \n",
       "\\t\\t\\tAccumulatedDepreciation                        -3,198,000  \n",
       "\\t\\tGoodwill                                                NaN  \n",
       "\\t\\tOtherIntangibleAssets                                   NaN  \n",
       "\\t\\tOtherNonCurrentAssets                               531,000  \n",
       "\\tTotalLiabilitiesNetMinorityInterest               152,683,000  \n",
       "\\t\\tCurrentLiabilities                               51,296,000  \n",
       "\\t\\t\\tCurrentDebt                                           NaN  \n",
       "\\t\\t\\tAccountsPayable                                 5,369,000  \n",
       "\\t\\t\\tCurrentAccruedExpenses                          8,512,000  \n",
       "\\t\\t\\tCurrentDeferredRevenue                                  0  \n",
       "\\t\\t\\tOtherCurrentLiabilities                        37,335,000  \n",
       "\\t\\tTotalNonCurrentLiabilitiesNetMinorityInterest   101,387,000  \n",
       "\\t\\t\\tLongTermDebt                                          NaN  \n",
       "\\t\\t\\tNonCurrentDeferredTaxesLiabilities                    NaN  \n",
       "\\t\\t\\tNonCurrentDeferredRevenue                               0  \n",
       "\\t\\t\\tOtherNonCurrentLiabilities                        191,000  \n",
       "\\tStockholdersEquity                               -117,846,000  \n",
       "\\t\\tCapitalStock                                         18,000  \n",
       "\\t\\tRetainedEarnings                               -122,132,000  \n",
       "\\t\\tGainsLossesNotAffectingRetainedEarnings                 NaN  "
      ]
     },
     "execution_count": 108,
     "metadata": {},
     "output_type": "execute_result"
    }
   ],
   "source": [
    "balance_sheet = balance_sheet.set_index(\"name\")\n",
    "balance_sheet = balance_sheet.drop_duplicates()\n",
    "balance_sheet"
   ]
  },
  {
   "cell_type": "markdown",
   "metadata": {},
   "source": [
    "## Short-term Ratios"
   ]
  },
  {
   "cell_type": "code",
   "execution_count": 75,
   "metadata": {},
   "outputs": [],
   "source": [
    "current_liabilities = []\n",
    "for i in range(0,13):\n",
    "    j = int(balance_sheet.loc[\"\\t\\tCurrentLiabilities\"][i].replace(\",\",\"\"))\n",
    "    current_liabilities.append(j)"
   ]
  },
  {
   "cell_type": "code",
   "execution_count": 81,
   "metadata": {},
   "outputs": [],
   "source": [
    "inventory = []\n",
    "for i in range(0,13):\n",
    "    j = int(balance_sheet.loc[\"\\t\\tInventory\"][i].replace(\",\",\"\"))\n",
    "    inventory.append(j)"
   ]
  },
  {
   "cell_type": "code",
   "execution_count": 84,
   "metadata": {},
   "outputs": [],
   "source": [
    "cash = []\n",
    "for i in range(0,13):\n",
    "    j = int(balance_sheet.loc[\"\\t\\t\\tCashAndCashEquivalents\"][i].replace(\",\",\"\"))\n",
    "    cash.append(j)"
   ]
  },
  {
   "cell_type": "code",
   "execution_count": 88,
   "metadata": {},
   "outputs": [],
   "source": [
    "short_term_analysis = {}\n",
    "short_term_analysis[\"year\"]=[\"2019\",\"2018\",\"2017\",\"2016\",\"2015\",\"2014\",\"2013\",\"2012\",\"2011\",\"2010\",\"2009\",\"2008\",\n",
    "                            \"2007\"]"
   ]
  },
  {
   "cell_type": "code",
   "execution_count": 89,
   "metadata": {},
   "outputs": [],
   "source": [
    "short_term_analysis[\"current ratio\"]= [i/j for i, j in zip(current_assets,current_liabilities)]"
   ]
  },
  {
   "cell_type": "code",
   "execution_count": 90,
   "metadata": {},
   "outputs": [],
   "source": [
    "short_term_analysis[\"quick ratio\"]= [(i-k)/j for i, j, k in zip(current_assets,current_liabilities,inventory)]"
   ]
  },
  {
   "cell_type": "code",
   "execution_count": 91,
   "metadata": {},
   "outputs": [],
   "source": [
    "short_term_analysis[\"cash ratio\"]= [i/j for i, j in zip(cash,current_liabilities)]"
   ]
  },
  {
   "cell_type": "code",
   "execution_count": 92,
   "metadata": {},
   "outputs": [
    {
     "data": {
      "text/plain": [
       "{'year': ['2019',\n",
       "  '2018',\n",
       "  '2017',\n",
       "  '2016',\n",
       "  '2015',\n",
       "  '2014',\n",
       "  '2013',\n",
       "  '2012',\n",
       "  '2011',\n",
       "  '2010',\n",
       "  '2009',\n",
       "  '2008',\n",
       "  '2007'],\n",
       " 'current ratio': [1.1346207931002157,\n",
       "  0.8312845221482174,\n",
       "  0.8561306219029613,\n",
       "  1.0742733187975642,\n",
       "  0.9912274160823841,\n",
       "  1.5179900397026147,\n",
       "  1.8750207358255822,\n",
       "  0.973400506021057,\n",
       "  1.948572951672163,\n",
       "  2.7568047683047974,\n",
       "  1.7491868009532259,\n",
       "  0.357388980496958,\n",
       "  0.4348877105427324],\n",
       " 'quick ratio': [0.8016311990250304,\n",
       "  0.5196948880599703,\n",
       "  0.561194552990552,\n",
       "  0.719467719694766,\n",
       "  0.5374938660087761,\n",
       "  1.0654034850600285,\n",
       "  1.3709105989691333,\n",
       "  0.47534816771407584,\n",
       "  1.6868280904572512,\n",
       "  2.2287617600654475,\n",
       "  1.3452486562646768,\n",
       "  0.16804457838175926,\n",
       "  0.39379288833437304],\n",
       " 'cash ratio': [0.5876066372925846,\n",
       "  0.3688518651067199,\n",
       "  0.4388350248284291,\n",
       "  0.5823259118535166,\n",
       "  0.42499699958171683,\n",
       "  0.9043962364616741,\n",
       "  1.2528719118431186,\n",
       "  0.3744889706700698,\n",
       "  1.3341033453713043,\n",
       "  1.163536492724829,\n",
       "  1.2111360434170015,\n",
       "  0.10549837948484676,\n",
       "  0.3355232376793512]}"
      ]
     },
     "execution_count": 92,
     "metadata": {},
     "output_type": "execute_result"
    }
   ],
   "source": [
    "short_term_analysis"
   ]
  },
  {
   "cell_type": "code",
   "execution_count": 94,
   "metadata": {},
   "outputs": [
    {
     "data": {
      "text/html": [
       "<div>\n",
       "<style scoped>\n",
       "    .dataframe tbody tr th:only-of-type {\n",
       "        vertical-align: middle;\n",
       "    }\n",
       "\n",
       "    .dataframe tbody tr th {\n",
       "        vertical-align: top;\n",
       "    }\n",
       "\n",
       "    .dataframe thead th {\n",
       "        text-align: right;\n",
       "    }\n",
       "</style>\n",
       "<table border=\"1\" class=\"dataframe\">\n",
       "  <thead>\n",
       "    <tr style=\"text-align: right;\">\n",
       "      <th></th>\n",
       "      <th>year</th>\n",
       "      <th>current ratio</th>\n",
       "      <th>quick ratio</th>\n",
       "      <th>cash ratio</th>\n",
       "    </tr>\n",
       "  </thead>\n",
       "  <tbody>\n",
       "    <tr>\n",
       "      <td>0</td>\n",
       "      <td>2019</td>\n",
       "      <td>1.134621</td>\n",
       "      <td>0.801631</td>\n",
       "      <td>0.587607</td>\n",
       "    </tr>\n",
       "    <tr>\n",
       "      <td>1</td>\n",
       "      <td>2018</td>\n",
       "      <td>0.831285</td>\n",
       "      <td>0.519695</td>\n",
       "      <td>0.368852</td>\n",
       "    </tr>\n",
       "    <tr>\n",
       "      <td>2</td>\n",
       "      <td>2017</td>\n",
       "      <td>0.856131</td>\n",
       "      <td>0.561195</td>\n",
       "      <td>0.438835</td>\n",
       "    </tr>\n",
       "    <tr>\n",
       "      <td>3</td>\n",
       "      <td>2016</td>\n",
       "      <td>1.074273</td>\n",
       "      <td>0.719468</td>\n",
       "      <td>0.582326</td>\n",
       "    </tr>\n",
       "    <tr>\n",
       "      <td>4</td>\n",
       "      <td>2015</td>\n",
       "      <td>0.991227</td>\n",
       "      <td>0.537494</td>\n",
       "      <td>0.424997</td>\n",
       "    </tr>\n",
       "    <tr>\n",
       "      <td>5</td>\n",
       "      <td>2014</td>\n",
       "      <td>1.517990</td>\n",
       "      <td>1.065403</td>\n",
       "      <td>0.904396</td>\n",
       "    </tr>\n",
       "    <tr>\n",
       "      <td>6</td>\n",
       "      <td>2013</td>\n",
       "      <td>1.875021</td>\n",
       "      <td>1.370911</td>\n",
       "      <td>1.252872</td>\n",
       "    </tr>\n",
       "    <tr>\n",
       "      <td>7</td>\n",
       "      <td>2012</td>\n",
       "      <td>0.973401</td>\n",
       "      <td>0.475348</td>\n",
       "      <td>0.374489</td>\n",
       "    </tr>\n",
       "    <tr>\n",
       "      <td>8</td>\n",
       "      <td>2011</td>\n",
       "      <td>1.948573</td>\n",
       "      <td>1.686828</td>\n",
       "      <td>1.334103</td>\n",
       "    </tr>\n",
       "    <tr>\n",
       "      <td>9</td>\n",
       "      <td>2010</td>\n",
       "      <td>2.756805</td>\n",
       "      <td>2.228762</td>\n",
       "      <td>1.163536</td>\n",
       "    </tr>\n",
       "    <tr>\n",
       "      <td>10</td>\n",
       "      <td>2009</td>\n",
       "      <td>1.749187</td>\n",
       "      <td>1.345249</td>\n",
       "      <td>1.211136</td>\n",
       "    </tr>\n",
       "    <tr>\n",
       "      <td>11</td>\n",
       "      <td>2008</td>\n",
       "      <td>0.357389</td>\n",
       "      <td>0.168045</td>\n",
       "      <td>0.105498</td>\n",
       "    </tr>\n",
       "    <tr>\n",
       "      <td>12</td>\n",
       "      <td>2007</td>\n",
       "      <td>0.434888</td>\n",
       "      <td>0.393793</td>\n",
       "      <td>0.335523</td>\n",
       "    </tr>\n",
       "  </tbody>\n",
       "</table>\n",
       "</div>"
      ],
      "text/plain": [
       "    year  current ratio  quick ratio  cash ratio\n",
       "0   2019       1.134621     0.801631    0.587607\n",
       "1   2018       0.831285     0.519695    0.368852\n",
       "2   2017       0.856131     0.561195    0.438835\n",
       "3   2016       1.074273     0.719468    0.582326\n",
       "4   2015       0.991227     0.537494    0.424997\n",
       "5   2014       1.517990     1.065403    0.904396\n",
       "6   2013       1.875021     1.370911    1.252872\n",
       "7   2012       0.973401     0.475348    0.374489\n",
       "8   2011       1.948573     1.686828    1.334103\n",
       "9   2010       2.756805     2.228762    1.163536\n",
       "10  2009       1.749187     1.345249    1.211136\n",
       "11  2008       0.357389     0.168045    0.105498\n",
       "12  2007       0.434888     0.393793    0.335523"
      ]
     },
     "execution_count": 94,
     "metadata": {},
     "output_type": "execute_result"
    }
   ],
   "source": [
    "short_term_ratios = pd.DataFrame(short_term_analysis)\n",
    "short_term_ratios"
   ]
  },
  {
   "cell_type": "markdown",
   "metadata": {},
   "source": [
    "## Long term ratios"
   ]
  },
  {
   "cell_type": "code",
   "execution_count": 95,
   "metadata": {},
   "outputs": [],
   "source": [
    "total_liabilities = []\n",
    "for i in range(0,13):\n",
    "    j = int(balance_sheet.loc[\"\\t\\tTotalLiabilitiesNetMinorityInterest\"][i].replace(\",\",\"\"))\n",
    "    total_liabilities.append(j)"
   ]
  },
  {
   "cell_type": "code",
   "execution_count": 109,
   "metadata": {},
   "outputs": [],
   "source": [
    "total_assets = []\n",
    "for i in range(0,13):\n",
    "    j = int(balance_sheet.loc[\"TotalAssets\"][i].replace(\",\",\"\"))\n",
    "    total_assets.append(j)"
   ]
  },
  {
   "cell_type": "code",
   "execution_count": 110,
   "metadata": {},
   "outputs": [],
   "source": [
    "total_equity = []\n",
    "for i in range(0,13):\n",
    "    j = int(balance_sheet.loc[\"\\tStockholdersEquity\"][i].replace(\",\",\"\"))\n",
    "    total_equity.append(j)"
   ]
  },
  {
   "cell_type": "code",
   "execution_count": 111,
   "metadata": {},
   "outputs": [],
   "source": [
    "long_term = {}\n",
    "long_term[\"year\"]=[\"2019\",\"2018\",\"2017\",\"2016\",\"2015\",\"2014\",\"2013\",\"2012\",\"2011\",\"2010\",\"2009\",\"2008\",\n",
    "                            \"2007\"]"
   ]
  },
  {
   "cell_type": "code",
   "execution_count": 112,
   "metadata": {},
   "outputs": [],
   "source": [
    "long_term[\"total debt ratio\"] = [(i-j)/i for i, j in zip(total_assets,total_equity)]"
   ]
  },
  {
   "cell_type": "code",
   "execution_count": 114,
   "metadata": {},
   "outputs": [],
   "source": [
    "long_term[\"debt-equity ratio\"] = [i/j for i, j in zip(total_liabilities,total_equity)]"
   ]
  },
  {
   "cell_type": "code",
   "execution_count": 115,
   "metadata": {},
   "outputs": [],
   "source": [
    "long_term[\"equity multiplier\"] = [i/j for i, j in zip(total_assets,total_equity)]"
   ]
  },
  {
   "cell_type": "code",
   "execution_count": 116,
   "metadata": {},
   "outputs": [
    {
     "data": {
      "text/html": [
       "<div>\n",
       "<style scoped>\n",
       "    .dataframe tbody tr th:only-of-type {\n",
       "        vertical-align: middle;\n",
       "    }\n",
       "\n",
       "    .dataframe tbody tr th {\n",
       "        vertical-align: top;\n",
       "    }\n",
       "\n",
       "    .dataframe thead th {\n",
       "        text-align: right;\n",
       "    }\n",
       "</style>\n",
       "<table border=\"1\" class=\"dataframe\">\n",
       "  <thead>\n",
       "    <tr style=\"text-align: right;\">\n",
       "      <th></th>\n",
       "      <th>year</th>\n",
       "      <th>total debt ratio</th>\n",
       "      <th>debt-equity ratio</th>\n",
       "      <th>equity multiplier</th>\n",
       "    </tr>\n",
       "  </thead>\n",
       "  <tbody>\n",
       "    <tr>\n",
       "      <td>0</td>\n",
       "      <td>2019</td>\n",
       "      <td>0.807106</td>\n",
       "      <td>4.055908</td>\n",
       "      <td>5.184195</td>\n",
       "    </tr>\n",
       "    <tr>\n",
       "      <td>1</td>\n",
       "      <td>2018</td>\n",
       "      <td>0.834455</td>\n",
       "      <td>4.871174</td>\n",
       "      <td>6.040655</td>\n",
       "    </tr>\n",
       "    <tr>\n",
       "      <td>2</td>\n",
       "      <td>2017</td>\n",
       "      <td>0.852131</td>\n",
       "      <td>5.527365</td>\n",
       "      <td>6.762741</td>\n",
       "    </tr>\n",
       "    <tr>\n",
       "      <td>3</td>\n",
       "      <td>2016</td>\n",
       "      <td>0.790289</td>\n",
       "      <td>3.603263</td>\n",
       "      <td>4.768462</td>\n",
       "    </tr>\n",
       "    <tr>\n",
       "      <td>4</td>\n",
       "      <td>2015</td>\n",
       "      <td>0.865437</td>\n",
       "      <td>6.431475</td>\n",
       "      <td>7.431475</td>\n",
       "    </tr>\n",
       "    <tr>\n",
       "      <td>5</td>\n",
       "      <td>2014</td>\n",
       "      <td>0.844132</td>\n",
       "      <td>5.415692</td>\n",
       "      <td>6.415692</td>\n",
       "    </tr>\n",
       "    <tr>\n",
       "      <td>6</td>\n",
       "      <td>2013</td>\n",
       "      <td>0.723980</td>\n",
       "      <td>2.622931</td>\n",
       "      <td>3.622931</td>\n",
       "    </tr>\n",
       "    <tr>\n",
       "      <td>7</td>\n",
       "      <td>2012</td>\n",
       "      <td>0.888080</td>\n",
       "      <td>7.934964</td>\n",
       "      <td>8.934964</td>\n",
       "    </tr>\n",
       "    <tr>\n",
       "      <td>8</td>\n",
       "      <td>2011</td>\n",
       "      <td>0.685969</td>\n",
       "      <td>2.184396</td>\n",
       "      <td>3.184396</td>\n",
       "    </tr>\n",
       "    <tr>\n",
       "      <td>9</td>\n",
       "      <td>2010</td>\n",
       "      <td>0.463720</td>\n",
       "      <td>0.864698</td>\n",
       "      <td>1.864698</td>\n",
       "    </tr>\n",
       "    <tr>\n",
       "      <td>10</td>\n",
       "      <td>2009</td>\n",
       "      <td>2.943837</td>\n",
       "      <td>-1.514446</td>\n",
       "      <td>-0.514446</td>\n",
       "    </tr>\n",
       "    <tr>\n",
       "      <td>11</td>\n",
       "      <td>2008</td>\n",
       "      <td>4.863015</td>\n",
       "      <td>-1.258865</td>\n",
       "      <td>-0.258865</td>\n",
       "    </tr>\n",
       "    <tr>\n",
       "      <td>12</td>\n",
       "      <td>2007</td>\n",
       "      <td>4.382783</td>\n",
       "      <td>-1.295615</td>\n",
       "      <td>-0.295615</td>\n",
       "    </tr>\n",
       "  </tbody>\n",
       "</table>\n",
       "</div>"
      ],
      "text/plain": [
       "    year  total debt ratio  debt-equity ratio  equity multiplier\n",
       "0   2019          0.807106           4.055908           5.184195\n",
       "1   2018          0.834455           4.871174           6.040655\n",
       "2   2017          0.852131           5.527365           6.762741\n",
       "3   2016          0.790289           3.603263           4.768462\n",
       "4   2015          0.865437           6.431475           7.431475\n",
       "5   2014          0.844132           5.415692           6.415692\n",
       "6   2013          0.723980           2.622931           3.622931\n",
       "7   2012          0.888080           7.934964           8.934964\n",
       "8   2011          0.685969           2.184396           3.184396\n",
       "9   2010          0.463720           0.864698           1.864698\n",
       "10  2009          2.943837          -1.514446          -0.514446\n",
       "11  2008          4.863015          -1.258865          -0.258865\n",
       "12  2007          4.382783          -1.295615          -0.295615"
      ]
     },
     "execution_count": 116,
     "metadata": {},
     "output_type": "execute_result"
    }
   ],
   "source": [
    "long_term_ratio = pd.DataFrame(long_term)\n",
    "long_term_ratio"
   ]
  },
  {
   "cell_type": "markdown",
   "metadata": {},
   "source": [
    "## Profitability"
   ]
  },
  {
   "cell_type": "code",
   "execution_count": 128,
   "metadata": {},
   "outputs": [
    {
     "data": {
      "text/html": [
       "<div>\n",
       "<style scoped>\n",
       "    .dataframe tbody tr th:only-of-type {\n",
       "        vertical-align: middle;\n",
       "    }\n",
       "\n",
       "    .dataframe tbody tr th {\n",
       "        vertical-align: top;\n",
       "    }\n",
       "\n",
       "    .dataframe thead th {\n",
       "        text-align: right;\n",
       "    }\n",
       "</style>\n",
       "<table border=\"1\" class=\"dataframe\">\n",
       "  <thead>\n",
       "    <tr style=\"text-align: right;\">\n",
       "      <th></th>\n",
       "      <th>12/31/2019</th>\n",
       "      <th>12/31/2018</th>\n",
       "      <th>12/31/2017</th>\n",
       "      <th>12/31/2016</th>\n",
       "      <th>12/31/2015</th>\n",
       "      <th>12/31/2014</th>\n",
       "      <th>12/31/2013</th>\n",
       "      <th>12/31/2012</th>\n",
       "      <th>12/31/2011</th>\n",
       "      <th>12/31/2010</th>\n",
       "      <th>12/31/2009</th>\n",
       "      <th>12/31/2008</th>\n",
       "      <th>12/31/2007</th>\n",
       "    </tr>\n",
       "    <tr>\n",
       "      <th>name</th>\n",
       "      <th></th>\n",
       "      <th></th>\n",
       "      <th></th>\n",
       "      <th></th>\n",
       "      <th></th>\n",
       "      <th></th>\n",
       "      <th></th>\n",
       "      <th></th>\n",
       "      <th></th>\n",
       "      <th></th>\n",
       "      <th></th>\n",
       "      <th></th>\n",
       "      <th></th>\n",
       "    </tr>\n",
       "  </thead>\n",
       "  <tbody>\n",
       "    <tr>\n",
       "      <td>TotalRevenue</td>\n",
       "      <td>24,578,000,000</td>\n",
       "      <td>21,461,268,000</td>\n",
       "      <td>11,758,751,000</td>\n",
       "      <td>7,000,132,000</td>\n",
       "      <td>4,046,025,000</td>\n",
       "      <td>3,198,356,000</td>\n",
       "      <td>2,013,496,000</td>\n",
       "      <td>413,256,000</td>\n",
       "      <td>204,242,000</td>\n",
       "      <td>116,744,000</td>\n",
       "      <td>111,943,000</td>\n",
       "      <td>14,742,000</td>\n",
       "      <td>73,000</td>\n",
       "    </tr>\n",
       "    <tr>\n",
       "      <td>CostOfRevenue</td>\n",
       "      <td>20,509,000,000</td>\n",
       "      <td>17,419,247,000</td>\n",
       "      <td>9,536,264,000</td>\n",
       "      <td>5,400,875,000</td>\n",
       "      <td>3,122,522,000</td>\n",
       "      <td>2,316,685,000</td>\n",
       "      <td>1,557,234,000</td>\n",
       "      <td>383,189,000</td>\n",
       "      <td>142,647,000</td>\n",
       "      <td>86,013,000</td>\n",
       "      <td>102,408,000</td>\n",
       "      <td>15,883,000</td>\n",
       "      <td>9,000</td>\n",
       "    </tr>\n",
       "    <tr>\n",
       "      <td>GrossProfit</td>\n",
       "      <td>4,069,000,000</td>\n",
       "      <td>4,042,021,000</td>\n",
       "      <td>2,222,487,000</td>\n",
       "      <td>1,599,257,000</td>\n",
       "      <td>923,503,000</td>\n",
       "      <td>881,671,000</td>\n",
       "      <td>456,262,000</td>\n",
       "      <td>30,067,000</td>\n",
       "      <td>61,595,000</td>\n",
       "      <td>30,731,000</td>\n",
       "      <td>9,535,000</td>\n",
       "      <td>-1,141,000</td>\n",
       "      <td>64,000</td>\n",
       "    </tr>\n",
       "    <tr>\n",
       "      <td>OperatingExpense</td>\n",
       "      <td>3,989,000,000</td>\n",
       "      <td>4,294,861,000</td>\n",
       "      <td>3,854,573,000</td>\n",
       "      <td>2,266,597,000</td>\n",
       "      <td>1,640,132,000</td>\n",
       "      <td>1,068,360,000</td>\n",
       "      <td>517,545,000</td>\n",
       "      <td>424,350,000</td>\n",
       "      <td>313,083,000</td>\n",
       "      <td>177,569,000</td>\n",
       "      <td>61,432,000</td>\n",
       "      <td>77,363,000</td>\n",
       "      <td>79,997,000</td>\n",
       "    </tr>\n",
       "    <tr>\n",
       "      <td>\\tResearchAndDevelopment</td>\n",
       "      <td>1,343,000,000</td>\n",
       "      <td>1,460,370,000</td>\n",
       "      <td>1,378,073,000</td>\n",
       "      <td>834,408,000</td>\n",
       "      <td>717,900,000</td>\n",
       "      <td>464,700,000</td>\n",
       "      <td>231,976,000</td>\n",
       "      <td>273,978,000</td>\n",
       "      <td>208,981,000</td>\n",
       "      <td>92,996,000</td>\n",
       "      <td>19,282,000</td>\n",
       "      <td>53,714,000</td>\n",
       "      <td>62,753,000</td>\n",
       "    </tr>\n",
       "    <tr>\n",
       "      <td>\\tSellingGeneralAndAdministration</td>\n",
       "      <td>2,646,000,000</td>\n",
       "      <td>2,834,491,000</td>\n",
       "      <td>2,476,500,000</td>\n",
       "      <td>1,432,189,000</td>\n",
       "      <td>922,232,000</td>\n",
       "      <td>603,660,000</td>\n",
       "      <td>285,569,000</td>\n",
       "      <td>150,372,000</td>\n",
       "      <td>104,102,000</td>\n",
       "      <td>84,573,000</td>\n",
       "      <td>42,150,000</td>\n",
       "      <td>23,649,000</td>\n",
       "      <td>17,244,000</td>\n",
       "    </tr>\n",
       "    <tr>\n",
       "      <td>\\tOperatingExpense</td>\n",
       "      <td>3,989,000,000</td>\n",
       "      <td>4,294,861,000</td>\n",
       "      <td>3,854,573,000</td>\n",
       "      <td>2,266,597,000</td>\n",
       "      <td>1,640,132,000</td>\n",
       "      <td>1,068,360,000</td>\n",
       "      <td>517,545,000</td>\n",
       "      <td>424,350,000</td>\n",
       "      <td>313,083,000</td>\n",
       "      <td>177,569,000</td>\n",
       "      <td>61,432,000</td>\n",
       "      <td>77,363,000</td>\n",
       "      <td>79,997,000</td>\n",
       "    </tr>\n",
       "    <tr>\n",
       "      <td>OperatingIncome</td>\n",
       "      <td>80,000,000</td>\n",
       "      <td>-252,840,000</td>\n",
       "      <td>-1,632,086,000</td>\n",
       "      <td>-667,340,000</td>\n",
       "      <td>-716,629,000</td>\n",
       "      <td>-186,689,000</td>\n",
       "      <td>-61,283,000</td>\n",
       "      <td>-394,283,000</td>\n",
       "      <td>-251,488,000</td>\n",
       "      <td>-146,838,000</td>\n",
       "      <td>-51,897,000</td>\n",
       "      <td>-78,504,000</td>\n",
       "      <td>-79,933,000</td>\n",
       "    </tr>\n",
       "    <tr>\n",
       "      <td>InterestExpense</td>\n",
       "      <td>685,000,000</td>\n",
       "      <td>663,071,000</td>\n",
       "      <td>471,259,000</td>\n",
       "      <td>198,810,000</td>\n",
       "      <td>118,851,000</td>\n",
       "      <td>100,886,000</td>\n",
       "      <td>32,934,000</td>\n",
       "      <td>254,000</td>\n",
       "      <td>43,000</td>\n",
       "      <td>992,000</td>\n",
       "      <td>2,531,000</td>\n",
       "      <td>3,747,000</td>\n",
       "      <td>0</td>\n",
       "    </tr>\n",
       "    <tr>\n",
       "      <td>OtherIncomeExpense</td>\n",
       "      <td>-104,000,000</td>\n",
       "      <td>-113,367,000</td>\n",
       "      <td>-125,373,000</td>\n",
       "      <td>111,272,000</td>\n",
       "      <td>-41,652,000</td>\n",
       "      <td>1,813,000</td>\n",
       "      <td>22,602,000</td>\n",
       "      <td>-1,828,000</td>\n",
       "      <td>-2,646,000</td>\n",
       "      <td>-6,583,000</td>\n",
       "      <td>-1,445,000</td>\n",
       "      <td>-963,000</td>\n",
       "      <td>137,000</td>\n",
       "    </tr>\n",
       "    <tr>\n",
       "      <td>PretaxIncome</td>\n",
       "      <td>-665,000,000</td>\n",
       "      <td>-1,004,745,000</td>\n",
       "      <td>-2,209,032,000</td>\n",
       "      <td>-746,348,000</td>\n",
       "      <td>-875,624,000</td>\n",
       "      <td>-284,636,000</td>\n",
       "      <td>-71,426,000</td>\n",
       "      <td>-396,077,000</td>\n",
       "      <td>-253,922,000</td>\n",
       "      <td>-154,155,000</td>\n",
       "      <td>-55,714,000</td>\n",
       "      <td>-82,685,000</td>\n",
       "      <td>-78,047,000</td>\n",
       "    </tr>\n",
       "    <tr>\n",
       "      <td>TaxProvision</td>\n",
       "      <td>110,000,000</td>\n",
       "      <td>57,837,000</td>\n",
       "      <td>31,546,000</td>\n",
       "      <td>26,698,000</td>\n",
       "      <td>13,039,000</td>\n",
       "      <td>9,404,000</td>\n",
       "      <td>2,588,000</td>\n",
       "      <td>136,000</td>\n",
       "      <td>489,000</td>\n",
       "      <td>173,000</td>\n",
       "      <td>26,000</td>\n",
       "      <td>97,000</td>\n",
       "      <td>110,000</td>\n",
       "    </tr>\n",
       "    <tr>\n",
       "      <td>NetIncomeContinuousOperations</td>\n",
       "      <td>-775,000,000</td>\n",
       "      <td>-1,062,582,000</td>\n",
       "      <td>-2,240,578,000</td>\n",
       "      <td>-773,046,000</td>\n",
       "      <td>-888,663,000</td>\n",
       "      <td>-294,040,000</td>\n",
       "      <td>-74,014,000</td>\n",
       "      <td>-396,213,000</td>\n",
       "      <td>-254,411,000</td>\n",
       "      <td>-154,328,000</td>\n",
       "      <td>-55,740,000</td>\n",
       "      <td>-82,782,000</td>\n",
       "      <td>-78,157,000</td>\n",
       "    </tr>\n",
       "    <tr>\n",
       "      <td>NetIncome</td>\n",
       "      <td>-862,000,000</td>\n",
       "      <td>-976,091,000</td>\n",
       "      <td>-1,961,400,000</td>\n",
       "      <td>-674,914,000</td>\n",
       "      <td>-888,663,000</td>\n",
       "      <td>-294,040,000</td>\n",
       "      <td>-74,014,000</td>\n",
       "      <td>-396,213,000</td>\n",
       "      <td>-254,411,000</td>\n",
       "      <td>-154,328,000</td>\n",
       "      <td>-55,740,000</td>\n",
       "      <td>-82,782,000</td>\n",
       "      <td>-78,157,000</td>\n",
       "    </tr>\n",
       "    <tr>\n",
       "      <td>NetIncomeCommonStockholders</td>\n",
       "      <td>-862,000,000</td>\n",
       "      <td>-976,091,000</td>\n",
       "      <td>-1,961,400,000</td>\n",
       "      <td>-674,914,000</td>\n",
       "      <td>-888,663,000</td>\n",
       "      <td>-294,040,000</td>\n",
       "      <td>-74,014,000</td>\n",
       "      <td>-396,213,000</td>\n",
       "      <td>-254,411,000</td>\n",
       "      <td>-154,328,000</td>\n",
       "      <td>-55,740,000</td>\n",
       "      <td>-82,782,000</td>\n",
       "      <td>-78,157,000</td>\n",
       "    </tr>\n",
       "    <tr>\n",
       "      <td>BasicEPS</td>\n",
       "      <td>NaN</td>\n",
       "      <td>-5.72</td>\n",
       "      <td>-11.83</td>\n",
       "      <td>-4.68</td>\n",
       "      <td>-6.93</td>\n",
       "      <td>-2.36</td>\n",
       "      <td>-0.62</td>\n",
       "      <td>-3.69</td>\n",
       "      <td>-2.53</td>\n",
       "      <td>-3.04</td>\n",
       "      <td>-0.7</td>\n",
       "      <td>-1.062</td>\n",
       "      <td>-1.002</td>\n",
       "    </tr>\n",
       "    <tr>\n",
       "      <td>DilutedEPS</td>\n",
       "      <td>NaN</td>\n",
       "      <td>-5.72</td>\n",
       "      <td>-11.83</td>\n",
       "      <td>-4.68</td>\n",
       "      <td>-6.93</td>\n",
       "      <td>-2.36</td>\n",
       "      <td>-0.62</td>\n",
       "      <td>-3.69</td>\n",
       "      <td>-2.53</td>\n",
       "      <td>-3.04</td>\n",
       "      <td>-0.7</td>\n",
       "      <td>-1.062</td>\n",
       "      <td>-1.002</td>\n",
       "    </tr>\n",
       "    <tr>\n",
       "      <td>BasicAverageShares</td>\n",
       "      <td>NaN</td>\n",
       "      <td>170,525,000</td>\n",
       "      <td>165,758,000</td>\n",
       "      <td>144,212,000</td>\n",
       "      <td>128,202,000</td>\n",
       "      <td>124,573,000</td>\n",
       "      <td>119,421,000</td>\n",
       "      <td>107,349,000</td>\n",
       "      <td>100,388,815</td>\n",
       "      <td>50,718,302</td>\n",
       "      <td>77,693,854</td>\n",
       "      <td>77,973,831</td>\n",
       "      <td>77,973,831</td>\n",
       "    </tr>\n",
       "    <tr>\n",
       "      <td>DilutedAverageShares</td>\n",
       "      <td>NaN</td>\n",
       "      <td>170,525,000</td>\n",
       "      <td>165,758,000</td>\n",
       "      <td>144,212,000</td>\n",
       "      <td>128,202,000</td>\n",
       "      <td>124,573,000</td>\n",
       "      <td>119,421,000</td>\n",
       "      <td>107,349,000</td>\n",
       "      <td>100,388,815</td>\n",
       "      <td>50,718,302</td>\n",
       "      <td>77,693,854</td>\n",
       "      <td>77,973,831</td>\n",
       "      <td>77,973,831</td>\n",
       "    </tr>\n",
       "    <tr>\n",
       "      <td>Ebitda</td>\n",
       "      <td>2,174,000,000</td>\n",
       "      <td>1,559,376,000</td>\n",
       "      <td>-101,770,000</td>\n",
       "      <td>399,561,000</td>\n",
       "      <td>-334,183,000</td>\n",
       "      <td>48,181,000</td>\n",
       "      <td>67,591,000</td>\n",
       "      <td>-366,998,000</td>\n",
       "      <td>-236,960,000</td>\n",
       "      <td>-142,540,000</td>\n",
       "      <td>-46,243,000</td>\n",
       "      <td>-74,781,000</td>\n",
       "      <td>-75,152,000</td>\n",
       "    </tr>\n",
       "  </tbody>\n",
       "</table>\n",
       "</div>"
      ],
      "text/plain": [
       "                                       12/31/2019      12/31/2018  \\\n",
       "name                                                                \n",
       "TotalRevenue                       24,578,000,000  21,461,268,000   \n",
       "CostOfRevenue                      20,509,000,000  17,419,247,000   \n",
       "GrossProfit                         4,069,000,000   4,042,021,000   \n",
       "OperatingExpense                    3,989,000,000   4,294,861,000   \n",
       "\\tResearchAndDevelopment            1,343,000,000   1,460,370,000   \n",
       "\\tSellingGeneralAndAdministration   2,646,000,000   2,834,491,000   \n",
       "\\tOperatingExpense                  3,989,000,000   4,294,861,000   \n",
       "OperatingIncome                        80,000,000    -252,840,000   \n",
       "InterestExpense                       685,000,000     663,071,000   \n",
       "OtherIncomeExpense                   -104,000,000    -113,367,000   \n",
       "PretaxIncome                         -665,000,000  -1,004,745,000   \n",
       "TaxProvision                          110,000,000      57,837,000   \n",
       "NetIncomeContinuousOperations        -775,000,000  -1,062,582,000   \n",
       "NetIncome                            -862,000,000    -976,091,000   \n",
       "NetIncomeCommonStockholders          -862,000,000    -976,091,000   \n",
       "BasicEPS                                      NaN           -5.72   \n",
       "DilutedEPS                                    NaN           -5.72   \n",
       "BasicAverageShares                            NaN     170,525,000   \n",
       "DilutedAverageShares                          NaN     170,525,000   \n",
       "Ebitda                              2,174,000,000   1,559,376,000   \n",
       "\n",
       "                                       12/31/2017     12/31/2016  \\\n",
       "name                                                               \n",
       "TotalRevenue                       11,758,751,000  7,000,132,000   \n",
       "CostOfRevenue                       9,536,264,000  5,400,875,000   \n",
       "GrossProfit                         2,222,487,000  1,599,257,000   \n",
       "OperatingExpense                    3,854,573,000  2,266,597,000   \n",
       "\\tResearchAndDevelopment            1,378,073,000    834,408,000   \n",
       "\\tSellingGeneralAndAdministration   2,476,500,000  1,432,189,000   \n",
       "\\tOperatingExpense                  3,854,573,000  2,266,597,000   \n",
       "OperatingIncome                    -1,632,086,000   -667,340,000   \n",
       "InterestExpense                       471,259,000    198,810,000   \n",
       "OtherIncomeExpense                   -125,373,000    111,272,000   \n",
       "PretaxIncome                       -2,209,032,000   -746,348,000   \n",
       "TaxProvision                           31,546,000     26,698,000   \n",
       "NetIncomeContinuousOperations      -2,240,578,000   -773,046,000   \n",
       "NetIncome                          -1,961,400,000   -674,914,000   \n",
       "NetIncomeCommonStockholders        -1,961,400,000   -674,914,000   \n",
       "BasicEPS                                   -11.83          -4.68   \n",
       "DilutedEPS                                 -11.83          -4.68   \n",
       "BasicAverageShares                    165,758,000    144,212,000   \n",
       "DilutedAverageShares                  165,758,000    144,212,000   \n",
       "Ebitda                               -101,770,000    399,561,000   \n",
       "\n",
       "                                      12/31/2015     12/31/2014  \\\n",
       "name                                                              \n",
       "TotalRevenue                       4,046,025,000  3,198,356,000   \n",
       "CostOfRevenue                      3,122,522,000  2,316,685,000   \n",
       "GrossProfit                          923,503,000    881,671,000   \n",
       "OperatingExpense                   1,640,132,000  1,068,360,000   \n",
       "\\tResearchAndDevelopment             717,900,000    464,700,000   \n",
       "\\tSellingGeneralAndAdministration    922,232,000    603,660,000   \n",
       "\\tOperatingExpense                 1,640,132,000  1,068,360,000   \n",
       "OperatingIncome                     -716,629,000   -186,689,000   \n",
       "InterestExpense                      118,851,000    100,886,000   \n",
       "OtherIncomeExpense                   -41,652,000      1,813,000   \n",
       "PretaxIncome                        -875,624,000   -284,636,000   \n",
       "TaxProvision                          13,039,000      9,404,000   \n",
       "NetIncomeContinuousOperations       -888,663,000   -294,040,000   \n",
       "NetIncome                           -888,663,000   -294,040,000   \n",
       "NetIncomeCommonStockholders         -888,663,000   -294,040,000   \n",
       "BasicEPS                                   -6.93          -2.36   \n",
       "DilutedEPS                                 -6.93          -2.36   \n",
       "BasicAverageShares                   128,202,000    124,573,000   \n",
       "DilutedAverageShares                 128,202,000    124,573,000   \n",
       "Ebitda                              -334,183,000     48,181,000   \n",
       "\n",
       "                                      12/31/2013    12/31/2012    12/31/2011  \\\n",
       "name                                                                           \n",
       "TotalRevenue                       2,013,496,000   413,256,000   204,242,000   \n",
       "CostOfRevenue                      1,557,234,000   383,189,000   142,647,000   \n",
       "GrossProfit                          456,262,000    30,067,000    61,595,000   \n",
       "OperatingExpense                     517,545,000   424,350,000   313,083,000   \n",
       "\\tResearchAndDevelopment             231,976,000   273,978,000   208,981,000   \n",
       "\\tSellingGeneralAndAdministration    285,569,000   150,372,000   104,102,000   \n",
       "\\tOperatingExpense                   517,545,000   424,350,000   313,083,000   \n",
       "OperatingIncome                      -61,283,000  -394,283,000  -251,488,000   \n",
       "InterestExpense                       32,934,000       254,000        43,000   \n",
       "OtherIncomeExpense                    22,602,000    -1,828,000    -2,646,000   \n",
       "PretaxIncome                         -71,426,000  -396,077,000  -253,922,000   \n",
       "TaxProvision                           2,588,000       136,000       489,000   \n",
       "NetIncomeContinuousOperations        -74,014,000  -396,213,000  -254,411,000   \n",
       "NetIncome                            -74,014,000  -396,213,000  -254,411,000   \n",
       "NetIncomeCommonStockholders          -74,014,000  -396,213,000  -254,411,000   \n",
       "BasicEPS                                   -0.62         -3.69         -2.53   \n",
       "DilutedEPS                                 -0.62         -3.69         -2.53   \n",
       "BasicAverageShares                   119,421,000   107,349,000   100,388,815   \n",
       "DilutedAverageShares                 119,421,000   107,349,000   100,388,815   \n",
       "Ebitda                                67,591,000  -366,998,000  -236,960,000   \n",
       "\n",
       "                                     12/31/2010   12/31/2009   12/31/2008  \\\n",
       "name                                                                        \n",
       "TotalRevenue                        116,744,000  111,943,000   14,742,000   \n",
       "CostOfRevenue                        86,013,000  102,408,000   15,883,000   \n",
       "GrossProfit                          30,731,000    9,535,000   -1,141,000   \n",
       "OperatingExpense                    177,569,000   61,432,000   77,363,000   \n",
       "\\tResearchAndDevelopment             92,996,000   19,282,000   53,714,000   \n",
       "\\tSellingGeneralAndAdministration    84,573,000   42,150,000   23,649,000   \n",
       "\\tOperatingExpense                  177,569,000   61,432,000   77,363,000   \n",
       "OperatingIncome                    -146,838,000  -51,897,000  -78,504,000   \n",
       "InterestExpense                         992,000    2,531,000    3,747,000   \n",
       "OtherIncomeExpense                   -6,583,000   -1,445,000     -963,000   \n",
       "PretaxIncome                       -154,155,000  -55,714,000  -82,685,000   \n",
       "TaxProvision                            173,000       26,000       97,000   \n",
       "NetIncomeContinuousOperations      -154,328,000  -55,740,000  -82,782,000   \n",
       "NetIncome                          -154,328,000  -55,740,000  -82,782,000   \n",
       "NetIncomeCommonStockholders        -154,328,000  -55,740,000  -82,782,000   \n",
       "BasicEPS                                  -3.04         -0.7       -1.062   \n",
       "DilutedEPS                                -3.04         -0.7       -1.062   \n",
       "BasicAverageShares                   50,718,302   77,693,854   77,973,831   \n",
       "DilutedAverageShares                 50,718,302   77,693,854   77,973,831   \n",
       "Ebitda                             -142,540,000  -46,243,000  -74,781,000   \n",
       "\n",
       "                                    12/31/2007  \n",
       "name                                            \n",
       "TotalRevenue                            73,000  \n",
       "CostOfRevenue                            9,000  \n",
       "GrossProfit                             64,000  \n",
       "OperatingExpense                    79,997,000  \n",
       "\\tResearchAndDevelopment            62,753,000  \n",
       "\\tSellingGeneralAndAdministration   17,244,000  \n",
       "\\tOperatingExpense                  79,997,000  \n",
       "OperatingIncome                    -79,933,000  \n",
       "InterestExpense                              0  \n",
       "OtherIncomeExpense                     137,000  \n",
       "PretaxIncome                       -78,047,000  \n",
       "TaxProvision                           110,000  \n",
       "NetIncomeContinuousOperations      -78,157,000  \n",
       "NetIncome                          -78,157,000  \n",
       "NetIncomeCommonStockholders        -78,157,000  \n",
       "BasicEPS                                -1.002  \n",
       "DilutedEPS                              -1.002  \n",
       "BasicAverageShares                  77,973,831  \n",
       "DilutedAverageShares                77,973,831  \n",
       "Ebitda                             -75,152,000  "
      ]
     },
     "execution_count": 128,
     "metadata": {},
     "output_type": "execute_result"
    }
   ],
   "source": [
    "income_statement"
   ]
  },
  {
   "cell_type": "code",
   "execution_count": 125,
   "metadata": {},
   "outputs": [],
   "source": [
    "income_statement = income_statement.drop(columns=\"ttm\")"
   ]
  },
  {
   "cell_type": "code",
   "execution_count": 130,
   "metadata": {},
   "outputs": [],
   "source": [
    "net_income = []\n",
    "for i in range(0,13):\n",
    "    j = int(income_statement.loc[\"NetIncome\"][i].replace(\",\",\"\"))\n",
    "    net_income.append(j)"
   ]
  },
  {
   "cell_type": "code",
   "execution_count": 131,
   "metadata": {},
   "outputs": [],
   "source": [
    "sales = []\n",
    "for i in range(0,13):\n",
    "    j = int(income_statement.loc[\"TotalRevenue\"][i].replace(\",\",\"\"))\n",
    "    sales.append(j)"
   ]
  },
  {
   "cell_type": "code",
   "execution_count": 132,
   "metadata": {},
   "outputs": [],
   "source": [
    "EBITDA = []\n",
    "for i in range(0,13):\n",
    "    j = int(income_statement.loc[\"Ebitda\"][i].replace(\",\",\"\"))\n",
    "    EBITDA.append(j)"
   ]
  },
  {
   "cell_type": "code",
   "execution_count": 133,
   "metadata": {},
   "outputs": [],
   "source": [
    "profitability = {}\n",
    "profitability[\"year\"]=[\"2019\",\"2018\",\"2017\",\"2016\",\"2015\",\"2014\",\"2013\",\"2012\",\"2011\",\"2010\",\"2009\",\"2008\",\n",
    "                            \"2007\"]"
   ]
  },
  {
   "cell_type": "code",
   "execution_count": 134,
   "metadata": {},
   "outputs": [],
   "source": [
    "profitability[\"profit margin\"] = [i/j for i, j in zip(net_income,sales)]"
   ]
  },
  {
   "cell_type": "code",
   "execution_count": 135,
   "metadata": {},
   "outputs": [],
   "source": [
    "profitability[\"EBITDA margin\"] = [i/j for i, j in zip(EBITDA,sales)]"
   ]
  },
  {
   "cell_type": "code",
   "execution_count": 136,
   "metadata": {},
   "outputs": [],
   "source": [
    "profitability[\"ROA\"] = [i/j for i, j in zip(net_income,total_assets)]"
   ]
  },
  {
   "cell_type": "code",
   "execution_count": 137,
   "metadata": {},
   "outputs": [],
   "source": [
    "profitability[\"ROE\"] = [i/j for i, j in zip(net_income,total_equity)]"
   ]
  },
  {
   "cell_type": "code",
   "execution_count": 139,
   "metadata": {},
   "outputs": [
    {
     "data": {
      "text/html": [
       "<div>\n",
       "<style scoped>\n",
       "    .dataframe tbody tr th:only-of-type {\n",
       "        vertical-align: middle;\n",
       "    }\n",
       "\n",
       "    .dataframe tbody tr th {\n",
       "        vertical-align: top;\n",
       "    }\n",
       "\n",
       "    .dataframe thead th {\n",
       "        text-align: right;\n",
       "    }\n",
       "</style>\n",
       "<table border=\"1\" class=\"dataframe\">\n",
       "  <thead>\n",
       "    <tr style=\"text-align: right;\">\n",
       "      <th></th>\n",
       "      <th>year</th>\n",
       "      <th>profit margin</th>\n",
       "      <th>EBITDA margin</th>\n",
       "      <th>ROA</th>\n",
       "      <th>ROE</th>\n",
       "    </tr>\n",
       "  </thead>\n",
       "  <tbody>\n",
       "    <tr>\n",
       "      <td>0</td>\n",
       "      <td>2019</td>\n",
       "      <td>-0.035072</td>\n",
       "      <td>0.088453</td>\n",
       "      <td>-0.025125</td>\n",
       "      <td>-0.130251</td>\n",
       "    </tr>\n",
       "    <tr>\n",
       "      <td>1</td>\n",
       "      <td>2018</td>\n",
       "      <td>-0.045482</td>\n",
       "      <td>0.072660</td>\n",
       "      <td>-0.032821</td>\n",
       "      <td>-0.198262</td>\n",
       "    </tr>\n",
       "    <tr>\n",
       "      <td>2</td>\n",
       "      <td>2017</td>\n",
       "      <td>-0.166803</td>\n",
       "      <td>-0.008655</td>\n",
       "      <td>-0.068448</td>\n",
       "      <td>-0.462895</td>\n",
       "    </tr>\n",
       "    <tr>\n",
       "      <td>3</td>\n",
       "      <td>2016</td>\n",
       "      <td>-0.096414</td>\n",
       "      <td>0.057079</td>\n",
       "      <td>-0.029779</td>\n",
       "      <td>-0.142000</td>\n",
       "    </tr>\n",
       "    <tr>\n",
       "      <td>4</td>\n",
       "      <td>2015</td>\n",
       "      <td>-0.219639</td>\n",
       "      <td>-0.082595</td>\n",
       "      <td>-0.109814</td>\n",
       "      <td>-0.816078</td>\n",
       "    </tr>\n",
       "    <tr>\n",
       "      <td>5</td>\n",
       "      <td>2014</td>\n",
       "      <td>-0.091935</td>\n",
       "      <td>0.015064</td>\n",
       "      <td>-0.050270</td>\n",
       "      <td>-0.322515</td>\n",
       "    </tr>\n",
       "    <tr>\n",
       "      <td>6</td>\n",
       "      <td>2013</td>\n",
       "      <td>-0.036759</td>\n",
       "      <td>0.033569</td>\n",
       "      <td>-0.030623</td>\n",
       "      <td>-0.110946</td>\n",
       "    </tr>\n",
       "    <tr>\n",
       "      <td>7</td>\n",
       "      <td>2012</td>\n",
       "      <td>-0.958759</td>\n",
       "      <td>-0.888065</td>\n",
       "      <td>-0.355606</td>\n",
       "      <td>-3.177330</td>\n",
       "    </tr>\n",
       "    <tr>\n",
       "      <td>8</td>\n",
       "      <td>2011</td>\n",
       "      <td>-1.245635</td>\n",
       "      <td>-1.160192</td>\n",
       "      <td>-0.356594</td>\n",
       "      <td>-1.135535</td>\n",
       "    </tr>\n",
       "    <tr>\n",
       "      <td>9</td>\n",
       "      <td>2010</td>\n",
       "      <td>-1.321935</td>\n",
       "      <td>-1.220962</td>\n",
       "      <td>-0.399729</td>\n",
       "      <td>-0.745373</td>\n",
       "    </tr>\n",
       "    <tr>\n",
       "      <td>10</td>\n",
       "      <td>2009</td>\n",
       "      <td>-0.497932</td>\n",
       "      <td>-0.413094</td>\n",
       "      <td>-0.427375</td>\n",
       "      <td>0.219862</td>\n",
       "    </tr>\n",
       "    <tr>\n",
       "      <td>11</td>\n",
       "      <td>2008</td>\n",
       "      <td>-5.615385</td>\n",
       "      <td>-5.072650</td>\n",
       "      <td>-1.601230</td>\n",
       "      <td>0.414503</td>\n",
       "    </tr>\n",
       "    <tr>\n",
       "      <td>12</td>\n",
       "      <td>2007</td>\n",
       "      <td>-1070.643836</td>\n",
       "      <td>-1029.479452</td>\n",
       "      <td>-2.243505</td>\n",
       "      <td>0.663213</td>\n",
       "    </tr>\n",
       "  </tbody>\n",
       "</table>\n",
       "</div>"
      ],
      "text/plain": [
       "    year  profit margin  EBITDA margin       ROA       ROE\n",
       "0   2019      -0.035072       0.088453 -0.025125 -0.130251\n",
       "1   2018      -0.045482       0.072660 -0.032821 -0.198262\n",
       "2   2017      -0.166803      -0.008655 -0.068448 -0.462895\n",
       "3   2016      -0.096414       0.057079 -0.029779 -0.142000\n",
       "4   2015      -0.219639      -0.082595 -0.109814 -0.816078\n",
       "5   2014      -0.091935       0.015064 -0.050270 -0.322515\n",
       "6   2013      -0.036759       0.033569 -0.030623 -0.110946\n",
       "7   2012      -0.958759      -0.888065 -0.355606 -3.177330\n",
       "8   2011      -1.245635      -1.160192 -0.356594 -1.135535\n",
       "9   2010      -1.321935      -1.220962 -0.399729 -0.745373\n",
       "10  2009      -0.497932      -0.413094 -0.427375  0.219862\n",
       "11  2008      -5.615385      -5.072650 -1.601230  0.414503\n",
       "12  2007   -1070.643836   -1029.479452 -2.243505  0.663213"
      ]
     },
     "execution_count": 139,
     "metadata": {},
     "output_type": "execute_result"
    }
   ],
   "source": [
    "profitability = pd.DataFrame(profitability)\n",
    "profitability"
   ]
  },
  {
   "cell_type": "markdown",
   "metadata": {},
   "source": [
    "## Market Value"
   ]
  },
  {
   "cell_type": "code",
   "execution_count": 140,
   "metadata": {},
   "outputs": [],
   "source": [
    "import matplotlib.pyplot as plt\n",
    "import numpy as np"
   ]
  },
  {
   "cell_type": "code",
   "execution_count": 148,
   "metadata": {},
   "outputs": [
    {
     "data": {
      "text/plain": [
       "[<matplotlib.lines.Line2D at 0x11f2e6410>]"
      ]
     },
     "execution_count": 148,
     "metadata": {},
     "output_type": "execute_result"
    },
    {
     "data": {
      "image/png": "[encoded data removed]",
      "text/plain": [
       "<Figure size 432x288 with 1 Axes>"
      ]
     },
     "metadata": {
      "needs_background": "light"
     },
     "output_type": "display_data"
    }
   ],
   "source": [
    "plt.plot(profitability[\"year\"],net_income, marker= \"o\")"
   ]
  },
  {
   "cell_type": "code",
   "execution_count": 150,
   "metadata": {},
   "outputs": [],
   "source": [
    "rev = []\n",
    "for i in range(0,12):\n",
    "    j = int(income_statement.loc[\"TotalRevenue\"][i].replace(\",\",\"\"))\n",
    "    rev.append(j)"
   ]
  },
  {
   "cell_type": "code",
   "execution_count": 151,
   "metadata": {},
   "outputs": [
    {
     "data": {
      "text/plain": [
       "[24578000000,\n",
       " 21461268000,\n",
       " 11758751000,\n",
       " 7000132000,\n",
       " 4046025000,\n",
       " 3198356000,\n",
       " 2013496000,\n",
       " 413256000,\n",
       " 204242000,\n",
       " 116744000,\n",
       " 111943000,\n",
       " 14742000]"
      ]
     },
     "execution_count": 151,
     "metadata": {},
     "output_type": "execute_result"
    }
   ],
   "source": [
    "rev"
   ]
  },
  {
   "cell_type": "code",
   "execution_count": 167,
   "metadata": {},
   "outputs": [],
   "source": [
    "revenue = {\"Year\":[\"2012\",\"2013\",\"2014\",\"2015\",\"2016\",\"2017\",\"2018\",\"2019\"],\n",
    "            \"Revenue\":[413256000,2013496000,3198356000,4046025000,7000132000,\n",
    "                11758751000,21461268000,24578000000]}"
   ]
  },
  {
   "cell_type": "code",
   "execution_count": 192,
   "metadata": {},
   "outputs": [
    {
     "data": {
      "application/vnd.plotly.v1+json": {
       "config": {
        "plotlyServerURL": "https://plot.ly"
       },
       "data": [
        {
         "type": "scatter",
         "x": [
          "2012",
          "2013",
          "2014",
          "2015",
          "2016",
          "2017",
          "2018",
          "2019"
         ],
         "y": [
          413256000,
          2013496000,
          3198356000,
          4046025000,
          7000132000,
          11758751000,
          21461268000,
          24578000000
         ]
        }
       ],
       "layout": {
        "annotations": [
         {
          "font": {
           "color": "rgb(37,37,37)",
           "family": "Arial",
           "size": 30
          },
          "showarrow": false,
          "text": "Revenue For Tesla",
          "x": 0,
          "xanchor": "left",
          "xref": "paper",
          "y": 1.05,
          "yanchor": "bottom",
          "yref": "paper"
         },
         {
          "text": "2019: 24.578B",
          "x": 2019,
          "y": 25000000000
         },
         {
          "text": "2012: 413.256M",
          "x": 2012,
          "y": 415000000
         },
         {
          "text": "Increased more than 58 times from 2012 to 2019",
          "x": 2014,
          "y": 20000000000
         }
        ],
        "template": {
         "data": {
          "bar": [
           {
            "error_x": {
             "color": "#2a3f5f"
            },
            "error_y": {
             "color": "#2a3f5f"
            },
            "marker": {
             "line": {
              "color": "#E5ECF6",
              "width": 0.5
             }
            },
            "type": "bar"
           }
          ],
          "barpolar": [
           {
            "marker": {
             "line": {
              "color": "#E5ECF6",
              "width": 0.5
             }
            },
            "type": "barpolar"
           }
          ],
          "carpet": [
           {
            "aaxis": {
             "endlinecolor": "#2a3f5f",
             "gridcolor": "white",
             "linecolor": "white",
             "minorgridcolor": "white",
             "startlinecolor": "#2a3f5f"
            },
            "baxis": {
             "endlinecolor": "#2a3f5f",
             "gridcolor": "white",
             "linecolor": "white",
             "minorgridcolor": "white",
             "startlinecolor": "#2a3f5f"
            },
            "type": "carpet"
           }
          ],
          "choropleth": [
           {
            "colorbar": {
             "outlinewidth": 0,
             "ticks": ""
            },
            "type": "choropleth"
           }
          ],
          "contour": [
           {
            "colorbar": {
             "outlinewidth": 0,
             "ticks": ""
            },
            "colorscale": [
             [
              0,
              "#0d0887"
             ],
             [
              0.1111111111111111,
              "#46039f"
             ],
             [
              0.2222222222222222,
              "#7201a8"
             ],
             [
              0.3333333333333333,
              "#9c179e"
             ],
             [
              0.4444444444444444,
              "#bd3786"
             ],
             [
              0.5555555555555556,
              "#d8576b"
             ],
             [
              0.6666666666666666,
              "#ed7953"
             ],
             [
              0.7777777777777778,
              "#fb9f3a"
             ],
             [
              0.8888888888888888,
              "#fdca26"
             ],
             [
              1,
              "#f0f921"
             ]
            ],
            "type": "contour"
           }
          ],
          "contourcarpet": [
           {
            "colorbar": {
             "outlinewidth": 0,
             "ticks": ""
            },
            "type": "contourcarpet"
           }
          ],
          "heatmap": [
           {
            "colorbar": {
             "outlinewidth": 0,
             "ticks": ""
            },
            "colorscale": [
             [
              0,
              "#0d0887"
             ],
             [
              0.1111111111111111,
              "#46039f"
             ],
             [
              0.2222222222222222,
              "#7201a8"
             ],
             [
              0.3333333333333333,
              "#9c179e"
             ],
             [
              0.4444444444444444,
              "#bd3786"
             ],
             [
              0.5555555555555556,
              "#d8576b"
             ],
             [
              0.6666666666666666,
              "#ed7953"
             ],
             [
              0.7777777777777778,
              "#fb9f3a"
             ],
             [
              0.8888888888888888,
              "#fdca26"
             ],
             [
              1,
              "#f0f921"
             ]
            ],
            "type": "heatmap"
           }
          ],
          "heatmapgl": [
           {
            "colorbar": {
             "outlinewidth": 0,
             "ticks": ""
            },
            "colorscale": [
             [
              0,
              "#0d0887"
             ],
             [
              0.1111111111111111,
              "#46039f"
             ],
             [
              0.2222222222222222,
              "#7201a8"
             ],
             [
              0.3333333333333333,
              "#9c179e"
             ],
             [
              0.4444444444444444,
              "#bd3786"
             ],
             [
              0.5555555555555556,
              "#d8576b"
             ],
             [
              0.6666666666666666,
              "#ed7953"
             ],
             [
              0.7777777777777778,
              "#fb9f3a"
             ],
             [
              0.8888888888888888,
              "#fdca26"
             ],
             [
              1,
              "#f0f921"
             ]
            ],
            "type": "heatmapgl"
           }
          ],
          "histogram": [
           {
            "marker": {
             "colorbar": {
              "outlinewidth": 0,
              "ticks": ""
             }
            },
            "type": "histogram"
           }
          ],
          "histogram2d": [
           {
            "colorbar": {
             "outlinewidth": 0,
             "ticks": ""
            },
            "colorscale": [
             [
              0,
              "#0d0887"
             ],
             [
              0.1111111111111111,
              "#46039f"
             ],
             [
              0.2222222222222222,
              "#7201a8"
             ],
             [
              0.3333333333333333,
              "#9c179e"
             ],
             [
              0.4444444444444444,
              "#bd3786"
             ],
             [
              0.5555555555555556,
              "#d8576b"
             ],
             [
              0.6666666666666666,
              "#ed7953"
             ],
             [
              0.7777777777777778,
              "#fb9f3a"
             ],
             [
              0.8888888888888888,
              "#fdca26"
             ],
             [
              1,
              "#f0f921"
             ]
            ],
            "type": "histogram2d"
           }
          ],
          "histogram2dcontour": [
           {
            "colorbar": {
             "outlinewidth": 0,
             "ticks": ""
            },
            "colorscale": [
             [
              0,
              "#0d0887"
             ],
             [
              0.1111111111111111,
              "#46039f"
             ],
             [
              0.2222222222222222,
              "#7201a8"
             ],
             [
              0.3333333333333333,
              "#9c179e"
             ],
             [
              0.4444444444444444,
              "#bd3786"
             ],
             [
              0.5555555555555556,
              "#d8576b"
             ],
             [
              0.6666666666666666,
              "#ed7953"
             ],
             [
              0.7777777777777778,
              "#fb9f3a"
             ],
             [
              0.8888888888888888,
              "#fdca26"
             ],
             [
              1,
              "#f0f921"
             ]
            ],
            "type": "histogram2dcontour"
           }
          ],
          "mesh3d": [
           {
            "colorbar": {
             "outlinewidth": 0,
             "ticks": ""
            },
            "type": "mesh3d"
           }
          ],
          "parcoords": [
           {
            "line": {
             "colorbar": {
              "outlinewidth": 0,
              "ticks": ""
             }
            },
            "type": "parcoords"
           }
          ],
          "pie": [
           {
            "automargin": true,
            "type": "pie"
           }
          ],
          "scatter": [
           {
            "marker": {
             "colorbar": {
              "outlinewidth": 0,
              "ticks": ""
             }
            },
            "type": "scatter"
           }
          ],
          "scatter3d": [
           {
            "line": {
             "colorbar": {
              "outlinewidth": 0,
              "ticks": ""
             }
            },
            "marker": {
             "colorbar": {
              "outlinewidth": 0,
              "ticks": ""
             }
            },
            "type": "scatter3d"
           }
          ],
          "scattercarpet": [
           {
            "marker": {
             "colorbar": {
              "outlinewidth": 0,
              "ticks": ""
             }
            },
            "type": "scattercarpet"
           }
          ],
          "scattergeo": [
           {
            "marker": {
             "colorbar": {
              "outlinewidth": 0,
              "ticks": ""
             }
            },
            "type": "scattergeo"
           }
          ],
          "scattergl": [
           {
            "marker": {
             "colorbar": {
              "outlinewidth": 0,
              "ticks": ""
             }
            },
            "type": "scattergl"
           }
          ],
          "scattermapbox": [
           {
            "marker": {
             "colorbar": {
              "outlinewidth": 0,
              "ticks": ""
             }
            },
            "type": "scattermapbox"
           }
          ],
          "scatterpolar": [
           {
            "marker": {
             "colorbar": {
              "outlinewidth": 0,
              "ticks": ""
             }
            },
            "type": "scatterpolar"
           }
          ],
          "scatterpolargl": [
           {
            "marker": {
             "colorbar": {
              "outlinewidth": 0,
              "ticks": ""
             }
            },
            "type": "scatterpolargl"
           }
          ],
          "scatterternary": [
           {
            "marker": {
             "colorbar": {
              "outlinewidth": 0,
              "ticks": ""
             }
            },
            "type": "scatterternary"
           }
          ],
          "surface": [
           {
            "colorbar": {
             "outlinewidth": 0,
             "ticks": ""
            },
            "colorscale": [
             [
              0,
              "#0d0887"
             ],
             [
              0.1111111111111111,
              "#46039f"
             ],
             [
              0.2222222222222222,
              "#7201a8"
             ],
             [
              0.3333333333333333,
              "#9c179e"
             ],
             [
              0.4444444444444444,
              "#bd3786"
             ],
             [
              0.5555555555555556,
              "#d8576b"
             ],
             [
              0.6666666666666666,
              "#ed7953"
             ],
             [
              0.7777777777777778,
              "#fb9f3a"
             ],
             [
              0.8888888888888888,
              "#fdca26"
             ],
             [
              1,
              "#f0f921"
             ]
            ],
            "type": "surface"
           }
          ],
          "table": [
           {
            "cells": {
             "fill": {
              "color": "#EBF0F8"
             },
             "line": {
              "color": "white"
             }
            },
            "header": {
             "fill": {
              "color": "#C8D4E3"
             },
             "line": {
              "color": "white"
             }
            },
            "type": "table"
           }
          ]
         },
         "layout": {
          "annotationdefaults": {
           "arrowcolor": "#2a3f5f",
           "arrowhead": 0,
           "arrowwidth": 1
          },
          "coloraxis": {
           "colorbar": {
            "outlinewidth": 0,
            "ticks": ""
           }
          },
          "colorscale": {
           "diverging": [
            [
             0,
             "#8e0152"
            ],
            [
             0.1,
             "#c51b7d"
            ],
            [
             0.2,
             "#de77ae"
            ],
            [
             0.3,
             "#f1b6da"
            ],
            [
             0.4,
             "#fde0ef"
            ],
            [
             0.5,
             "#f7f7f7"
            ],
            [
             0.6,
             "#e6f5d0"
            ],
            [
             0.7,
             "#b8e186"
            ],
            [
             0.8,
             "#7fbc41"
            ],
            [
             0.9,
             "#4d9221"
            ],
            [
             1,
             "#276419"
            ]
           ],
           "sequential": [
            [
             0,
             "#0d0887"
            ],
            [
             0.1111111111111111,
             "#46039f"
            ],
            [
             0.2222222222222222,
             "#7201a8"
            ],
            [
             0.3333333333333333,
             "#9c179e"
            ],
            [
             0.4444444444444444,
             "#bd3786"
            ],
            [
             0.5555555555555556,
             "#d8576b"
            ],
            [
             0.6666666666666666,
             "#ed7953"
            ],
            [
             0.7777777777777778,
             "#fb9f3a"
            ],
            [
             0.8888888888888888,
             "#fdca26"
            ],
            [
             1,
             "#f0f921"
            ]
           ],
           "sequentialminus": [
            [
             0,
             "#0d0887"
            ],
            [
             0.1111111111111111,
             "#46039f"
            ],
            [
             0.2222222222222222,
             "#7201a8"
            ],
            [
             0.3333333333333333,
             "#9c179e"
            ],
            [
             0.4444444444444444,
             "#bd3786"
            ],
            [
             0.5555555555555556,
             "#d8576b"
            ],
            [
             0.6666666666666666,
             "#ed7953"
            ],
            [
             0.7777777777777778,
             "#fb9f3a"
            ],
            [
             0.8888888888888888,
             "#fdca26"
            ],
            [
             1,
             "#f0f921"
            ]
           ]
          },
          "colorway": [
           "#636efa",
           "#EF553B",
           "#00cc96",
           "#ab63fa",
           "#FFA15A",
           "#19d3f3",
           "#FF6692",
           "#B6E880",
           "#FF97FF",
           "#FECB52"
          ],
          "font": {
           "color": "#2a3f5f"
          },
          "geo": {
           "bgcolor": "white",
           "lakecolor": "white",
           "landcolor": "#E5ECF6",
           "showlakes": true,
           "showland": true,
           "subunitcolor": "white"
          },
          "hoverlabel": {
           "align": "left"
          },
          "hovermode": "closest",
          "mapbox": {
           "style": "light"
          },
          "paper_bgcolor": "white",
          "plot_bgcolor": "#E5ECF6",
          "polar": {
           "angularaxis": {
            "gridcolor": "white",
            "linecolor": "white",
            "ticks": ""
           },
           "bgcolor": "#E5ECF6",
           "radialaxis": {
            "gridcolor": "white",
            "linecolor": "white",
            "ticks": ""
           }
          },
          "scene": {
           "xaxis": {
            "backgroundcolor": "#E5ECF6",
            "gridcolor": "white",
            "gridwidth": 2,
            "linecolor": "white",
            "showbackground": true,
            "ticks": "",
            "zerolinecolor": "white"
           },
           "yaxis": {
            "backgroundcolor": "#E5ECF6",
            "gridcolor": "white",
            "gridwidth": 2,
            "linecolor": "white",
            "showbackground": true,
            "ticks": "",
            "zerolinecolor": "white"
           },
           "zaxis": {
            "backgroundcolor": "#E5ECF6",
            "gridcolor": "white",
            "gridwidth": 2,
            "linecolor": "white",
            "showbackground": true,
            "ticks": "",
            "zerolinecolor": "white"
           }
          },
          "shapedefaults": {
           "line": {
            "color": "#2a3f5f"
           }
          },
          "ternary": {
           "aaxis": {
            "gridcolor": "white",
            "linecolor": "white",
            "ticks": ""
           },
           "baxis": {
            "gridcolor": "white",
            "linecolor": "white",
            "ticks": ""
           },
           "bgcolor": "#E5ECF6",
           "caxis": {
            "gridcolor": "white",
            "linecolor": "white",
            "ticks": ""
           }
          },
          "title": {
           "x": 0.05
          },
          "xaxis": {
           "automargin": true,
           "gridcolor": "white",
           "linecolor": "white",
           "ticks": "",
           "title": {
            "standoff": 15
           },
           "zerolinecolor": "white",
           "zerolinewidth": 2
          },
          "yaxis": {
           "automargin": true,
           "gridcolor": "white",
           "linecolor": "white",
           "ticks": "",
           "title": {
            "standoff": 15
           },
           "zerolinecolor": "white",
           "zerolinewidth": 2
          }
         }
        }
       }
      },
      "text/html": [
       "<div>\n",
       "        \n",
       "        \n",
       "            <div id=\"1d1dac1e-670d-4210-8a11-e0768b6fa4ed\" class=\"plotly-graph-div\" style=\"height:525px; width:100%;\"></div>\n",
       "            <script type=\"text/javascript\">\n",
       "                require([\"plotly\"], function(Plotly) {\n",
       "                    window.PLOTLYENV=window.PLOTLYENV || {};\n",
       "                    \n",
       "                if (document.getElementById(\"1d1dac1e-670d-4210-8a11-e0768b6fa4ed\")) {\n",
       "                    Plotly.newPlot(\n",
       "                        '1d1dac1e-670d-4210-8a11-e0768b6fa4ed',\n",
       "                        [{\"type\": \"scatter\", \"x\": [\"2012\", \"2013\", \"2014\", \"2015\", \"2016\", \"2017\", \"2018\", \"2019\"], \"y\": [413256000, 2013496000, 3198356000, 4046025000, 7000132000, 11758751000, 21461268000, 24578000000]}],\n",
       "                        {\"annotations\": [{\"font\": {\"color\": \"rgb(37,37,37)\", \"family\": \"Arial\", \"size\": 30}, \"showarrow\": false, \"text\": \"Revenue For Tesla\", \"x\": 0.0, \"xanchor\": \"left\", \"xref\": \"paper\", \"y\": 1.05, \"yanchor\": \"bottom\", \"yref\": \"paper\"}, {\"text\": \"2019: 24.578B\", \"x\": 2019, \"y\": 25000000000}, {\"text\": \"2012: 413.256M\", \"x\": 2012, \"y\": 415000000}, {\"text\": \"Increased more than 58 times from 2012 to 2019\", \"x\": 2014, \"y\": 20000000000}], \"template\": {\"data\": {\"bar\": [{\"error_x\": {\"color\": \"#2a3f5f\"}, \"error_y\": {\"color\": \"#2a3f5f\"}, \"marker\": {\"line\": {\"color\": \"#E5ECF6\", \"width\": 0.5}}, \"type\": \"bar\"}], \"barpolar\": [{\"marker\": {\"line\": {\"color\": \"#E5ECF6\", \"width\": 0.5}}, \"type\": \"barpolar\"}], \"carpet\": [{\"aaxis\": {\"endlinecolor\": \"#2a3f5f\", \"gridcolor\": \"white\", \"linecolor\": \"white\", \"minorgridcolor\": \"white\", \"startlinecolor\": \"#2a3f5f\"}, \"baxis\": {\"endlinecolor\": \"#2a3f5f\", \"gridcolor\": \"white\", \"linecolor\": \"white\", \"minorgridcolor\": \"white\", \"startlinecolor\": \"#2a3f5f\"}, \"type\": \"carpet\"}], \"choropleth\": [{\"colorbar\": {\"outlinewidth\": 0, \"ticks\": \"\"}, \"type\": \"choropleth\"}], \"contour\": [{\"colorbar\": {\"outlinewidth\": 0, \"ticks\": \"\"}, \"colorscale\": [[0.0, \"#0d0887\"], [0.1111111111111111, \"#46039f\"], [0.2222222222222222, \"#7201a8\"], [0.3333333333333333, \"#9c179e\"], [0.4444444444444444, \"#bd3786\"], [0.5555555555555556, \"#d8576b\"], [0.6666666666666666, \"#ed7953\"], [0.7777777777777778, \"#fb9f3a\"], [0.8888888888888888, \"#fdca26\"], [1.0, \"#f0f921\"]], \"type\": \"contour\"}], \"contourcarpet\": [{\"colorbar\": {\"outlinewidth\": 0, \"ticks\": \"\"}, \"type\": \"contourcarpet\"}], \"heatmap\": [{\"colorbar\": {\"outlinewidth\": 0, \"ticks\": \"\"}, \"colorscale\": [[0.0, \"#0d0887\"], [0.1111111111111111, \"#46039f\"], [0.2222222222222222, \"#7201a8\"], [0.3333333333333333, \"#9c179e\"], [0.4444444444444444, \"#bd3786\"], [0.5555555555555556, \"#d8576b\"], [0.6666666666666666, \"#ed7953\"], [0.7777777777777778, \"#fb9f3a\"], [0.8888888888888888, \"#fdca26\"], [1.0, \"#f0f921\"]], \"type\": \"heatmap\"}], \"heatmapgl\": [{\"colorbar\": {\"outlinewidth\": 0, \"ticks\": \"\"}, \"colorscale\": [[0.0, \"#0d0887\"], [0.1111111111111111, \"#46039f\"], [0.2222222222222222, \"#7201a8\"], [0.3333333333333333, \"#9c179e\"], [0.4444444444444444, \"#bd3786\"], [0.5555555555555556, \"#d8576b\"], [0.6666666666666666, \"#ed7953\"], [0.7777777777777778, \"#fb9f3a\"], [0.8888888888888888, \"#fdca26\"], [1.0, \"#f0f921\"]], \"type\": \"heatmapgl\"}], \"histogram\": [{\"marker\": {\"colorbar\": {\"outlinewidth\": 0, \"ticks\": \"\"}}, \"type\": \"histogram\"}], \"histogram2d\": [{\"colorbar\": {\"outlinewidth\": 0, \"ticks\": \"\"}, \"colorscale\": [[0.0, \"#0d0887\"], [0.1111111111111111, \"#46039f\"], [0.2222222222222222, \"#7201a8\"], [0.3333333333333333, \"#9c179e\"], [0.4444444444444444, \"#bd3786\"], [0.5555555555555556, \"#d8576b\"], [0.6666666666666666, \"#ed7953\"], [0.7777777777777778, \"#fb9f3a\"], [0.8888888888888888, \"#fdca26\"], [1.0, \"#f0f921\"]], \"type\": \"histogram2d\"}], \"histogram2dcontour\": [{\"colorbar\": {\"outlinewidth\": 0, \"ticks\": \"\"}, \"colorscale\": [[0.0, \"#0d0887\"], [0.1111111111111111, \"#46039f\"], [0.2222222222222222, \"#7201a8\"], [0.3333333333333333, \"#9c179e\"], [0.4444444444444444, \"#bd3786\"], [0.5555555555555556, \"#d8576b\"], [0.6666666666666666, \"#ed7953\"], [0.7777777777777778, \"#fb9f3a\"], [0.8888888888888888, \"#fdca26\"], [1.0, \"#f0f921\"]], \"type\": \"histogram2dcontour\"}], \"mesh3d\": [{\"colorbar\": {\"outlinewidth\": 0, \"ticks\": \"\"}, \"type\": \"mesh3d\"}], \"parcoords\": [{\"line\": {\"colorbar\": {\"outlinewidth\": 0, \"ticks\": \"\"}}, \"type\": \"parcoords\"}], \"pie\": [{\"automargin\": true, \"type\": \"pie\"}], \"scatter\": [{\"marker\": {\"colorbar\": {\"outlinewidth\": 0, \"ticks\": \"\"}}, \"type\": \"scatter\"}], \"scatter3d\": [{\"line\": {\"colorbar\": {\"outlinewidth\": 0, \"ticks\": \"\"}}, \"marker\": {\"colorbar\": {\"outlinewidth\": 0, \"ticks\": \"\"}}, \"type\": \"scatter3d\"}], \"scattercarpet\": [{\"marker\": {\"colorbar\": {\"outlinewidth\": 0, \"ticks\": \"\"}}, \"type\": \"scattercarpet\"}], \"scattergeo\": [{\"marker\": {\"colorbar\": {\"outlinewidth\": 0, \"ticks\": \"\"}}, \"type\": \"scattergeo\"}], \"scattergl\": [{\"marker\": {\"colorbar\": {\"outlinewidth\": 0, \"ticks\": \"\"}}, \"type\": \"scattergl\"}], \"scattermapbox\": [{\"marker\": {\"colorbar\": {\"outlinewidth\": 0, \"ticks\": \"\"}}, \"type\": \"scattermapbox\"}], \"scatterpolar\": [{\"marker\": {\"colorbar\": {\"outlinewidth\": 0, \"ticks\": \"\"}}, \"type\": \"scatterpolar\"}], \"scatterpolargl\": [{\"marker\": {\"colorbar\": {\"outlinewidth\": 0, \"ticks\": \"\"}}, \"type\": \"scatterpolargl\"}], \"scatterternary\": [{\"marker\": {\"colorbar\": {\"outlinewidth\": 0, \"ticks\": \"\"}}, \"type\": \"scatterternary\"}], \"surface\": [{\"colorbar\": {\"outlinewidth\": 0, \"ticks\": \"\"}, \"colorscale\": [[0.0, \"#0d0887\"], [0.1111111111111111, \"#46039f\"], [0.2222222222222222, \"#7201a8\"], [0.3333333333333333, \"#9c179e\"], [0.4444444444444444, \"#bd3786\"], [0.5555555555555556, \"#d8576b\"], [0.6666666666666666, \"#ed7953\"], [0.7777777777777778, \"#fb9f3a\"], [0.8888888888888888, \"#fdca26\"], [1.0, \"#f0f921\"]], \"type\": \"surface\"}], \"table\": [{\"cells\": {\"fill\": {\"color\": \"#EBF0F8\"}, \"line\": {\"color\": \"white\"}}, \"header\": {\"fill\": {\"color\": \"#C8D4E3\"}, \"line\": {\"color\": \"white\"}}, \"type\": \"table\"}]}, \"layout\": {\"annotationdefaults\": {\"arrowcolor\": \"#2a3f5f\", \"arrowhead\": 0, \"arrowwidth\": 1}, \"coloraxis\": {\"colorbar\": {\"outlinewidth\": 0, \"ticks\": \"\"}}, \"colorscale\": {\"diverging\": [[0, \"#8e0152\"], [0.1, \"#c51b7d\"], [0.2, \"#de77ae\"], [0.3, \"#f1b6da\"], [0.4, \"#fde0ef\"], [0.5, \"#f7f7f7\"], [0.6, \"#e6f5d0\"], [0.7, \"#b8e186\"], [0.8, \"#7fbc41\"], [0.9, \"#4d9221\"], [1, \"#276419\"]], \"sequential\": [[0.0, \"#0d0887\"], [0.1111111111111111, \"#46039f\"], [0.2222222222222222, \"#7201a8\"], [0.3333333333333333, \"#9c179e\"], [0.4444444444444444, \"#bd3786\"], [0.5555555555555556, \"#d8576b\"], [0.6666666666666666, \"#ed7953\"], [0.7777777777777778, \"#fb9f3a\"], [0.8888888888888888, \"#fdca26\"], [1.0, \"#f0f921\"]], \"sequentialminus\": [[0.0, \"#0d0887\"], [0.1111111111111111, \"#46039f\"], [0.2222222222222222, \"#7201a8\"], [0.3333333333333333, \"#9c179e\"], [0.4444444444444444, \"#bd3786\"], [0.5555555555555556, \"#d8576b\"], [0.6666666666666666, \"#ed7953\"], [0.7777777777777778, \"#fb9f3a\"], [0.8888888888888888, \"#fdca26\"], [1.0, \"#f0f921\"]]}, \"colorway\": [\"#636efa\", \"#EF553B\", \"#00cc96\", \"#ab63fa\", \"#FFA15A\", \"#19d3f3\", \"#FF6692\", \"#B6E880\", \"#FF97FF\", \"#FECB52\"], \"font\": {\"color\": \"#2a3f5f\"}, \"geo\": {\"bgcolor\": \"white\", \"lakecolor\": \"white\", \"landcolor\": \"#E5ECF6\", \"showlakes\": true, \"showland\": true, \"subunitcolor\": \"white\"}, \"hoverlabel\": {\"align\": \"left\"}, \"hovermode\": \"closest\", \"mapbox\": {\"style\": \"light\"}, \"paper_bgcolor\": \"white\", \"plot_bgcolor\": \"#E5ECF6\", \"polar\": {\"angularaxis\": {\"gridcolor\": \"white\", \"linecolor\": \"white\", \"ticks\": \"\"}, \"bgcolor\": \"#E5ECF6\", \"radialaxis\": {\"gridcolor\": \"white\", \"linecolor\": \"white\", \"ticks\": \"\"}}, \"scene\": {\"xaxis\": {\"backgroundcolor\": \"#E5ECF6\", \"gridcolor\": \"white\", \"gridwidth\": 2, \"linecolor\": \"white\", \"showbackground\": true, \"ticks\": \"\", \"zerolinecolor\": \"white\"}, \"yaxis\": {\"backgroundcolor\": \"#E5ECF6\", \"gridcolor\": \"white\", \"gridwidth\": 2, \"linecolor\": \"white\", \"showbackground\": true, \"ticks\": \"\", \"zerolinecolor\": \"white\"}, \"zaxis\": {\"backgroundcolor\": \"#E5ECF6\", \"gridcolor\": \"white\", \"gridwidth\": 2, \"linecolor\": \"white\", \"showbackground\": true, \"ticks\": \"\", \"zerolinecolor\": \"white\"}}, \"shapedefaults\": {\"line\": {\"color\": \"#2a3f5f\"}}, \"ternary\": {\"aaxis\": {\"gridcolor\": \"white\", \"linecolor\": \"white\", \"ticks\": \"\"}, \"baxis\": {\"gridcolor\": \"white\", \"linecolor\": \"white\", \"ticks\": \"\"}, \"bgcolor\": \"#E5ECF6\", \"caxis\": {\"gridcolor\": \"white\", \"linecolor\": \"white\", \"ticks\": \"\"}}, \"title\": {\"x\": 0.05}, \"xaxis\": {\"automargin\": true, \"gridcolor\": \"white\", \"linecolor\": \"white\", \"ticks\": \"\", \"title\": {\"standoff\": 15}, \"zerolinecolor\": \"white\", \"zerolinewidth\": 2}, \"yaxis\": {\"automargin\": true, \"gridcolor\": \"white\", \"linecolor\": \"white\", \"ticks\": \"\", \"title\": {\"standoff\": 15}, \"zerolinecolor\": \"white\", \"zerolinewidth\": 2}}}},\n",
       "                        {\"responsive\": true}\n",
       "                    ).then(function(){\n",
       "                            \n",
       "var gd = document.getElementById('1d1dac1e-670d-4210-8a11-e0768b6fa4ed');\n",
       "var x = new MutationObserver(function (mutations, observer) {{\n",
       "        var display = window.getComputedStyle(gd).display;\n",
       "        if (!display || display === 'none') {{\n",
       "            console.log([gd, 'removed!']);\n",
       "            Plotly.purge(gd);\n",
       "            observer.disconnect();\n",
       "        }}\n",
       "}});\n",
       "\n",
       "// Listen for the removal of the full notebook cells\n",
       "var notebookContainer = gd.closest('#notebook-container');\n",
       "if (notebookContainer) {{\n",
       "    x.observe(notebookContainer, {childList: true});\n",
       "}}\n",
       "\n",
       "// Listen for the clearing of the current output cell\n",
       "var outputEl = gd.closest('.output');\n",
       "if (outputEl) {{\n",
       "    x.observe(outputEl, {childList: true});\n",
       "}}\n",
       "\n",
       "                        })\n",
       "                };\n",
       "                });\n",
       "            </script>\n",
       "        </div>"
      ]
     },
     "metadata": {},
     "output_type": "display_data"
    }
   ],
   "source": [
    "import plotly.graph_objects as go\n",
    "\n",
    "fig = go.Figure(data=go.Scatter(x=revenue[\"Year\"], y=revenue[\"Revenue\"]))\n",
    "annotation = []\n",
    "annotation.append(dict(xref='paper', yref='paper', x=0.0, y=1.05,\n",
    "                              xanchor='left', yanchor='bottom',\n",
    "                              text='Revenue For Tesla',\n",
    "                              font=dict(family='Arial',\n",
    "                                        size=30,\n",
    "                                        color='rgb(37,37,37)'),\n",
    "                              showarrow=False))\n",
    "fig.update_layout(annotations=annotation)\n",
    "fig.add_annotation(\n",
    "            x=2019,\n",
    "            y=25000000000,\n",
    "            text=\"2019: 24.578B\")\n",
    "fig.add_annotation(\n",
    "            x=2012,\n",
    "            y=415000000,\n",
    "            text=\"2012: 413.256M\")\n",
    "fig.add_annotation(\n",
    "            x=2014,\n",
    "            y=20000000000,\n",
    "            text=\"Increased more than 58 times from 2012 to 2019\")\n",
    "\n",
    "fig.show()"
   ]
  },
  {
   "cell_type": "code",
   "execution_count": 175,
   "metadata": {},
   "outputs": [
    {
     "data": {
      "text/plain": [
       "[-862000000,\n",
       " -976091000,\n",
       " -1961400000,\n",
       " -674914000,\n",
       " -888663000,\n",
       " -294040000,\n",
       " -74014000,\n",
       " -396213000,\n",
       " -254411000,\n",
       " -154328000,\n",
       " -55740000,\n",
       " -82782000,\n",
       " -78157000]"
      ]
     },
     "execution_count": 175,
     "metadata": {},
     "output_type": "execute_result"
    }
   ],
   "source": [
    "net_income"
   ]
  },
  {
   "cell_type": "code",
   "execution_count": 176,
   "metadata": {},
   "outputs": [],
   "source": [
    "ni = {\"Year\":[\"2012\",\"2013\",\"2014\",\"2015\",\"2016\",\"2017\",\"2018\",\"2019\"],\n",
    "            \"Net Income\":[-396213000,-74014000,-294040000,-888663000,-674914000,\n",
    "                -1961400000,-976091000,-862000000]}"
   ]
  },
  {
   "cell_type": "code",
   "execution_count": 183,
   "metadata": {},
   "outputs": [
    {
     "data": {
      "application/vnd.plotly.v1+json": {
       "config": {
        "plotlyServerURL": "https://plot.ly"
       },
       "data": [
        {
         "type": "scatter",
         "x": [
          "2012",
          "2013",
          "2014",
          "2015",
          "2016",
          "2017",
          "2018",
          "2019"
         ],
         "y": [
          -396213000,
          -74014000,
          -294040000,
          -888663000,
          -674914000,
          -1961400000,
          -976091000,
          -862000000
         ]
        }
       ],
       "layout": {
        "annotations": [
         {
          "font": {
           "color": "rgb(37,37,37)",
           "family": "Arial",
           "size": 30
          },
          "showarrow": false,
          "text": "Net Income For Tesla",
          "x": 0,
          "xanchor": "left",
          "xref": "paper",
          "y": 1.05,
          "yanchor": "bottom",
          "yref": "paper"
         },
         {
          "text": "2013: -74.014M",
          "x": 2013,
          "y": -75000000
         },
         {
          "text": "2017: -1.9614B",
          "x": 2017,
          "y": -1900000000
         },
         {
          "text": "2019: -862M",
          "x": 2019,
          "y": -800000000
         }
        ],
        "template": {
         "data": {
          "bar": [
           {
            "error_x": {
             "color": "#2a3f5f"
            },
            "error_y": {
             "color": "#2a3f5f"
            },
            "marker": {
             "line": {
              "color": "#E5ECF6",
              "width": 0.5
             }
            },
            "type": "bar"
           }
          ],
          "barpolar": [
           {
            "marker": {
             "line": {
              "color": "#E5ECF6",
              "width": 0.5
             }
            },
            "type": "barpolar"
           }
          ],
          "carpet": [
           {
            "aaxis": {
             "endlinecolor": "#2a3f5f",
             "gridcolor": "white",
             "linecolor": "white",
             "minorgridcolor": "white",
             "startlinecolor": "#2a3f5f"
            },
            "baxis": {
             "endlinecolor": "#2a3f5f",
             "gridcolor": "white",
             "linecolor": "white",
             "minorgridcolor": "white",
             "startlinecolor": "#2a3f5f"
            },
            "type": "carpet"
           }
          ],
          "choropleth": [
           {
            "colorbar": {
             "outlinewidth": 0,
             "ticks": ""
            },
            "type": "choropleth"
           }
          ],
          "contour": [
           {
            "colorbar": {
             "outlinewidth": 0,
             "ticks": ""
            },
            "colorscale": [
             [
              0,
              "#0d0887"
             ],
             [
              0.1111111111111111,
              "#46039f"
             ],
             [
              0.2222222222222222,
              "#7201a8"
             ],
             [
              0.3333333333333333,
              "#9c179e"
             ],
             [
              0.4444444444444444,
              "#bd3786"
             ],
             [
              0.5555555555555556,
              "#d8576b"
             ],
             [
              0.6666666666666666,
              "#ed7953"
             ],
             [
              0.7777777777777778,
              "#fb9f3a"
             ],
             [
              0.8888888888888888,
              "#fdca26"
             ],
             [
              1,
              "#f0f921"
             ]
            ],
            "type": "contour"
           }
          ],
          "contourcarpet": [
           {
            "colorbar": {
             "outlinewidth": 0,
             "ticks": ""
            },
            "type": "contourcarpet"
           }
          ],
          "heatmap": [
           {
            "colorbar": {
             "outlinewidth": 0,
             "ticks": ""
            },
            "colorscale": [
             [
              0,
              "#0d0887"
             ],
             [
              0.1111111111111111,
              "#46039f"
             ],
             [
              0.2222222222222222,
              "#7201a8"
             ],
             [
              0.3333333333333333,
              "#9c179e"
             ],
             [
              0.4444444444444444,
              "#bd3786"
             ],
             [
              0.5555555555555556,
              "#d8576b"
             ],
             [
              0.6666666666666666,
              "#ed7953"
             ],
             [
              0.7777777777777778,
              "#fb9f3a"
             ],
             [
              0.8888888888888888,
              "#fdca26"
             ],
             [
              1,
              "#f0f921"
             ]
            ],
            "type": "heatmap"
           }
          ],
          "heatmapgl": [
           {
            "colorbar": {
             "outlinewidth": 0,
             "ticks": ""
            },
            "colorscale": [
             [
              0,
              "#0d0887"
             ],
             [
              0.1111111111111111,
              "#46039f"
             ],
             [
              0.2222222222222222,
              "#7201a8"
             ],
             [
              0.3333333333333333,
              "#9c179e"
             ],
             [
              0.4444444444444444,
              "#bd3786"
             ],
             [
              0.5555555555555556,
              "#d8576b"
             ],
             [
              0.6666666666666666,
              "#ed7953"
             ],
             [
              0.7777777777777778,
              "#fb9f3a"
             ],
             [
              0.8888888888888888,
              "#fdca26"
             ],
             [
              1,
              "#f0f921"
             ]
            ],
            "type": "heatmapgl"
           }
          ],
          "histogram": [
           {
            "marker": {
             "colorbar": {
              "outlinewidth": 0,
              "ticks": ""
             }
            },
            "type": "histogram"
           }
          ],
          "histogram2d": [
           {
            "colorbar": {
             "outlinewidth": 0,
             "ticks": ""
            },
            "colorscale": [
             [
              0,
              "#0d0887"
             ],
             [
              0.1111111111111111,
              "#46039f"
             ],
             [
              0.2222222222222222,
              "#7201a8"
             ],
             [
              0.3333333333333333,
              "#9c179e"
             ],
             [
              0.4444444444444444,
              "#bd3786"
             ],
             [
              0.5555555555555556,
              "#d8576b"
             ],
             [
              0.6666666666666666,
              "#ed7953"
             ],
             [
              0.7777777777777778,
              "#fb9f3a"
             ],
             [
              0.8888888888888888,
              "#fdca26"
             ],
             [
              1,
              "#f0f921"
             ]
            ],
            "type": "histogram2d"
           }
          ],
          "histogram2dcontour": [
           {
            "colorbar": {
             "outlinewidth": 0,
             "ticks": ""
            },
            "colorscale": [
             [
              0,
              "#0d0887"
             ],
             [
              0.1111111111111111,
              "#46039f"
             ],
             [
              0.2222222222222222,
              "#7201a8"
             ],
             [
              0.3333333333333333,
              "#9c179e"
             ],
             [
              0.4444444444444444,
              "#bd3786"
             ],
             [
              0.5555555555555556,
              "#d8576b"
             ],
             [
              0.6666666666666666,
              "#ed7953"
             ],
             [
              0.7777777777777778,
              "#fb9f3a"
             ],
             [
              0.8888888888888888,
              "#fdca26"
             ],
             [
              1,
              "#f0f921"
             ]
            ],
            "type": "histogram2dcontour"
           }
          ],
          "mesh3d": [
           {
            "colorbar": {
             "outlinewidth": 0,
             "ticks": ""
            },
            "type": "mesh3d"
           }
          ],
          "parcoords": [
           {
            "line": {
             "colorbar": {
              "outlinewidth": 0,
              "ticks": ""
             }
            },
            "type": "parcoords"
           }
          ],
          "pie": [
           {
            "automargin": true,
            "type": "pie"
           }
          ],
          "scatter": [
           {
            "marker": {
             "colorbar": {
              "outlinewidth": 0,
              "ticks": ""
             }
            },
            "type": "scatter"
           }
          ],
          "scatter3d": [
           {
            "line": {
             "colorbar": {
              "outlinewidth": 0,
              "ticks": ""
             }
            },
            "marker": {
             "colorbar": {
              "outlinewidth": 0,
              "ticks": ""
             }
            },
            "type": "scatter3d"
           }
          ],
          "scattercarpet": [
           {
            "marker": {
             "colorbar": {
              "outlinewidth": 0,
              "ticks": ""
             }
            },
            "type": "scattercarpet"
           }
          ],
          "scattergeo": [
           {
            "marker": {
             "colorbar": {
              "outlinewidth": 0,
              "ticks": ""
             }
            },
            "type": "scattergeo"
           }
          ],
          "scattergl": [
           {
            "marker": {
             "colorbar": {
              "outlinewidth": 0,
              "ticks": ""
             }
            },
            "type": "scattergl"
           }
          ],
          "scattermapbox": [
           {
            "marker": {
             "colorbar": {
              "outlinewidth": 0,
              "ticks": ""
             }
            },
            "type": "scattermapbox"
           }
          ],
          "scatterpolar": [
           {
            "marker": {
             "colorbar": {
              "outlinewidth": 0,
              "ticks": ""
             }
            },
            "type": "scatterpolar"
           }
          ],
          "scatterpolargl": [
           {
            "marker": {
             "colorbar": {
              "outlinewidth": 0,
              "ticks": ""
             }
            },
            "type": "scatterpolargl"
           }
          ],
          "scatterternary": [
           {
            "marker": {
             "colorbar": {
              "outlinewidth": 0,
              "ticks": ""
             }
            },
            "type": "scatterternary"
           }
          ],
          "surface": [
           {
            "colorbar": {
             "outlinewidth": 0,
             "ticks": ""
            },
            "colorscale": [
             [
              0,
              "#0d0887"
             ],
             [
              0.1111111111111111,
              "#46039f"
             ],
             [
              0.2222222222222222,
              "#7201a8"
             ],
             [
              0.3333333333333333,
              "#9c179e"
             ],
             [
              0.4444444444444444,
              "#bd3786"
             ],
             [
              0.5555555555555556,
              "#d8576b"
             ],
             [
              0.6666666666666666,
              "#ed7953"
             ],
             [
              0.7777777777777778,
              "#fb9f3a"
             ],
             [
              0.8888888888888888,
              "#fdca26"
             ],
             [
              1,
              "#f0f921"
             ]
            ],
            "type": "surface"
           }
          ],
          "table": [
           {
            "cells": {
             "fill": {
              "color": "#EBF0F8"
             },
             "line": {
              "color": "white"
             }
            },
            "header": {
             "fill": {
              "color": "#C8D4E3"
             },
             "line": {
              "color": "white"
             }
            },
            "type": "table"
           }
          ]
         },
         "layout": {
          "annotationdefaults": {
           "arrowcolor": "#2a3f5f",
           "arrowhead": 0,
           "arrowwidth": 1
          },
          "coloraxis": {
           "colorbar": {
            "outlinewidth": 0,
            "ticks": ""
           }
          },
          "colorscale": {
           "diverging": [
            [
             0,
             "#8e0152"
            ],
            [
             0.1,
             "#c51b7d"
            ],
            [
             0.2,
             "#de77ae"
            ],
            [
             0.3,
             "#f1b6da"
            ],
            [
             0.4,
             "#fde0ef"
            ],
            [
             0.5,
             "#f7f7f7"
            ],
            [
             0.6,
             "#e6f5d0"
            ],
            [
             0.7,
             "#b8e186"
            ],
            [
             0.8,
             "#7fbc41"
            ],
            [
             0.9,
             "#4d9221"
            ],
            [
             1,
             "#276419"
            ]
           ],
           "sequential": [
            [
             0,
             "#0d0887"
            ],
            [
             0.1111111111111111,
             "#46039f"
            ],
            [
             0.2222222222222222,
             "#7201a8"
            ],
            [
             0.3333333333333333,
             "#9c179e"
            ],
            [
             0.4444444444444444,
             "#bd3786"
            ],
            [
             0.5555555555555556,
             "#d8576b"
            ],
            [
             0.6666666666666666,
             "#ed7953"
            ],
            [
             0.7777777777777778,
             "#fb9f3a"
            ],
            [
             0.8888888888888888,
             "#fdca26"
            ],
            [
             1,
             "#f0f921"
            ]
           ],
           "sequentialminus": [
            [
             0,
             "#0d0887"
            ],
            [
             0.1111111111111111,
             "#46039f"
            ],
            [
             0.2222222222222222,
             "#7201a8"
            ],
            [
             0.3333333333333333,
             "#9c179e"
            ],
            [
             0.4444444444444444,
             "#bd3786"
            ],
            [
             0.5555555555555556,
             "#d8576b"
            ],
            [
             0.6666666666666666,
             "#ed7953"
            ],
            [
             0.7777777777777778,
             "#fb9f3a"
            ],
            [
             0.8888888888888888,
             "#fdca26"
            ],
            [
             1,
             "#f0f921"
            ]
           ]
          },
          "colorway": [
           "#636efa",
           "#EF553B",
           "#00cc96",
           "#ab63fa",
           "#FFA15A",
           "#19d3f3",
           "#FF6692",
           "#B6E880",
           "#FF97FF",
           "#FECB52"
          ],
          "font": {
           "color": "#2a3f5f"
          },
          "geo": {
           "bgcolor": "white",
           "lakecolor": "white",
           "landcolor": "#E5ECF6",
           "showlakes": true,
           "showland": true,
           "subunitcolor": "white"
          },
          "hoverlabel": {
           "align": "left"
          },
          "hovermode": "closest",
          "mapbox": {
           "style": "light"
          },
          "paper_bgcolor": "white",
          "plot_bgcolor": "#E5ECF6",
          "polar": {
           "angularaxis": {
            "gridcolor": "white",
            "linecolor": "white",
            "ticks": ""
           },
           "bgcolor": "#E5ECF6",
           "radialaxis": {
            "gridcolor": "white",
            "linecolor": "white",
            "ticks": ""
           }
          },
          "scene": {
           "xaxis": {
            "backgroundcolor": "#E5ECF6",
            "gridcolor": "white",
            "gridwidth": 2,
            "linecolor": "white",
            "showbackground": true,
            "ticks": "",
            "zerolinecolor": "white"
           },
           "yaxis": {
            "backgroundcolor": "#E5ECF6",
            "gridcolor": "white",
            "gridwidth": 2,
            "linecolor": "white",
            "showbackground": true,
            "ticks": "",
            "zerolinecolor": "white"
           },
           "zaxis": {
            "backgroundcolor": "#E5ECF6",
            "gridcolor": "white",
            "gridwidth": 2,
            "linecolor": "white",
            "showbackground": true,
            "ticks": "",
            "zerolinecolor": "white"
           }
          },
          "shapedefaults": {
           "line": {
            "color": "#2a3f5f"
           }
          },
          "ternary": {
           "aaxis": {
            "gridcolor": "white",
            "linecolor": "white",
            "ticks": ""
           },
           "baxis": {
            "gridcolor": "white",
            "linecolor": "white",
            "ticks": ""
           },
           "bgcolor": "#E5ECF6",
           "caxis": {
            "gridcolor": "white",
            "linecolor": "white",
            "ticks": ""
           }
          },
          "title": {
           "x": 0.05
          },
          "xaxis": {
           "automargin": true,
           "gridcolor": "white",
           "linecolor": "white",
           "ticks": "",
           "title": {
            "standoff": 15
           },
           "zerolinecolor": "white",
           "zerolinewidth": 2
          },
          "yaxis": {
           "automargin": true,
           "gridcolor": "white",
           "linecolor": "white",
           "ticks": "",
           "title": {
            "standoff": 15
           },
           "zerolinecolor": "white",
           "zerolinewidth": 2
          }
         }
        }
       }
      },
      "text/html": [
       "<div>\n",
       "        \n",
       "        \n",
       "            <div id=\"f65b0bbe-6b2f-4815-92ad-7bf43b38af1d\" class=\"plotly-graph-div\" style=\"height:525px; width:100%;\"></div>\n",
       "            <script type=\"text/javascript\">\n",
       "                require([\"plotly\"], function(Plotly) {\n",
       "                    window.PLOTLYENV=window.PLOTLYENV || {};\n",
       "                    \n",
       "                if (document.getElementById(\"f65b0bbe-6b2f-4815-92ad-7bf43b38af1d\")) {\n",
       "                    Plotly.newPlot(\n",
       "                        'f65b0bbe-6b2f-4815-92ad-7bf43b38af1d',\n",
       "                        [{\"type\": \"scatter\", \"x\": [\"2012\", \"2013\", \"2014\", \"2015\", \"2016\", \"2017\", \"2018\", \"2019\"], \"y\": [-396213000, -74014000, -294040000, -888663000, -674914000, -1961400000, -976091000, -862000000]}],\n",
       "                        {\"annotations\": [{\"font\": {\"color\": \"rgb(37,37,37)\", \"family\": \"Arial\", \"size\": 30}, \"showarrow\": false, \"text\": \"Net Income For Tesla\", \"x\": 0.0, \"xanchor\": \"left\", \"xref\": \"paper\", \"y\": 1.05, \"yanchor\": \"bottom\", \"yref\": \"paper\"}, {\"text\": \"2013: -74.014M\", \"x\": 2013, \"y\": -75000000}, {\"text\": \"2017: -1.9614B\", \"x\": 2017, \"y\": -1900000000}, {\"text\": \"2019: -862M\", \"x\": 2019, \"y\": -800000000}], \"template\": {\"data\": {\"bar\": [{\"error_x\": {\"color\": \"#2a3f5f\"}, \"error_y\": {\"color\": \"#2a3f5f\"}, \"marker\": {\"line\": {\"color\": \"#E5ECF6\", \"width\": 0.5}}, \"type\": \"bar\"}], \"barpolar\": [{\"marker\": {\"line\": {\"color\": \"#E5ECF6\", \"width\": 0.5}}, \"type\": \"barpolar\"}], \"carpet\": [{\"aaxis\": {\"endlinecolor\": \"#2a3f5f\", \"gridcolor\": \"white\", \"linecolor\": \"white\", \"minorgridcolor\": \"white\", \"startlinecolor\": \"#2a3f5f\"}, \"baxis\": {\"endlinecolor\": \"#2a3f5f\", \"gridcolor\": \"white\", \"linecolor\": \"white\", \"minorgridcolor\": \"white\", \"startlinecolor\": \"#2a3f5f\"}, \"type\": \"carpet\"}], \"choropleth\": [{\"colorbar\": {\"outlinewidth\": 0, \"ticks\": \"\"}, \"type\": \"choropleth\"}], \"contour\": [{\"colorbar\": {\"outlinewidth\": 0, \"ticks\": \"\"}, \"colorscale\": [[0.0, \"#0d0887\"], [0.1111111111111111, \"#46039f\"], [0.2222222222222222, \"#7201a8\"], [0.3333333333333333, \"#9c179e\"], [0.4444444444444444, \"#bd3786\"], [0.5555555555555556, \"#d8576b\"], [0.6666666666666666, \"#ed7953\"], [0.7777777777777778, \"#fb9f3a\"], [0.8888888888888888, \"#fdca26\"], [1.0, \"#f0f921\"]], \"type\": \"contour\"}], \"contourcarpet\": [{\"colorbar\": {\"outlinewidth\": 0, \"ticks\": \"\"}, \"type\": \"contourcarpet\"}], \"heatmap\": [{\"colorbar\": {\"outlinewidth\": 0, \"ticks\": \"\"}, \"colorscale\": [[0.0, \"#0d0887\"], [0.1111111111111111, \"#46039f\"], [0.2222222222222222, \"#7201a8\"], [0.3333333333333333, \"#9c179e\"], [0.4444444444444444, \"#bd3786\"], [0.5555555555555556, \"#d8576b\"], [0.6666666666666666, \"#ed7953\"], [0.7777777777777778, \"#fb9f3a\"], [0.8888888888888888, \"#fdca26\"], [1.0, \"#f0f921\"]], \"type\": \"heatmap\"}], \"heatmapgl\": [{\"colorbar\": {\"outlinewidth\": 0, \"ticks\": \"\"}, \"colorscale\": [[0.0, \"#0d0887\"], [0.1111111111111111, \"#46039f\"], [0.2222222222222222, \"#7201a8\"], [0.3333333333333333, \"#9c179e\"], [0.4444444444444444, \"#bd3786\"], [0.5555555555555556, \"#d8576b\"], [0.6666666666666666, \"#ed7953\"], [0.7777777777777778, \"#fb9f3a\"], [0.8888888888888888, \"#fdca26\"], [1.0, \"#f0f921\"]], \"type\": \"heatmapgl\"}], \"histogram\": [{\"marker\": {\"colorbar\": {\"outlinewidth\": 0, \"ticks\": \"\"}}, \"type\": \"histogram\"}], \"histogram2d\": [{\"colorbar\": {\"outlinewidth\": 0, \"ticks\": \"\"}, \"colorscale\": [[0.0, \"#0d0887\"], [0.1111111111111111, \"#46039f\"], [0.2222222222222222, \"#7201a8\"], [0.3333333333333333, \"#9c179e\"], [0.4444444444444444, \"#bd3786\"], [0.5555555555555556, \"#d8576b\"], [0.6666666666666666, \"#ed7953\"], [0.7777777777777778, \"#fb9f3a\"], [0.8888888888888888, \"#fdca26\"], [1.0, \"#f0f921\"]], \"type\": \"histogram2d\"}], \"histogram2dcontour\": [{\"colorbar\": {\"outlinewidth\": 0, \"ticks\": \"\"}, \"colorscale\": [[0.0, \"#0d0887\"], [0.1111111111111111, \"#46039f\"], [0.2222222222222222, \"#7201a8\"], [0.3333333333333333, \"#9c179e\"], [0.4444444444444444, \"#bd3786\"], [0.5555555555555556, \"#d8576b\"], [0.6666666666666666, \"#ed7953\"], [0.7777777777777778, \"#fb9f3a\"], [0.8888888888888888, \"#fdca26\"], [1.0, \"#f0f921\"]], \"type\": \"histogram2dcontour\"}], \"mesh3d\": [{\"colorbar\": {\"outlinewidth\": 0, \"ticks\": \"\"}, \"type\": \"mesh3d\"}], \"parcoords\": [{\"line\": {\"colorbar\": {\"outlinewidth\": 0, \"ticks\": \"\"}}, \"type\": \"parcoords\"}], \"pie\": [{\"automargin\": true, \"type\": \"pie\"}], \"scatter\": [{\"marker\": {\"colorbar\": {\"outlinewidth\": 0, \"ticks\": \"\"}}, \"type\": \"scatter\"}], \"scatter3d\": [{\"line\": {\"colorbar\": {\"outlinewidth\": 0, \"ticks\": \"\"}}, \"marker\": {\"colorbar\": {\"outlinewidth\": 0, \"ticks\": \"\"}}, \"type\": \"scatter3d\"}], \"scattercarpet\": [{\"marker\": {\"colorbar\": {\"outlinewidth\": 0, \"ticks\": \"\"}}, \"type\": \"scattercarpet\"}], \"scattergeo\": [{\"marker\": {\"colorbar\": {\"outlinewidth\": 0, \"ticks\": \"\"}}, \"type\": \"scattergeo\"}], \"scattergl\": [{\"marker\": {\"colorbar\": {\"outlinewidth\": 0, \"ticks\": \"\"}}, \"type\": \"scattergl\"}], \"scattermapbox\": [{\"marker\": {\"colorbar\": {\"outlinewidth\": 0, \"ticks\": \"\"}}, \"type\": \"scattermapbox\"}], \"scatterpolar\": [{\"marker\": {\"colorbar\": {\"outlinewidth\": 0, \"ticks\": \"\"}}, \"type\": \"scatterpolar\"}], \"scatterpolargl\": [{\"marker\": {\"colorbar\": {\"outlinewidth\": 0, \"ticks\": \"\"}}, \"type\": \"scatterpolargl\"}], \"scatterternary\": [{\"marker\": {\"colorbar\": {\"outlinewidth\": 0, \"ticks\": \"\"}}, \"type\": \"scatterternary\"}], \"surface\": [{\"colorbar\": {\"outlinewidth\": 0, \"ticks\": \"\"}, \"colorscale\": [[0.0, \"#0d0887\"], [0.1111111111111111, \"#46039f\"], [0.2222222222222222, \"#7201a8\"], [0.3333333333333333, \"#9c179e\"], [0.4444444444444444, \"#bd3786\"], [0.5555555555555556, \"#d8576b\"], [0.6666666666666666, \"#ed7953\"], [0.7777777777777778, \"#fb9f3a\"], [0.8888888888888888, \"#fdca26\"], [1.0, \"#f0f921\"]], \"type\": \"surface\"}], \"table\": [{\"cells\": {\"fill\": {\"color\": \"#EBF0F8\"}, \"line\": {\"color\": \"white\"}}, \"header\": {\"fill\": {\"color\": \"#C8D4E3\"}, \"line\": {\"color\": \"white\"}}, \"type\": \"table\"}]}, \"layout\": {\"annotationdefaults\": {\"arrowcolor\": \"#2a3f5f\", \"arrowhead\": 0, \"arrowwidth\": 1}, \"coloraxis\": {\"colorbar\": {\"outlinewidth\": 0, \"ticks\": \"\"}}, \"colorscale\": {\"diverging\": [[0, \"#8e0152\"], [0.1, \"#c51b7d\"], [0.2, \"#de77ae\"], [0.3, \"#f1b6da\"], [0.4, \"#fde0ef\"], [0.5, \"#f7f7f7\"], [0.6, \"#e6f5d0\"], [0.7, \"#b8e186\"], [0.8, \"#7fbc41\"], [0.9, \"#4d9221\"], [1, \"#276419\"]], \"sequential\": [[0.0, \"#0d0887\"], [0.1111111111111111, \"#46039f\"], [0.2222222222222222, \"#7201a8\"], [0.3333333333333333, \"#9c179e\"], [0.4444444444444444, \"#bd3786\"], [0.5555555555555556, \"#d8576b\"], [0.6666666666666666, \"#ed7953\"], [0.7777777777777778, \"#fb9f3a\"], [0.8888888888888888, \"#fdca26\"], [1.0, \"#f0f921\"]], \"sequentialminus\": [[0.0, \"#0d0887\"], [0.1111111111111111, \"#46039f\"], [0.2222222222222222, \"#7201a8\"], [0.3333333333333333, \"#9c179e\"], [0.4444444444444444, \"#bd3786\"], [0.5555555555555556, \"#d8576b\"], [0.6666666666666666, \"#ed7953\"], [0.7777777777777778, \"#fb9f3a\"], [0.8888888888888888, \"#fdca26\"], [1.0, \"#f0f921\"]]}, \"colorway\": [\"#636efa\", \"#EF553B\", \"#00cc96\", \"#ab63fa\", \"#FFA15A\", \"#19d3f3\", \"#FF6692\", \"#B6E880\", \"#FF97FF\", \"#FECB52\"], \"font\": {\"color\": \"#2a3f5f\"}, \"geo\": {\"bgcolor\": \"white\", \"lakecolor\": \"white\", \"landcolor\": \"#E5ECF6\", \"showlakes\": true, \"showland\": true, \"subunitcolor\": \"white\"}, \"hoverlabel\": {\"align\": \"left\"}, \"hovermode\": \"closest\", \"mapbox\": {\"style\": \"light\"}, \"paper_bgcolor\": \"white\", \"plot_bgcolor\": \"#E5ECF6\", \"polar\": {\"angularaxis\": {\"gridcolor\": \"white\", \"linecolor\": \"white\", \"ticks\": \"\"}, \"bgcolor\": \"#E5ECF6\", \"radialaxis\": {\"gridcolor\": \"white\", \"linecolor\": \"white\", \"ticks\": \"\"}}, \"scene\": {\"xaxis\": {\"backgroundcolor\": \"#E5ECF6\", \"gridcolor\": \"white\", \"gridwidth\": 2, \"linecolor\": \"white\", \"showbackground\": true, \"ticks\": \"\", \"zerolinecolor\": \"white\"}, \"yaxis\": {\"backgroundcolor\": \"#E5ECF6\", \"gridcolor\": \"white\", \"gridwidth\": 2, \"linecolor\": \"white\", \"showbackground\": true, \"ticks\": \"\", \"zerolinecolor\": \"white\"}, \"zaxis\": {\"backgroundcolor\": \"#E5ECF6\", \"gridcolor\": \"white\", \"gridwidth\": 2, \"linecolor\": \"white\", \"showbackground\": true, \"ticks\": \"\", \"zerolinecolor\": \"white\"}}, \"shapedefaults\": {\"line\": {\"color\": \"#2a3f5f\"}}, \"ternary\": {\"aaxis\": {\"gridcolor\": \"white\", \"linecolor\": \"white\", \"ticks\": \"\"}, \"baxis\": {\"gridcolor\": \"white\", \"linecolor\": \"white\", \"ticks\": \"\"}, \"bgcolor\": \"#E5ECF6\", \"caxis\": {\"gridcolor\": \"white\", \"linecolor\": \"white\", \"ticks\": \"\"}}, \"title\": {\"x\": 0.05}, \"xaxis\": {\"automargin\": true, \"gridcolor\": \"white\", \"linecolor\": \"white\", \"ticks\": \"\", \"title\": {\"standoff\": 15}, \"zerolinecolor\": \"white\", \"zerolinewidth\": 2}, \"yaxis\": {\"automargin\": true, \"gridcolor\": \"white\", \"linecolor\": \"white\", \"ticks\": \"\", \"title\": {\"standoff\": 15}, \"zerolinecolor\": \"white\", \"zerolinewidth\": 2}}}},\n",
       "                        {\"responsive\": true}\n",
       "                    ).then(function(){\n",
       "                            \n",
       "var gd = document.getElementById('f65b0bbe-6b2f-4815-92ad-7bf43b38af1d');\n",
       "var x = new MutationObserver(function (mutations, observer) {{\n",
       "        var display = window.getComputedStyle(gd).display;\n",
       "        if (!display || display === 'none') {{\n",
       "            console.log([gd, 'removed!']);\n",
       "            Plotly.purge(gd);\n",
       "            observer.disconnect();\n",
       "        }}\n",
       "}});\n",
       "\n",
       "// Listen for the removal of the full notebook cells\n",
       "var notebookContainer = gd.closest('#notebook-container');\n",
       "if (notebookContainer) {{\n",
       "    x.observe(notebookContainer, {childList: true});\n",
       "}}\n",
       "\n",
       "// Listen for the clearing of the current output cell\n",
       "var outputEl = gd.closest('.output');\n",
       "if (outputEl) {{\n",
       "    x.observe(outputEl, {childList: true});\n",
       "}}\n",
       "\n",
       "                        })\n",
       "                };\n",
       "                });\n",
       "            </script>\n",
       "        </div>"
      ]
     },
     "metadata": {},
     "output_type": "display_data"
    }
   ],
   "source": [
    "fig = go.Figure(data=go.Scatter(x=ni[\"Year\"], y=ni[\"Net Income\"]))\n",
    "annotation = []\n",
    "annotation.append(dict(xref='paper', yref='paper', x=0.0, y=1.05,\n",
    "                              xanchor='left', yanchor='bottom',\n",
    "                              text='Net Income For Tesla',\n",
    "                              font=dict(family='Arial',\n",
    "                                        size=30,\n",
    "                                        color='rgb(37,37,37)'),\n",
    "                              showarrow=False))\n",
    "fig.update_layout(annotations=annotation)\n",
    "fig.add_annotation(\n",
    "            x=2013,\n",
    "            y=-75000000,\n",
    "            text=\"2013: -74.014M\")\n",
    "fig.add_annotation(\n",
    "            x=2017,\n",
    "            y=-1900000000,\n",
    "            text=\"2017: -1.9614B\")\n",
    "fig.add_annotation(\n",
    "            x=2019,\n",
    "            y=-800000000,\n",
    "            text=\"2019: -862M\")\n",
    "fig.show()"
   ]
  },
  {
   "cell_type": "code",
   "execution_count": 194,
   "metadata": {},
   "outputs": [
    {
     "data": {
      "text/plain": [
       "0    -0.130251\n",
       "1    -0.198262\n",
       "2    -0.462895\n",
       "3    -0.142000\n",
       "4    -0.816078\n",
       "5    -0.322515\n",
       "6    -0.110946\n",
       "7    -3.177330\n",
       "8    -1.135535\n",
       "9    -0.745373\n",
       "10    0.219862\n",
       "11    0.414503\n",
       "12    0.663213\n",
       "Name: ROE, dtype: float64"
      ]
     },
     "execution_count": 194,
     "metadata": {},
     "output_type": "execute_result"
    }
   ],
   "source": [
    "profitability[\"ROE\"]"
   ]
  },
  {
   "cell_type": "code",
   "execution_count": 196,
   "metadata": {},
   "outputs": [],
   "source": [
    "roe_tesla = {\"Year\":[\"2012\",\"2013\",\"2014\",\"2015\",\"2016\",\"2017\",\"2018\",\"2019\"],\n",
    "            \"ROE_Tesla\":[-3.177330,-0.110946,-0.322515,-0.816078,-0.142000,\n",
    "                -0.462895,-0.198262,-0.130251]}"
   ]
  },
  {
   "cell_type": "code",
   "execution_count": 197,
   "metadata": {},
   "outputs": [],
   "source": [
    "roe_GM = {\"Year\":[\"2012\",\"2013\",\"2014\",\"2015\",\"2016\",\"2017\",\"2018\",\"2019\"],\n",
    "            \"ROE_GM\":[0.170732,0.125472,0.111374,0.242959,0.215052,\n",
    "                -0.110397,0.206227,0.161083]}"
   ]
  },
  {
   "cell_type": "code",
   "execution_count": 207,
   "metadata": {},
   "outputs": [
    {
     "data": {
      "application/vnd.plotly.v1+json": {
       "config": {
        "plotlyServerURL": "https://plot.ly"
       },
       "data": [
        {
         "name": "ROE_Tesla",
         "type": "scatter",
         "x": [
          "2012",
          "2013",
          "2014",
          "2015",
          "2016",
          "2017",
          "2018",
          "2019"
         ],
         "y": [
          -3.17733,
          -0.110946,
          -0.322515,
          -0.816078,
          -0.142,
          -0.462895,
          -0.198262,
          -0.130251
         ]
        },
        {
         "name": "ROE_GM",
         "type": "scatter",
         "x": [
          "2012",
          "2013",
          "2014",
          "2015",
          "2016",
          "2017",
          "2018",
          "2019"
         ],
         "y": [
          0.170732,
          0.125472,
          0.111374,
          0.242959,
          0.215052,
          -0.110397,
          0.206227,
          0.161083
         ]
        }
       ],
       "layout": {
        "annotations": [
         {
          "font": {
           "color": "rgb(37,37,37)",
           "family": "Arial",
           "size": 30
          },
          "showarrow": false,
          "text": "ROE: Tesla vs. General Motors",
          "x": 0,
          "xanchor": "left",
          "xref": "paper",
          "y": 1.05,
          "yanchor": "bottom",
          "yref": "paper"
         },
         {
          "text": "2013: Tesla -11.09%",
          "x": 2013,
          "y": -0.1
         },
         {
          "text": "2019: Tesla -13.03%",
          "x": 2019,
          "y": -0.1
         },
         {
          "text": "2019: GM 16.11%",
          "x": 2019,
          "y": 0.2
         }
        ],
        "template": {
         "data": {
          "bar": [
           {
            "error_x": {
             "color": "#2a3f5f"
            },
            "error_y": {
             "color": "#2a3f5f"
            },
            "marker": {
             "line": {
              "color": "#E5ECF6",
              "width": 0.5
             }
            },
            "type": "bar"
           }
          ],
          "barpolar": [
           {
            "marker": {
             "line": {
              "color": "#E5ECF6",
              "width": 0.5
             }
            },
            "type": "barpolar"
           }
          ],
          "carpet": [
           {
            "aaxis": {
             "endlinecolor": "#2a3f5f",
             "gridcolor": "white",
             "linecolor": "white",
             "minorgridcolor": "white",
             "startlinecolor": "#2a3f5f"
            },
            "baxis": {
             "endlinecolor": "#2a3f5f",
             "gridcolor": "white",
             "linecolor": "white",
             "minorgridcolor": "white",
             "startlinecolor": "#2a3f5f"
            },
            "type": "carpet"
           }
          ],
          "choropleth": [
           {
            "colorbar": {
             "outlinewidth": 0,
             "ticks": ""
            },
            "type": "choropleth"
           }
          ],
          "contour": [
           {
            "colorbar": {
             "outlinewidth": 0,
             "ticks": ""
            },
            "colorscale": [
             [
              0,
              "#0d0887"
             ],
             [
              0.1111111111111111,
              "#46039f"
             ],
             [
              0.2222222222222222,
              "#7201a8"
             ],
             [
              0.3333333333333333,
              "#9c179e"
             ],
             [
              0.4444444444444444,
              "#bd3786"
             ],
             [
              0.5555555555555556,
              "#d8576b"
             ],
             [
              0.6666666666666666,
              "#ed7953"
             ],
             [
              0.7777777777777778,
              "#fb9f3a"
             ],
             [
              0.8888888888888888,
              "#fdca26"
             ],
             [
              1,
              "#f0f921"
             ]
            ],
            "type": "contour"
           }
          ],
          "contourcarpet": [
           {
            "colorbar": {
             "outlinewidth": 0,
             "ticks": ""
            },
            "type": "contourcarpet"
           }
          ],
          "heatmap": [
           {
            "colorbar": {
             "outlinewidth": 0,
             "ticks": ""
            },
            "colorscale": [
             [
              0,
              "#0d0887"
             ],
             [
              0.1111111111111111,
              "#46039f"
             ],
             [
              0.2222222222222222,
              "#7201a8"
             ],
             [
              0.3333333333333333,
              "#9c179e"
             ],
             [
              0.4444444444444444,
              "#bd3786"
             ],
             [
              0.5555555555555556,
              "#d8576b"
             ],
             [
              0.6666666666666666,
              "#ed7953"
             ],
             [
              0.7777777777777778,
              "#fb9f3a"
             ],
             [
              0.8888888888888888,
              "#fdca26"
             ],
             [
              1,
              "#f0f921"
             ]
            ],
            "type": "heatmap"
           }
          ],
          "heatmapgl": [
           {
            "colorbar": {
             "outlinewidth": 0,
             "ticks": ""
            },
            "colorscale": [
             [
              0,
              "#0d0887"
             ],
             [
              0.1111111111111111,
              "#46039f"
             ],
             [
              0.2222222222222222,
              "#7201a8"
             ],
             [
              0.3333333333333333,
              "#9c179e"
             ],
             [
              0.4444444444444444,
              "#bd3786"
             ],
             [
              0.5555555555555556,
              "#d8576b"
             ],
             [
              0.6666666666666666,
              "#ed7953"
             ],
             [
              0.7777777777777778,
              "#fb9f3a"
             ],
             [
              0.8888888888888888,
              "#fdca26"
             ],
             [
              1,
              "#f0f921"
             ]
            ],
            "type": "heatmapgl"
           }
          ],
          "histogram": [
           {
            "marker": {
             "colorbar": {
              "outlinewidth": 0,
              "ticks": ""
             }
            },
            "type": "histogram"
           }
          ],
          "histogram2d": [
           {
            "colorbar": {
             "outlinewidth": 0,
             "ticks": ""
            },
            "colorscale": [
             [
              0,
              "#0d0887"
             ],
             [
              0.1111111111111111,
              "#46039f"
             ],
             [
              0.2222222222222222,
              "#7201a8"
             ],
             [
              0.3333333333333333,
              "#9c179e"
             ],
             [
              0.4444444444444444,
              "#bd3786"
             ],
             [
              0.5555555555555556,
              "#d8576b"
             ],
             [
              0.6666666666666666,
              "#ed7953"
             ],
             [
              0.7777777777777778,
              "#fb9f3a"
             ],
             [
              0.8888888888888888,
              "#fdca26"
             ],
             [
              1,
              "#f0f921"
             ]
            ],
            "type": "histogram2d"
           }
          ],
          "histogram2dcontour": [
           {
            "colorbar": {
             "outlinewidth": 0,
             "ticks": ""
            },
            "colorscale": [
             [
              0,
              "#0d0887"
             ],
             [
              0.1111111111111111,
              "#46039f"
             ],
             [
              0.2222222222222222,
              "#7201a8"
             ],
             [
              0.3333333333333333,
              "#9c179e"
             ],
             [
              0.4444444444444444,
              "#bd3786"
             ],
             [
              0.5555555555555556,
              "#d8576b"
             ],
             [
              0.6666666666666666,
              "#ed7953"
             ],
             [
              0.7777777777777778,
              "#fb9f3a"
             ],
             [
              0.8888888888888888,
              "#fdca26"
             ],
             [
              1,
              "#f0f921"
             ]
            ],
            "type": "histogram2dcontour"
           }
          ],
          "mesh3d": [
           {
            "colorbar": {
             "outlinewidth": 0,
             "ticks": ""
            },
            "type": "mesh3d"
           }
          ],
          "parcoords": [
           {
            "line": {
             "colorbar": {
              "outlinewidth": 0,
              "ticks": ""
             }
            },
            "type": "parcoords"
           }
          ],
          "pie": [
           {
            "automargin": true,
            "type": "pie"
           }
          ],
          "scatter": [
           {
            "marker": {
             "colorbar": {
              "outlinewidth": 0,
              "ticks": ""
             }
            },
            "type": "scatter"
           }
          ],
          "scatter3d": [
           {
            "line": {
             "colorbar": {
              "outlinewidth": 0,
              "ticks": ""
             }
            },
            "marker": {
             "colorbar": {
              "outlinewidth": 0,
              "ticks": ""
             }
            },
            "type": "scatter3d"
           }
          ],
          "scattercarpet": [
           {
            "marker": {
             "colorbar": {
              "outlinewidth": 0,
              "ticks": ""
             }
            },
            "type": "scattercarpet"
           }
          ],
          "scattergeo": [
           {
            "marker": {
             "colorbar": {
              "outlinewidth": 0,
              "ticks": ""
             }
            },
            "type": "scattergeo"
           }
          ],
          "scattergl": [
           {
            "marker": {
             "colorbar": {
              "outlinewidth": 0,
              "ticks": ""
             }
            },
            "type": "scattergl"
           }
          ],
          "scattermapbox": [
           {
            "marker": {
             "colorbar": {
              "outlinewidth": 0,
              "ticks": ""
             }
            },
            "type": "scattermapbox"
           }
          ],
          "scatterpolar": [
           {
            "marker": {
             "colorbar": {
              "outlinewidth": 0,
              "ticks": ""
             }
            },
            "type": "scatterpolar"
           }
          ],
          "scatterpolargl": [
           {
            "marker": {
             "colorbar": {
              "outlinewidth": 0,
              "ticks": ""
             }
            },
            "type": "scatterpolargl"
           }
          ],
          "scatterternary": [
           {
            "marker": {
             "colorbar": {
              "outlinewidth": 0,
              "ticks": ""
             }
            },
            "type": "scatterternary"
           }
          ],
          "surface": [
           {
            "colorbar": {
             "outlinewidth": 0,
             "ticks": ""
            },
            "colorscale": [
             [
              0,
              "#0d0887"
             ],
             [
              0.1111111111111111,
              "#46039f"
             ],
             [
              0.2222222222222222,
              "#7201a8"
             ],
             [
              0.3333333333333333,
              "#9c179e"
             ],
             [
              0.4444444444444444,
              "#bd3786"
             ],
             [
              0.5555555555555556,
              "#d8576b"
             ],
             [
              0.6666666666666666,
              "#ed7953"
             ],
             [
              0.7777777777777778,
              "#fb9f3a"
             ],
             [
              0.8888888888888888,
              "#fdca26"
             ],
             [
              1,
              "#f0f921"
             ]
            ],
            "type": "surface"
           }
          ],
          "table": [
           {
            "cells": {
             "fill": {
              "color": "#EBF0F8"
             },
             "line": {
              "color": "white"
             }
            },
            "header": {
             "fill": {
              "color": "#C8D4E3"
             },
             "line": {
              "color": "white"
             }
            },
            "type": "table"
           }
          ]
         },
         "layout": {
          "annotationdefaults": {
           "arrowcolor": "#2a3f5f",
           "arrowhead": 0,
           "arrowwidth": 1
          },
          "coloraxis": {
           "colorbar": {
            "outlinewidth": 0,
            "ticks": ""
           }
          },
          "colorscale": {
           "diverging": [
            [
             0,
             "#8e0152"
            ],
            [
             0.1,
             "#c51b7d"
            ],
            [
             0.2,
             "#de77ae"
            ],
            [
             0.3,
             "#f1b6da"
            ],
            [
             0.4,
             "#fde0ef"
            ],
            [
             0.5,
             "#f7f7f7"
            ],
            [
             0.6,
             "#e6f5d0"
            ],
            [
             0.7,
             "#b8e186"
            ],
            [
             0.8,
             "#7fbc41"
            ],
            [
             0.9,
             "#4d9221"
            ],
            [
             1,
             "#276419"
            ]
           ],
           "sequential": [
            [
             0,
             "#0d0887"
            ],
            [
             0.1111111111111111,
             "#46039f"
            ],
            [
             0.2222222222222222,
             "#7201a8"
            ],
            [
             0.3333333333333333,
             "#9c179e"
            ],
            [
             0.4444444444444444,
             "#bd3786"
            ],
            [
             0.5555555555555556,
             "#d8576b"
            ],
            [
             0.6666666666666666,
             "#ed7953"
            ],
            [
             0.7777777777777778,
             "#fb9f3a"
            ],
            [
             0.8888888888888888,
             "#fdca26"
            ],
            [
             1,
             "#f0f921"
            ]
           ],
           "sequentialminus": [
            [
             0,
             "#0d0887"
            ],
            [
             0.1111111111111111,
             "#46039f"
            ],
            [
             0.2222222222222222,
             "#7201a8"
            ],
            [
             0.3333333333333333,
             "#9c179e"
            ],
            [
             0.4444444444444444,
             "#bd3786"
            ],
            [
             0.5555555555555556,
             "#d8576b"
            ],
            [
             0.6666666666666666,
             "#ed7953"
            ],
            [
             0.7777777777777778,
             "#fb9f3a"
            ],
            [
             0.8888888888888888,
             "#fdca26"
            ],
            [
             1,
             "#f0f921"
            ]
           ]
          },
          "colorway": [
           "#636efa",
           "#EF553B",
           "#00cc96",
           "#ab63fa",
           "#FFA15A",
           "#19d3f3",
           "#FF6692",
           "#B6E880",
           "#FF97FF",
           "#FECB52"
          ],
          "font": {
           "color": "#2a3f5f"
          },
          "geo": {
           "bgcolor": "white",
           "lakecolor": "white",
           "landcolor": "#E5ECF6",
           "showlakes": true,
           "showland": true,
           "subunitcolor": "white"
          },
          "hoverlabel": {
           "align": "left"
          },
          "hovermode": "closest",
          "mapbox": {
           "style": "light"
          },
          "paper_bgcolor": "white",
          "plot_bgcolor": "#E5ECF6",
          "polar": {
           "angularaxis": {
            "gridcolor": "white",
            "linecolor": "white",
            "ticks": ""
           },
           "bgcolor": "#E5ECF6",
           "radialaxis": {
            "gridcolor": "white",
            "linecolor": "white",
            "ticks": ""
           }
          },
          "scene": {
           "xaxis": {
            "backgroundcolor": "#E5ECF6",
            "gridcolor": "white",
            "gridwidth": 2,
            "linecolor": "white",
            "showbackground": true,
            "ticks": "",
            "zerolinecolor": "white"
           },
           "yaxis": {
            "backgroundcolor": "#E5ECF6",
            "gridcolor": "white",
            "gridwidth": 2,
            "linecolor": "white",
            "showbackground": true,
            "ticks": "",
            "zerolinecolor": "white"
           },
           "zaxis": {
            "backgroundcolor": "#E5ECF6",
            "gridcolor": "white",
            "gridwidth": 2,
            "linecolor": "white",
            "showbackground": true,
            "ticks": "",
            "zerolinecolor": "white"
           }
          },
          "shapedefaults": {
           "line": {
            "color": "#2a3f5f"
           }
          },
          "ternary": {
           "aaxis": {
            "gridcolor": "white",
            "linecolor": "white",
            "ticks": ""
           },
           "baxis": {
            "gridcolor": "white",
            "linecolor": "white",
            "ticks": ""
           },
           "bgcolor": "#E5ECF6",
           "caxis": {
            "gridcolor": "white",
            "linecolor": "white",
            "ticks": ""
           }
          },
          "title": {
           "x": 0.05
          },
          "xaxis": {
           "automargin": true,
           "gridcolor": "white",
           "linecolor": "white",
           "ticks": "",
           "title": {
            "standoff": 15
           },
           "zerolinecolor": "white",
           "zerolinewidth": 2
          },
          "yaxis": {
           "automargin": true,
           "gridcolor": "white",
           "linecolor": "white",
           "ticks": "",
           "title": {
            "standoff": 15
           },
           "zerolinecolor": "white",
           "zerolinewidth": 2
          }
         }
        }
       }
      },
      "text/html": [
       "<div>\n",
       "        \n",
       "        \n",
       "            <div id=\"9af7091c-dbce-46ad-876a-bbbecc0a8c48\" class=\"plotly-graph-div\" style=\"height:525px; width:100%;\"></div>\n",
       "            <script type=\"text/javascript\">\n",
       "                require([\"plotly\"], function(Plotly) {\n",
       "                    window.PLOTLYENV=window.PLOTLYENV || {};\n",
       "                    \n",
       "                if (document.getElementById(\"9af7091c-dbce-46ad-876a-bbbecc0a8c48\")) {\n",
       "                    Plotly.newPlot(\n",
       "                        '9af7091c-dbce-46ad-876a-bbbecc0a8c48',\n",
       "                        [{\"name\": \"ROE_Tesla\", \"type\": \"scatter\", \"x\": [\"2012\", \"2013\", \"2014\", \"2015\", \"2016\", \"2017\", \"2018\", \"2019\"], \"y\": [-3.17733, -0.110946, -0.322515, -0.816078, -0.142, -0.462895, -0.198262, -0.130251]}, {\"name\": \"ROE_GM\", \"type\": \"scatter\", \"x\": [\"2012\", \"2013\", \"2014\", \"2015\", \"2016\", \"2017\", \"2018\", \"2019\"], \"y\": [0.170732, 0.125472, 0.111374, 0.242959, 0.215052, -0.110397, 0.206227, 0.161083]}],\n",
       "                        {\"annotations\": [{\"font\": {\"color\": \"rgb(37,37,37)\", \"family\": \"Arial\", \"size\": 30}, \"showarrow\": false, \"text\": \"ROE: Tesla vs. General Motors\", \"x\": 0.0, \"xanchor\": \"left\", \"xref\": \"paper\", \"y\": 1.05, \"yanchor\": \"bottom\", \"yref\": \"paper\"}, {\"text\": \"2013: Tesla -11.09%\", \"x\": 2013, \"y\": -0.1}, {\"text\": \"2019: Tesla -13.03%\", \"x\": 2019, \"y\": -0.1}, {\"text\": \"2019: GM 16.11%\", \"x\": 2019, \"y\": 0.2}], \"template\": {\"data\": {\"bar\": [{\"error_x\": {\"color\": \"#2a3f5f\"}, \"error_y\": {\"color\": \"#2a3f5f\"}, \"marker\": {\"line\": {\"color\": \"#E5ECF6\", \"width\": 0.5}}, \"type\": \"bar\"}], \"barpolar\": [{\"marker\": {\"line\": {\"color\": \"#E5ECF6\", \"width\": 0.5}}, \"type\": \"barpolar\"}], \"carpet\": [{\"aaxis\": {\"endlinecolor\": \"#2a3f5f\", \"gridcolor\": \"white\", \"linecolor\": \"white\", \"minorgridcolor\": \"white\", \"startlinecolor\": \"#2a3f5f\"}, \"baxis\": {\"endlinecolor\": \"#2a3f5f\", \"gridcolor\": \"white\", \"linecolor\": \"white\", \"minorgridcolor\": \"white\", \"startlinecolor\": \"#2a3f5f\"}, \"type\": \"carpet\"}], \"choropleth\": [{\"colorbar\": {\"outlinewidth\": 0, \"ticks\": \"\"}, \"type\": \"choropleth\"}], \"contour\": [{\"colorbar\": {\"outlinewidth\": 0, \"ticks\": \"\"}, \"colorscale\": [[0.0, \"#0d0887\"], [0.1111111111111111, \"#46039f\"], [0.2222222222222222, \"#7201a8\"], [0.3333333333333333, \"#9c179e\"], [0.4444444444444444, \"#bd3786\"], [0.5555555555555556, \"#d8576b\"], [0.6666666666666666, \"#ed7953\"], [0.7777777777777778, \"#fb9f3a\"], [0.8888888888888888, \"#fdca26\"], [1.0, \"#f0f921\"]], \"type\": \"contour\"}], \"contourcarpet\": [{\"colorbar\": {\"outlinewidth\": 0, \"ticks\": \"\"}, \"type\": \"contourcarpet\"}], \"heatmap\": [{\"colorbar\": {\"outlinewidth\": 0, \"ticks\": \"\"}, \"colorscale\": [[0.0, \"#0d0887\"], [0.1111111111111111, \"#46039f\"], [0.2222222222222222, \"#7201a8\"], [0.3333333333333333, \"#9c179e\"], [0.4444444444444444, \"#bd3786\"], [0.5555555555555556, \"#d8576b\"], [0.6666666666666666, \"#ed7953\"], [0.7777777777777778, \"#fb9f3a\"], [0.8888888888888888, \"#fdca26\"], [1.0, \"#f0f921\"]], \"type\": \"heatmap\"}], \"heatmapgl\": [{\"colorbar\": {\"outlinewidth\": 0, \"ticks\": \"\"}, \"colorscale\": [[0.0, \"#0d0887\"], [0.1111111111111111, \"#46039f\"], [0.2222222222222222, \"#7201a8\"], [0.3333333333333333, \"#9c179e\"], [0.4444444444444444, \"#bd3786\"], [0.5555555555555556, \"#d8576b\"], [0.6666666666666666, \"#ed7953\"], [0.7777777777777778, \"#fb9f3a\"], [0.8888888888888888, \"#fdca26\"], [1.0, \"#f0f921\"]], \"type\": \"heatmapgl\"}], \"histogram\": [{\"marker\": {\"colorbar\": {\"outlinewidth\": 0, \"ticks\": \"\"}}, \"type\": \"histogram\"}], \"histogram2d\": [{\"colorbar\": {\"outlinewidth\": 0, \"ticks\": \"\"}, \"colorscale\": [[0.0, \"#0d0887\"], [0.1111111111111111, \"#46039f\"], [0.2222222222222222, \"#7201a8\"], [0.3333333333333333, \"#9c179e\"], [0.4444444444444444, \"#bd3786\"], [0.5555555555555556, \"#d8576b\"], [0.6666666666666666, \"#ed7953\"], [0.7777777777777778, \"#fb9f3a\"], [0.8888888888888888, \"#fdca26\"], [1.0, \"#f0f921\"]], \"type\": \"histogram2d\"}], \"histogram2dcontour\": [{\"colorbar\": {\"outlinewidth\": 0, \"ticks\": \"\"}, \"colorscale\": [[0.0, \"#0d0887\"], [0.1111111111111111, \"#46039f\"], [0.2222222222222222, \"#7201a8\"], [0.3333333333333333, \"#9c179e\"], [0.4444444444444444, \"#bd3786\"], [0.5555555555555556, \"#d8576b\"], [0.6666666666666666, \"#ed7953\"], [0.7777777777777778, \"#fb9f3a\"], [0.8888888888888888, \"#fdca26\"], [1.0, \"#f0f921\"]], \"type\": \"histogram2dcontour\"}], \"mesh3d\": [{\"colorbar\": {\"outlinewidth\": 0, \"ticks\": \"\"}, \"type\": \"mesh3d\"}], \"parcoords\": [{\"line\": {\"colorbar\": {\"outlinewidth\": 0, \"ticks\": \"\"}}, \"type\": \"parcoords\"}], \"pie\": [{\"automargin\": true, \"type\": \"pie\"}], \"scatter\": [{\"marker\": {\"colorbar\": {\"outlinewidth\": 0, \"ticks\": \"\"}}, \"type\": \"scatter\"}], \"scatter3d\": [{\"line\": {\"colorbar\": {\"outlinewidth\": 0, \"ticks\": \"\"}}, \"marker\": {\"colorbar\": {\"outlinewidth\": 0, \"ticks\": \"\"}}, \"type\": \"scatter3d\"}], \"scattercarpet\": [{\"marker\": {\"colorbar\": {\"outlinewidth\": 0, \"ticks\": \"\"}}, \"type\": \"scattercarpet\"}], \"scattergeo\": [{\"marker\": {\"colorbar\": {\"outlinewidth\": 0, \"ticks\": \"\"}}, \"type\": \"scattergeo\"}], \"scattergl\": [{\"marker\": {\"colorbar\": {\"outlinewidth\": 0, \"ticks\": \"\"}}, \"type\": \"scattergl\"}], \"scattermapbox\": [{\"marker\": {\"colorbar\": {\"outlinewidth\": 0, \"ticks\": \"\"}}, \"type\": \"scattermapbox\"}], \"scatterpolar\": [{\"marker\": {\"colorbar\": {\"outlinewidth\": 0, \"ticks\": \"\"}}, \"type\": \"scatterpolar\"}], \"scatterpolargl\": [{\"marker\": {\"colorbar\": {\"outlinewidth\": 0, \"ticks\": \"\"}}, \"type\": \"scatterpolargl\"}], \"scatterternary\": [{\"marker\": {\"colorbar\": {\"outlinewidth\": 0, \"ticks\": \"\"}}, \"type\": \"scatterternary\"}], \"surface\": [{\"colorbar\": {\"outlinewidth\": 0, \"ticks\": \"\"}, \"colorscale\": [[0.0, \"#0d0887\"], [0.1111111111111111, \"#46039f\"], [0.2222222222222222, \"#7201a8\"], [0.3333333333333333, \"#9c179e\"], [0.4444444444444444, \"#bd3786\"], [0.5555555555555556, \"#d8576b\"], [0.6666666666666666, \"#ed7953\"], [0.7777777777777778, \"#fb9f3a\"], [0.8888888888888888, \"#fdca26\"], [1.0, \"#f0f921\"]], \"type\": \"surface\"}], \"table\": [{\"cells\": {\"fill\": {\"color\": \"#EBF0F8\"}, \"line\": {\"color\": \"white\"}}, \"header\": {\"fill\": {\"color\": \"#C8D4E3\"}, \"line\": {\"color\": \"white\"}}, \"type\": \"table\"}]}, \"layout\": {\"annotationdefaults\": {\"arrowcolor\": \"#2a3f5f\", \"arrowhead\": 0, \"arrowwidth\": 1}, \"coloraxis\": {\"colorbar\": {\"outlinewidth\": 0, \"ticks\": \"\"}}, \"colorscale\": {\"diverging\": [[0, \"#8e0152\"], [0.1, \"#c51b7d\"], [0.2, \"#de77ae\"], [0.3, \"#f1b6da\"], [0.4, \"#fde0ef\"], [0.5, \"#f7f7f7\"], [0.6, \"#e6f5d0\"], [0.7, \"#b8e186\"], [0.8, \"#7fbc41\"], [0.9, \"#4d9221\"], [1, \"#276419\"]], \"sequential\": [[0.0, \"#0d0887\"], [0.1111111111111111, \"#46039f\"], [0.2222222222222222, \"#7201a8\"], [0.3333333333333333, \"#9c179e\"], [0.4444444444444444, \"#bd3786\"], [0.5555555555555556, \"#d8576b\"], [0.6666666666666666, \"#ed7953\"], [0.7777777777777778, \"#fb9f3a\"], [0.8888888888888888, \"#fdca26\"], [1.0, \"#f0f921\"]], \"sequentialminus\": [[0.0, \"#0d0887\"], [0.1111111111111111, \"#46039f\"], [0.2222222222222222, \"#7201a8\"], [0.3333333333333333, \"#9c179e\"], [0.4444444444444444, \"#bd3786\"], [0.5555555555555556, \"#d8576b\"], [0.6666666666666666, \"#ed7953\"], [0.7777777777777778, \"#fb9f3a\"], [0.8888888888888888, \"#fdca26\"], [1.0, \"#f0f921\"]]}, \"colorway\": [\"#636efa\", \"#EF553B\", \"#00cc96\", \"#ab63fa\", \"#FFA15A\", \"#19d3f3\", \"#FF6692\", \"#B6E880\", \"#FF97FF\", \"#FECB52\"], \"font\": {\"color\": \"#2a3f5f\"}, \"geo\": {\"bgcolor\": \"white\", \"lakecolor\": \"white\", \"landcolor\": \"#E5ECF6\", \"showlakes\": true, \"showland\": true, \"subunitcolor\": \"white\"}, \"hoverlabel\": {\"align\": \"left\"}, \"hovermode\": \"closest\", \"mapbox\": {\"style\": \"light\"}, \"paper_bgcolor\": \"white\", \"plot_bgcolor\": \"#E5ECF6\", \"polar\": {\"angularaxis\": {\"gridcolor\": \"white\", \"linecolor\": \"white\", \"ticks\": \"\"}, \"bgcolor\": \"#E5ECF6\", \"radialaxis\": {\"gridcolor\": \"white\", \"linecolor\": \"white\", \"ticks\": \"\"}}, \"scene\": {\"xaxis\": {\"backgroundcolor\": \"#E5ECF6\", \"gridcolor\": \"white\", \"gridwidth\": 2, \"linecolor\": \"white\", \"showbackground\": true, \"ticks\": \"\", \"zerolinecolor\": \"white\"}, \"yaxis\": {\"backgroundcolor\": \"#E5ECF6\", \"gridcolor\": \"white\", \"gridwidth\": 2, \"linecolor\": \"white\", \"showbackground\": true, \"ticks\": \"\", \"zerolinecolor\": \"white\"}, \"zaxis\": {\"backgroundcolor\": \"#E5ECF6\", \"gridcolor\": \"white\", \"gridwidth\": 2, \"linecolor\": \"white\", \"showbackground\": true, \"ticks\": \"\", \"zerolinecolor\": \"white\"}}, \"shapedefaults\": {\"line\": {\"color\": \"#2a3f5f\"}}, \"ternary\": {\"aaxis\": {\"gridcolor\": \"white\", \"linecolor\": \"white\", \"ticks\": \"\"}, \"baxis\": {\"gridcolor\": \"white\", \"linecolor\": \"white\", \"ticks\": \"\"}, \"bgcolor\": \"#E5ECF6\", \"caxis\": {\"gridcolor\": \"white\", \"linecolor\": \"white\", \"ticks\": \"\"}}, \"title\": {\"x\": 0.05}, \"xaxis\": {\"automargin\": true, \"gridcolor\": \"white\", \"linecolor\": \"white\", \"ticks\": \"\", \"title\": {\"standoff\": 15}, \"zerolinecolor\": \"white\", \"zerolinewidth\": 2}, \"yaxis\": {\"automargin\": true, \"gridcolor\": \"white\", \"linecolor\": \"white\", \"ticks\": \"\", \"title\": {\"standoff\": 15}, \"zerolinecolor\": \"white\", \"zerolinewidth\": 2}}}},\n",
       "                        {\"responsive\": true}\n",
       "                    ).then(function(){\n",
       "                            \n",
       "var gd = document.getElementById('9af7091c-dbce-46ad-876a-bbbecc0a8c48');\n",
       "var x = new MutationObserver(function (mutations, observer) {{\n",
       "        var display = window.getComputedStyle(gd).display;\n",
       "        if (!display || display === 'none') {{\n",
       "            console.log([gd, 'removed!']);\n",
       "            Plotly.purge(gd);\n",
       "            observer.disconnect();\n",
       "        }}\n",
       "}});\n",
       "\n",
       "// Listen for the removal of the full notebook cells\n",
       "var notebookContainer = gd.closest('#notebook-container');\n",
       "if (notebookContainer) {{\n",
       "    x.observe(notebookContainer, {childList: true});\n",
       "}}\n",
       "\n",
       "// Listen for the clearing of the current output cell\n",
       "var outputEl = gd.closest('.output');\n",
       "if (outputEl) {{\n",
       "    x.observe(outputEl, {childList: true});\n",
       "}}\n",
       "\n",
       "                        })\n",
       "                };\n",
       "                });\n",
       "            </script>\n",
       "        </div>"
      ]
     },
     "metadata": {},
     "output_type": "display_data"
    }
   ],
   "source": [
    "fig = go.Figure()\n",
    "fig.add_trace(go.Scatter(x=roe_tesla[\"Year\"], y=roe_tesla[\"ROE_Tesla\"],\n",
    "                        name = \"ROE_Tesla\"))\n",
    "fig.add_trace(go.Scatter(x=roe_GM[\"Year\"], y=roe_GM[\"ROE_GM\"],\n",
    "                        name = \"ROE_GM\"))\n",
    "annotation = []\n",
    "annotation.append(dict(xref='paper', yref='paper', x=0.0, y=1.05,\n",
    "                              xanchor='left', yanchor='bottom',\n",
    "                              text='ROE: Tesla vs. General Motors',\n",
    "                              font=dict(family='Arial',\n",
    "                                        size=30,\n",
    "                                        color='rgb(37,37,37)'),\n",
    "                              showarrow=False))\n",
    "fig.update_layout(annotations=annotation)\n",
    "fig.add_annotation(\n",
    "            x=2013,\n",
    "            y=-0.1,\n",
    "            text=\"2013: Tesla -11.09%\")\n",
    "fig.add_annotation(\n",
    "            x=2019,\n",
    "            y=-0.1,\n",
    "            text=\"2019: Tesla -13.03%\")\n",
    "fig.add_annotation(\n",
    "            x=2019,\n",
    "            y=0.2,\n",
    "            text=\"2019: GM 16.11%\")\n",
    "fig.show()"
   ]
  },
  {
   "cell_type": "code",
   "execution_count": 224,
   "metadata": {},
   "outputs": [
    {
     "data": {
      "application/vnd.plotly.v1+json": {
       "config": {
        "plotlyServerURL": "https://plot.ly"
       },
       "data": [
        {
         "delta": {
          "reference": 2900000000
         },
         "domain": {
          "x": [
           0.25,
           1
          ],
          "y": [
           0.08,
           0.25
          ]
         },
         "gauge": {
          "axis": {
           "range": [
            null,
            35000000000
           ]
          },
          "bar": {
           "color": "black"
          },
          "shape": "bullet",
          "steps": [
           {
            "color": "gray",
            "range": [
             0,
             6618000000
            ]
           },
           {
            "color": "lightgray",
            "range": [
             6618000000,
             34309000000
            ]
           }
          ],
          "threshold": {
           "line": {
            "color": "black",
            "width": 2
           },
           "thickness": 0.75,
           "value": 27000000000
          }
         },
         "mode": "number+gauge+delta",
         "title": {
          "text": "Tesla Debt 2019"
         },
         "type": "indicator",
         "value": 26842000000
        },
        {
         "delta": {
          "reference": 184562000000
         },
         "domain": {
          "x": [
           0.25,
           1
          ],
          "y": [
           0.4,
           0.6
          ]
         },
         "gauge": {
          "axis": {
           "range": [
            null,
            250000000000
           ]
          },
          "bar": {
           "color": "black"
          },
          "shape": "bullet",
          "steps": [
           {
            "color": "gray",
            "range": [
             0,
             41792000000
            ]
           },
           {
            "color": "lightgray",
            "range": [
             41792000000,
             228037000000
            ]
           }
          ],
          "threshold": {
           "line": {
            "color": "black",
            "width": 2
           },
           "thickness": 0.75,
           "value": 185000000000
          }
         },
         "mode": "number+gauge+delta",
         "title": {
          "text": "GM Debt 2019"
         },
         "type": "indicator",
         "value": 182080000000
        }
       ],
       "layout": {
        "template": {
         "data": {
          "bar": [
           {
            "error_x": {
             "color": "#2a3f5f"
            },
            "error_y": {
             "color": "#2a3f5f"
            },
            "marker": {
             "line": {
              "color": "#E5ECF6",
              "width": 0.5
             }
            },
            "type": "bar"
           }
          ],
          "barpolar": [
           {
            "marker": {
             "line": {
              "color": "#E5ECF6",
              "width": 0.5
             }
            },
            "type": "barpolar"
           }
          ],
          "carpet": [
           {
            "aaxis": {
             "endlinecolor": "#2a3f5f",
             "gridcolor": "white",
             "linecolor": "white",
             "minorgridcolor": "white",
             "startlinecolor": "#2a3f5f"
            },
            "baxis": {
             "endlinecolor": "#2a3f5f",
             "gridcolor": "white",
             "linecolor": "white",
             "minorgridcolor": "white",
             "startlinecolor": "#2a3f5f"
            },
            "type": "carpet"
           }
          ],
          "choropleth": [
           {
            "colorbar": {
             "outlinewidth": 0,
             "ticks": ""
            },
            "type": "choropleth"
           }
          ],
          "contour": [
           {
            "colorbar": {
             "outlinewidth": 0,
             "ticks": ""
            },
            "colorscale": [
             [
              0,
              "#0d0887"
             ],
             [
              0.1111111111111111,
              "#46039f"
             ],
             [
              0.2222222222222222,
              "#7201a8"
             ],
             [
              0.3333333333333333,
              "#9c179e"
             ],
             [
              0.4444444444444444,
              "#bd3786"
             ],
             [
              0.5555555555555556,
              "#d8576b"
             ],
             [
              0.6666666666666666,
              "#ed7953"
             ],
             [
              0.7777777777777778,
              "#fb9f3a"
             ],
             [
              0.8888888888888888,
              "#fdca26"
             ],
             [
              1,
              "#f0f921"
             ]
            ],
            "type": "contour"
           }
          ],
          "contourcarpet": [
           {
            "colorbar": {
             "outlinewidth": 0,
             "ticks": ""
            },
            "type": "contourcarpet"
           }
          ],
          "heatmap": [
           {
            "colorbar": {
             "outlinewidth": 0,
             "ticks": ""
            },
            "colorscale": [
             [
              0,
              "#0d0887"
             ],
             [
              0.1111111111111111,
              "#46039f"
             ],
             [
              0.2222222222222222,
              "#7201a8"
             ],
             [
              0.3333333333333333,
              "#9c179e"
             ],
             [
              0.4444444444444444,
              "#bd3786"
             ],
             [
              0.5555555555555556,
              "#d8576b"
             ],
             [
              0.6666666666666666,
              "#ed7953"
             ],
             [
              0.7777777777777778,
              "#fb9f3a"
             ],
             [
              0.8888888888888888,
              "#fdca26"
             ],
             [
              1,
              "#f0f921"
             ]
            ],
            "type": "heatmap"
           }
          ],
          "heatmapgl": [
           {
            "colorbar": {
             "outlinewidth": 0,
             "ticks": ""
            },
            "colorscale": [
             [
              0,
              "#0d0887"
             ],
             [
              0.1111111111111111,
              "#46039f"
             ],
             [
              0.2222222222222222,
              "#7201a8"
             ],
             [
              0.3333333333333333,
              "#9c179e"
             ],
             [
              0.4444444444444444,
              "#bd3786"
             ],
             [
              0.5555555555555556,
              "#d8576b"
             ],
             [
              0.6666666666666666,
              "#ed7953"
             ],
             [
              0.7777777777777778,
              "#fb9f3a"
             ],
             [
              0.8888888888888888,
              "#fdca26"
             ],
             [
              1,
              "#f0f921"
             ]
            ],
            "type": "heatmapgl"
           }
          ],
          "histogram": [
           {
            "marker": {
             "colorbar": {
              "outlinewidth": 0,
              "ticks": ""
             }
            },
            "type": "histogram"
           }
          ],
          "histogram2d": [
           {
            "colorbar": {
             "outlinewidth": 0,
             "ticks": ""
            },
            "colorscale": [
             [
              0,
              "#0d0887"
             ],
             [
              0.1111111111111111,
              "#46039f"
             ],
             [
              0.2222222222222222,
              "#7201a8"
             ],
             [
              0.3333333333333333,
              "#9c179e"
             ],
             [
              0.4444444444444444,
              "#bd3786"
             ],
             [
              0.5555555555555556,
              "#d8576b"
             ],
             [
              0.6666666666666666,
              "#ed7953"
             ],
             [
              0.7777777777777778,
              "#fb9f3a"
             ],
             [
              0.8888888888888888,
              "#fdca26"
             ],
             [
              1,
              "#f0f921"
             ]
            ],
            "type": "histogram2d"
           }
          ],
          "histogram2dcontour": [
           {
            "colorbar": {
             "outlinewidth": 0,
             "ticks": ""
            },
            "colorscale": [
             [
              0,
              "#0d0887"
             ],
             [
              0.1111111111111111,
              "#46039f"
             ],
             [
              0.2222222222222222,
              "#7201a8"
             ],
             [
              0.3333333333333333,
              "#9c179e"
             ],
             [
              0.4444444444444444,
              "#bd3786"
             ],
             [
              0.5555555555555556,
              "#d8576b"
             ],
             [
              0.6666666666666666,
              "#ed7953"
             ],
             [
              0.7777777777777778,
              "#fb9f3a"
             ],
             [
              0.8888888888888888,
              "#fdca26"
             ],
             [
              1,
              "#f0f921"
             ]
            ],
            "type": "histogram2dcontour"
           }
          ],
          "mesh3d": [
           {
            "colorbar": {
             "outlinewidth": 0,
             "ticks": ""
            },
            "type": "mesh3d"
           }
          ],
          "parcoords": [
           {
            "line": {
             "colorbar": {
              "outlinewidth": 0,
              "ticks": ""
             }
            },
            "type": "parcoords"
           }
          ],
          "pie": [
           {
            "automargin": true,
            "type": "pie"
           }
          ],
          "scatter": [
           {
            "marker": {
             "colorbar": {
              "outlinewidth": 0,
              "ticks": ""
             }
            },
            "type": "scatter"
           }
          ],
          "scatter3d": [
           {
            "line": {
             "colorbar": {
              "outlinewidth": 0,
              "ticks": ""
             }
            },
            "marker": {
             "colorbar": {
              "outlinewidth": 0,
              "ticks": ""
             }
            },
            "type": "scatter3d"
           }
          ],
          "scattercarpet": [
           {
            "marker": {
             "colorbar": {
              "outlinewidth": 0,
              "ticks": ""
             }
            },
            "type": "scattercarpet"
           }
          ],
          "scattergeo": [
           {
            "marker": {
             "colorbar": {
              "outlinewidth": 0,
              "ticks": ""
             }
            },
            "type": "scattergeo"
           }
          ],
          "scattergl": [
           {
            "marker": {
             "colorbar": {
              "outlinewidth": 0,
              "ticks": ""
             }
            },
            "type": "scattergl"
           }
          ],
          "scattermapbox": [
           {
            "marker": {
             "colorbar": {
              "outlinewidth": 0,
              "ticks": ""
             }
            },
            "type": "scattermapbox"
           }
          ],
          "scatterpolar": [
           {
            "marker": {
             "colorbar": {
              "outlinewidth": 0,
              "ticks": ""
             }
            },
            "type": "scatterpolar"
           }
          ],
          "scatterpolargl": [
           {
            "marker": {
             "colorbar": {
              "outlinewidth": 0,
              "ticks": ""
             }
            },
            "type": "scatterpolargl"
           }
          ],
          "scatterternary": [
           {
            "marker": {
             "colorbar": {
              "outlinewidth": 0,
              "ticks": ""
             }
            },
            "type": "scatterternary"
           }
          ],
          "surface": [
           {
            "colorbar": {
             "outlinewidth": 0,
             "ticks": ""
            },
            "colorscale": [
             [
              0,
              "#0d0887"
             ],
             [
              0.1111111111111111,
              "#46039f"
             ],
             [
              0.2222222222222222,
              "#7201a8"
             ],
             [
              0.3333333333333333,
              "#9c179e"
             ],
             [
              0.4444444444444444,
              "#bd3786"
             ],
             [
              0.5555555555555556,
              "#d8576b"
             ],
             [
              0.6666666666666666,
              "#ed7953"
             ],
             [
              0.7777777777777778,
              "#fb9f3a"
             ],
             [
              0.8888888888888888,
              "#fdca26"
             ],
             [
              1,
              "#f0f921"
             ]
            ],
            "type": "surface"
           }
          ],
          "table": [
           {
            "cells": {
             "fill": {
              "color": "#EBF0F8"
             },
             "line": {
              "color": "white"
             }
            },
            "header": {
             "fill": {
              "color": "#C8D4E3"
             },
             "line": {
              "color": "white"
             }
            },
            "type": "table"
           }
          ]
         },
         "layout": {
          "annotationdefaults": {
           "arrowcolor": "#2a3f5f",
           "arrowhead": 0,
           "arrowwidth": 1
          },
          "coloraxis": {
           "colorbar": {
            "outlinewidth": 0,
            "ticks": ""
           }
          },
          "colorscale": {
           "diverging": [
            [
             0,
             "#8e0152"
            ],
            [
             0.1,
             "#c51b7d"
            ],
            [
             0.2,
             "#de77ae"
            ],
            [
             0.3,
             "#f1b6da"
            ],
            [
             0.4,
             "#fde0ef"
            ],
            [
             0.5,
             "#f7f7f7"
            ],
            [
             0.6,
             "#e6f5d0"
            ],
            [
             0.7,
             "#b8e186"
            ],
            [
             0.8,
             "#7fbc41"
            ],
            [
             0.9,
             "#4d9221"
            ],
            [
             1,
             "#276419"
            ]
           ],
           "sequential": [
            [
             0,
             "#0d0887"
            ],
            [
             0.1111111111111111,
             "#46039f"
            ],
            [
             0.2222222222222222,
             "#7201a8"
            ],
            [
             0.3333333333333333,
             "#9c179e"
            ],
            [
             0.4444444444444444,
             "#bd3786"
            ],
            [
             0.5555555555555556,
             "#d8576b"
            ],
            [
             0.6666666666666666,
             "#ed7953"
            ],
            [
             0.7777777777777778,
             "#fb9f3a"
            ],
            [
             0.8888888888888888,
             "#fdca26"
            ],
            [
             1,
             "#f0f921"
            ]
           ],
           "sequentialminus": [
            [
             0,
             "#0d0887"
            ],
            [
             0.1111111111111111,
             "#46039f"
            ],
            [
             0.2222222222222222,
             "#7201a8"
            ],
            [
             0.3333333333333333,
             "#9c179e"
            ],
            [
             0.4444444444444444,
             "#bd3786"
            ],
            [
             0.5555555555555556,
             "#d8576b"
            ],
            [
             0.6666666666666666,
             "#ed7953"
            ],
            [
             0.7777777777777778,
             "#fb9f3a"
            ],
            [
             0.8888888888888888,
             "#fdca26"
            ],
            [
             1,
             "#f0f921"
            ]
           ]
          },
          "colorway": [
           "#636efa",
           "#EF553B",
           "#00cc96",
           "#ab63fa",
           "#FFA15A",
           "#19d3f3",
           "#FF6692",
           "#B6E880",
           "#FF97FF",
           "#FECB52"
          ],
          "font": {
           "color": "#2a3f5f"
          },
          "geo": {
           "bgcolor": "white",
           "lakecolor": "white",
           "landcolor": "#E5ECF6",
           "showlakes": true,
           "showland": true,
           "subunitcolor": "white"
          },
          "hoverlabel": {
           "align": "left"
          },
          "hovermode": "closest",
          "mapbox": {
           "style": "light"
          },
          "paper_bgcolor": "white",
          "plot_bgcolor": "#E5ECF6",
          "polar": {
           "angularaxis": {
            "gridcolor": "white",
            "linecolor": "white",
            "ticks": ""
           },
           "bgcolor": "#E5ECF6",
           "radialaxis": {
            "gridcolor": "white",
            "linecolor": "white",
            "ticks": ""
           }
          },
          "scene": {
           "xaxis": {
            "backgroundcolor": "#E5ECF6",
            "gridcolor": "white",
            "gridwidth": 2,
            "linecolor": "white",
            "showbackground": true,
            "ticks": "",
            "zerolinecolor": "white"
           },
           "yaxis": {
            "backgroundcolor": "#E5ECF6",
            "gridcolor": "white",
            "gridwidth": 2,
            "linecolor": "white",
            "showbackground": true,
            "ticks": "",
            "zerolinecolor": "white"
           },
           "zaxis": {
            "backgroundcolor": "#E5ECF6",
            "gridcolor": "white",
            "gridwidth": 2,
            "linecolor": "white",
            "showbackground": true,
            "ticks": "",
            "zerolinecolor": "white"
           }
          },
          "shapedefaults": {
           "line": {
            "color": "#2a3f5f"
           }
          },
          "ternary": {
           "aaxis": {
            "gridcolor": "white",
            "linecolor": "white",
            "ticks": ""
           },
           "baxis": {
            "gridcolor": "white",
            "linecolor": "white",
            "ticks": ""
           },
           "bgcolor": "#E5ECF6",
           "caxis": {
            "gridcolor": "white",
            "linecolor": "white",
            "ticks": ""
           }
          },
          "title": {
           "x": 0.05
          },
          "xaxis": {
           "automargin": true,
           "gridcolor": "white",
           "linecolor": "white",
           "ticks": "",
           "title": {
            "standoff": 15
           },
           "zerolinecolor": "white",
           "zerolinewidth": 2
          },
          "yaxis": {
           "automargin": true,
           "gridcolor": "white",
           "linecolor": "white",
           "ticks": "",
           "title": {
            "standoff": 15
           },
           "zerolinecolor": "white",
           "zerolinewidth": 2
          }
         }
        }
       }
      },
      "text/html": [
       "<div>\n",
       "        \n",
       "        \n",
       "            <div id=\"4720339c-66c4-4454-a556-bbabd060184a\" class=\"plotly-graph-div\" style=\"height:525px; width:100%;\"></div>\n",
       "            <script type=\"text/javascript\">\n",
       "                require([\"plotly\"], function(Plotly) {\n",
       "                    window.PLOTLYENV=window.PLOTLYENV || {};\n",
       "                    \n",
       "                if (document.getElementById(\"4720339c-66c4-4454-a556-bbabd060184a\")) {\n",
       "                    Plotly.newPlot(\n",
       "                        '4720339c-66c4-4454-a556-bbabd060184a',\n",
       "                        [{\"delta\": {\"reference\": 2900000000}, \"domain\": {\"x\": [0.25, 1], \"y\": [0.08, 0.25]}, \"gauge\": {\"axis\": {\"range\": [null, 35000000000]}, \"bar\": {\"color\": \"black\"}, \"shape\": \"bullet\", \"steps\": [{\"color\": \"gray\", \"range\": [0, 6618000000]}, {\"color\": \"lightgray\", \"range\": [6618000000, 34309000000]}], \"threshold\": {\"line\": {\"color\": \"black\", \"width\": 2}, \"thickness\": 0.75, \"value\": 27000000000}}, \"mode\": \"number+gauge+delta\", \"title\": {\"text\": \"Tesla Debt 2019\"}, \"type\": \"indicator\", \"value\": 26842000000}, {\"delta\": {\"reference\": 184562000000}, \"domain\": {\"x\": [0.25, 1], \"y\": [0.4, 0.6]}, \"gauge\": {\"axis\": {\"range\": [null, 250000000000]}, \"bar\": {\"color\": \"black\"}, \"shape\": \"bullet\", \"steps\": [{\"color\": \"gray\", \"range\": [0, 41792000000]}, {\"color\": \"lightgray\", \"range\": [41792000000, 228037000000]}], \"threshold\": {\"line\": {\"color\": \"black\", \"width\": 2}, \"thickness\": 0.75, \"value\": 185000000000}}, \"mode\": \"number+gauge+delta\", \"title\": {\"text\": \"GM Debt 2019\"}, \"type\": \"indicator\", \"value\": 182080000000}],\n",
       "                        {\"template\": {\"data\": {\"bar\": [{\"error_x\": {\"color\": \"#2a3f5f\"}, \"error_y\": {\"color\": \"#2a3f5f\"}, \"marker\": {\"line\": {\"color\": \"#E5ECF6\", \"width\": 0.5}}, \"type\": \"bar\"}], \"barpolar\": [{\"marker\": {\"line\": {\"color\": \"#E5ECF6\", \"width\": 0.5}}, \"type\": \"barpolar\"}], \"carpet\": [{\"aaxis\": {\"endlinecolor\": \"#2a3f5f\", \"gridcolor\": \"white\", \"linecolor\": \"white\", \"minorgridcolor\": \"white\", \"startlinecolor\": \"#2a3f5f\"}, \"baxis\": {\"endlinecolor\": \"#2a3f5f\", \"gridcolor\": \"white\", \"linecolor\": \"white\", \"minorgridcolor\": \"white\", \"startlinecolor\": \"#2a3f5f\"}, \"type\": \"carpet\"}], \"choropleth\": [{\"colorbar\": {\"outlinewidth\": 0, \"ticks\": \"\"}, \"type\": \"choropleth\"}], \"contour\": [{\"colorbar\": {\"outlinewidth\": 0, \"ticks\": \"\"}, \"colorscale\": [[0.0, \"#0d0887\"], [0.1111111111111111, \"#46039f\"], [0.2222222222222222, \"#7201a8\"], [0.3333333333333333, \"#9c179e\"], [0.4444444444444444, \"#bd3786\"], [0.5555555555555556, \"#d8576b\"], [0.6666666666666666, \"#ed7953\"], [0.7777777777777778, \"#fb9f3a\"], [0.8888888888888888, \"#fdca26\"], [1.0, \"#f0f921\"]], \"type\": \"contour\"}], \"contourcarpet\": [{\"colorbar\": {\"outlinewidth\": 0, \"ticks\": \"\"}, \"type\": \"contourcarpet\"}], \"heatmap\": [{\"colorbar\": {\"outlinewidth\": 0, \"ticks\": \"\"}, \"colorscale\": [[0.0, \"#0d0887\"], [0.1111111111111111, \"#46039f\"], [0.2222222222222222, \"#7201a8\"], [0.3333333333333333, \"#9c179e\"], [0.4444444444444444, \"#bd3786\"], [0.5555555555555556, \"#d8576b\"], [0.6666666666666666, \"#ed7953\"], [0.7777777777777778, \"#fb9f3a\"], [0.8888888888888888, \"#fdca26\"], [1.0, \"#f0f921\"]], \"type\": \"heatmap\"}], \"heatmapgl\": [{\"colorbar\": {\"outlinewidth\": 0, \"ticks\": \"\"}, \"colorscale\": [[0.0, \"#0d0887\"], [0.1111111111111111, \"#46039f\"], [0.2222222222222222, \"#7201a8\"], [0.3333333333333333, \"#9c179e\"], [0.4444444444444444, \"#bd3786\"], [0.5555555555555556, \"#d8576b\"], [0.6666666666666666, \"#ed7953\"], [0.7777777777777778, \"#fb9f3a\"], [0.8888888888888888, \"#fdca26\"], [1.0, \"#f0f921\"]], \"type\": \"heatmapgl\"}], \"histogram\": [{\"marker\": {\"colorbar\": {\"outlinewidth\": 0, \"ticks\": \"\"}}, \"type\": \"histogram\"}], \"histogram2d\": [{\"colorbar\": {\"outlinewidth\": 0, \"ticks\": \"\"}, \"colorscale\": [[0.0, \"#0d0887\"], [0.1111111111111111, \"#46039f\"], [0.2222222222222222, \"#7201a8\"], [0.3333333333333333, \"#9c179e\"], [0.4444444444444444, \"#bd3786\"], [0.5555555555555556, \"#d8576b\"], [0.6666666666666666, \"#ed7953\"], [0.7777777777777778, \"#fb9f3a\"], [0.8888888888888888, \"#fdca26\"], [1.0, \"#f0f921\"]], \"type\": \"histogram2d\"}], \"histogram2dcontour\": [{\"colorbar\": {\"outlinewidth\": 0, \"ticks\": \"\"}, \"colorscale\": [[0.0, \"#0d0887\"], [0.1111111111111111, \"#46039f\"], [0.2222222222222222, \"#7201a8\"], [0.3333333333333333, \"#9c179e\"], [0.4444444444444444, \"#bd3786\"], [0.5555555555555556, \"#d8576b\"], [0.6666666666666666, \"#ed7953\"], [0.7777777777777778, \"#fb9f3a\"], [0.8888888888888888, \"#fdca26\"], [1.0, \"#f0f921\"]], \"type\": \"histogram2dcontour\"}], \"mesh3d\": [{\"colorbar\": {\"outlinewidth\": 0, \"ticks\": \"\"}, \"type\": \"mesh3d\"}], \"parcoords\": [{\"line\": {\"colorbar\": {\"outlinewidth\": 0, \"ticks\": \"\"}}, \"type\": \"parcoords\"}], \"pie\": [{\"automargin\": true, \"type\": \"pie\"}], \"scatter\": [{\"marker\": {\"colorbar\": {\"outlinewidth\": 0, \"ticks\": \"\"}}, \"type\": \"scatter\"}], \"scatter3d\": [{\"line\": {\"colorbar\": {\"outlinewidth\": 0, \"ticks\": \"\"}}, \"marker\": {\"colorbar\": {\"outlinewidth\": 0, \"ticks\": \"\"}}, \"type\": \"scatter3d\"}], \"scattercarpet\": [{\"marker\": {\"colorbar\": {\"outlinewidth\": 0, \"ticks\": \"\"}}, \"type\": \"scattercarpet\"}], \"scattergeo\": [{\"marker\": {\"colorbar\": {\"outlinewidth\": 0, \"ticks\": \"\"}}, \"type\": \"scattergeo\"}], \"scattergl\": [{\"marker\": {\"colorbar\": {\"outlinewidth\": 0, \"ticks\": \"\"}}, \"type\": \"scattergl\"}], \"scattermapbox\": [{\"marker\": {\"colorbar\": {\"outlinewidth\": 0, \"ticks\": \"\"}}, \"type\": \"scattermapbox\"}], \"scatterpolar\": [{\"marker\": {\"colorbar\": {\"outlinewidth\": 0, \"ticks\": \"\"}}, \"type\": \"scatterpolar\"}], \"scatterpolargl\": [{\"marker\": {\"colorbar\": {\"outlinewidth\": 0, \"ticks\": \"\"}}, \"type\": \"scatterpolargl\"}], \"scatterternary\": [{\"marker\": {\"colorbar\": {\"outlinewidth\": 0, \"ticks\": \"\"}}, \"type\": \"scatterternary\"}], \"surface\": [{\"colorbar\": {\"outlinewidth\": 0, \"ticks\": \"\"}, \"colorscale\": [[0.0, \"#0d0887\"], [0.1111111111111111, \"#46039f\"], [0.2222222222222222, \"#7201a8\"], [0.3333333333333333, \"#9c179e\"], [0.4444444444444444, \"#bd3786\"], [0.5555555555555556, \"#d8576b\"], [0.6666666666666666, \"#ed7953\"], [0.7777777777777778, \"#fb9f3a\"], [0.8888888888888888, \"#fdca26\"], [1.0, \"#f0f921\"]], \"type\": \"surface\"}], \"table\": [{\"cells\": {\"fill\": {\"color\": \"#EBF0F8\"}, \"line\": {\"color\": \"white\"}}, \"header\": {\"fill\": {\"color\": \"#C8D4E3\"}, \"line\": {\"color\": \"white\"}}, \"type\": \"table\"}]}, \"layout\": {\"annotationdefaults\": {\"arrowcolor\": \"#2a3f5f\", \"arrowhead\": 0, \"arrowwidth\": 1}, \"coloraxis\": {\"colorbar\": {\"outlinewidth\": 0, \"ticks\": \"\"}}, \"colorscale\": {\"diverging\": [[0, \"#8e0152\"], [0.1, \"#c51b7d\"], [0.2, \"#de77ae\"], [0.3, \"#f1b6da\"], [0.4, \"#fde0ef\"], [0.5, \"#f7f7f7\"], [0.6, \"#e6f5d0\"], [0.7, \"#b8e186\"], [0.8, \"#7fbc41\"], [0.9, \"#4d9221\"], [1, \"#276419\"]], \"sequential\": [[0.0, \"#0d0887\"], [0.1111111111111111, \"#46039f\"], [0.2222222222222222, \"#7201a8\"], [0.3333333333333333, \"#9c179e\"], [0.4444444444444444, \"#bd3786\"], [0.5555555555555556, \"#d8576b\"], [0.6666666666666666, \"#ed7953\"], [0.7777777777777778, \"#fb9f3a\"], [0.8888888888888888, \"#fdca26\"], [1.0, \"#f0f921\"]], \"sequentialminus\": [[0.0, \"#0d0887\"], [0.1111111111111111, \"#46039f\"], [0.2222222222222222, \"#7201a8\"], [0.3333333333333333, \"#9c179e\"], [0.4444444444444444, \"#bd3786\"], [0.5555555555555556, \"#d8576b\"], [0.6666666666666666, \"#ed7953\"], [0.7777777777777778, \"#fb9f3a\"], [0.8888888888888888, \"#fdca26\"], [1.0, \"#f0f921\"]]}, \"colorway\": [\"#636efa\", \"#EF553B\", \"#00cc96\", \"#ab63fa\", \"#FFA15A\", \"#19d3f3\", \"#FF6692\", \"#B6E880\", \"#FF97FF\", \"#FECB52\"], \"font\": {\"color\": \"#2a3f5f\"}, \"geo\": {\"bgcolor\": \"white\", \"lakecolor\": \"white\", \"landcolor\": \"#E5ECF6\", \"showlakes\": true, \"showland\": true, \"subunitcolor\": \"white\"}, \"hoverlabel\": {\"align\": \"left\"}, \"hovermode\": \"closest\", \"mapbox\": {\"style\": \"light\"}, \"paper_bgcolor\": \"white\", \"plot_bgcolor\": \"#E5ECF6\", \"polar\": {\"angularaxis\": {\"gridcolor\": \"white\", \"linecolor\": \"white\", \"ticks\": \"\"}, \"bgcolor\": \"#E5ECF6\", \"radialaxis\": {\"gridcolor\": \"white\", \"linecolor\": \"white\", \"ticks\": \"\"}}, \"scene\": {\"xaxis\": {\"backgroundcolor\": \"#E5ECF6\", \"gridcolor\": \"white\", \"gridwidth\": 2, \"linecolor\": \"white\", \"showbackground\": true, \"ticks\": \"\", \"zerolinecolor\": \"white\"}, \"yaxis\": {\"backgroundcolor\": \"#E5ECF6\", \"gridcolor\": \"white\", \"gridwidth\": 2, \"linecolor\": \"white\", \"showbackground\": true, \"ticks\": \"\", \"zerolinecolor\": \"white\"}, \"zaxis\": {\"backgroundcolor\": \"#E5ECF6\", \"gridcolor\": \"white\", \"gridwidth\": 2, \"linecolor\": \"white\", \"showbackground\": true, \"ticks\": \"\", \"zerolinecolor\": \"white\"}}, \"shapedefaults\": {\"line\": {\"color\": \"#2a3f5f\"}}, \"ternary\": {\"aaxis\": {\"gridcolor\": \"white\", \"linecolor\": \"white\", \"ticks\": \"\"}, \"baxis\": {\"gridcolor\": \"white\", \"linecolor\": \"white\", \"ticks\": \"\"}, \"bgcolor\": \"#E5ECF6\", \"caxis\": {\"gridcolor\": \"white\", \"linecolor\": \"white\", \"ticks\": \"\"}}, \"title\": {\"x\": 0.05}, \"xaxis\": {\"automargin\": true, \"gridcolor\": \"white\", \"linecolor\": \"white\", \"ticks\": \"\", \"title\": {\"standoff\": 15}, \"zerolinecolor\": \"white\", \"zerolinewidth\": 2}, \"yaxis\": {\"automargin\": true, \"gridcolor\": \"white\", \"linecolor\": \"white\", \"ticks\": \"\", \"title\": {\"standoff\": 15}, \"zerolinecolor\": \"white\", \"zerolinewidth\": 2}}}},\n",
       "                        {\"responsive\": true}\n",
       "                    ).then(function(){\n",
       "                            \n",
       "var gd = document.getElementById('4720339c-66c4-4454-a556-bbabd060184a');\n",
       "var x = new MutationObserver(function (mutations, observer) {{\n",
       "        var display = window.getComputedStyle(gd).display;\n",
       "        if (!display || display === 'none') {{\n",
       "            console.log([gd, 'removed!']);\n",
       "            Plotly.purge(gd);\n",
       "            observer.disconnect();\n",
       "        }}\n",
       "}});\n",
       "\n",
       "// Listen for the removal of the full notebook cells\n",
       "var notebookContainer = gd.closest('#notebook-container');\n",
       "if (notebookContainer) {{\n",
       "    x.observe(notebookContainer, {childList: true});\n",
       "}}\n",
       "\n",
       "// Listen for the clearing of the current output cell\n",
       "var outputEl = gd.closest('.output');\n",
       "if (outputEl) {{\n",
       "    x.observe(outputEl, {childList: true});\n",
       "}}\n",
       "\n",
       "                        })\n",
       "                };\n",
       "                });\n",
       "            </script>\n",
       "        </div>"
      ]
     },
     "metadata": {},
     "output_type": "display_data"
    }
   ],
   "source": [
    "fig = go.Figure()\n",
    "\n",
    "fig.add_trace(go.Indicator(\n",
    "    mode = \"number+gauge+delta\", value = 26842000000,\n",
    "    delta = {'reference': 2900000000},\n",
    "    domain = {'x': [0.25, 1], 'y': [0.08, 0.25]},\n",
    "    title = {'text': \"Tesla Debt 2019\"},\n",
    "    gauge = {\n",
    "        'shape': \"bullet\",\n",
    "        'axis': {'range': [None, 35000000000]},\n",
    "        'threshold': {\n",
    "            'line': {'color': \"black\", 'width': 2},\n",
    "            'thickness': 0.75,\n",
    "            'value': 27000000000},\n",
    "        'steps': [\n",
    "            {'range': [0, 6618000000], 'color': \"gray\"},\n",
    "            {'range': [6618000000, 34309000000], 'color': \"lightgray\"}],\n",
    "        'bar': {'color': \"black\"}}))\n",
    "\n",
    "fig.add_trace(go.Indicator(\n",
    "    mode = \"number+gauge+delta\", value = 182080000000,\n",
    "    delta = {'reference': 184562000000},\n",
    "    domain = {'x': [0.25, 1], 'y': [0.4, 0.6]},\n",
    "    title = {'text': \"GM Debt 2019\"},\n",
    "    gauge = {\n",
    "        'shape': \"bullet\",\n",
    "        'axis': {'range': [None, 250000000000]},\n",
    "        'threshold': {\n",
    "            'line': {'color': \"black\", 'width': 2},\n",
    "            'thickness': 0.75,\n",
    "            'value': 185000000000},\n",
    "        'steps': [\n",
    "            {'range': [0, 41792000000], 'color': \"gray\"},\n",
    "            {'range': [41792000000, 228037000000], 'color': \"lightgray\"}],\n",
    "        'bar': {'color': \"black\"}}))"
   ]
  },
  {
   "cell_type": "code",
   "execution_count": null,
   "metadata": {},
   "outputs": [],
   "source": []
  }
 ],
 "metadata": {
  "kernelspec": {
   "display_name": "Python 3",
   "language": "python",
   "name": "python3"
  },
  "language_info": {
   "codemirror_mode": {
    "name": "ipython",
    "version": 3
   },
   "file_extension": ".py",
   "mimetype": "text/x-python",
   "name": "python",
   "nbconvert_exporter": "python",
   "pygments_lexer": "ipython3",
   "version": "3.7.4"
  }
 },
 "nbformat": 4,
 "nbformat_minor": 2
}
